{
 "cells": [
  {
   "cell_type": "markdown",
   "metadata": {},
   "source": [
    "###### Content provided under a Creative Commons Attribution license, CC-BY 4.0; code under MIT License. (c)2018 Lorena A. Barba, Olivier Mesnard. Thanks: Microsoft Azure Sponsorship."
   ]
  },
  {
   "cell_type": "markdown",
   "metadata": {},
   "source": [
    "# Microsoft Azure Sponsorship: Cost Analysis"
   ]
  },
  {
   "cell_type": "code",
   "execution_count": 1,
   "metadata": {},
   "outputs": [
    {
     "data": {
      "text/html": [
       "<link href='http://fonts.googleapis.com/css?family=Fenix' rel='stylesheet' type='text/css'>\n",
       "<link href='http://fonts.googleapis.com/css?family=Alegreya+Sans:100,300,400,500,700,800,900,100italic,300italic,400italic,500italic,700italic,800italic,900italic' rel='stylesheet' type='text/css'>\n",
       "<link href='http://fonts.googleapis.com/css?family=Source+Code+Pro:300,400' rel='stylesheet' type='text/css'>\n",
       "<style>\n",
       "\n",
       "@font-face {\n",
       "    font-family: \"Computer Modern\";\n",
       "    src: url('http://mirrors.ctan.org/fonts/cm-unicode/fonts/otf/cmunss.otf');\n",
       "}\n",
       "\n",
       "\n",
       "#notebook_panel { /* main background */\n",
       "    background: rgb(245,245,245);\n",
       "}\n",
       "\n",
       "div.cell { /* set cell width */\n",
       "    width: 750px;\n",
       "}\n",
       "\n",
       "div #notebook { /* centre the content */\n",
       "    background: #fff; /* white background for content */\n",
       "    width: 1000px;\n",
       "    margin: auto;\n",
       "    padding-left: 0em;\n",
       "}\n",
       "\n",
       "#notebook li { /* More space between bullet points */\n",
       "margin-top:0.8em;\n",
       "}\n",
       "\n",
       "/* draw border around running cells */\n",
       "div.cell.border-box-sizing.code_cell.running { \n",
       "    border: 1px solid #111;\n",
       "}\n",
       "\n",
       "/* Put a solid color box around each cell and its output, visually linking them*/\n",
       "div.cell.code_cell {\n",
       "    background-color: rgb(256,256,256); \n",
       "    border-radius: 0px; \n",
       "    padding: 0.5em;\n",
       "    margin-left:1em;\n",
       "    margin-top: 1em;\n",
       "}\n",
       "\n",
       "\n",
       "div.text_cell_render{\n",
       "    font-family: 'Alegreya Sans' sans-serif;\n",
       "    line-height: 140%;\n",
       "    font-size: 125%;\n",
       "    font-weight: 400;\n",
       "    width:600px;\n",
       "    margin-left:auto;\n",
       "    margin-right:auto;\n",
       "}\n",
       "\n",
       "/* Formatting for header cells */\n",
       ".text_cell_render h1 {\n",
       "    font-family: 'Alegreya Sans', sans-serif;\n",
       "    font-style:regular;\n",
       "    font-weight: 200;    \n",
       "    font-size: 50pt;\n",
       "    line-height: 100%;\n",
       "    color:#CD2305;\n",
       "    margin-bottom: 0.5em;\n",
       "    margin-top: 0.5em;\n",
       "    display: block;\n",
       "}\t\n",
       ".text_cell_render h2 {\n",
       "    font-family: 'Fenix', serif;\n",
       "    font-size: 22pt;\n",
       "    line-height: 100%;\n",
       "    margin-bottom: 0.1em;\n",
       "    margin-top: 0.3em;\n",
       "    display: block;\n",
       "}\t\n",
       "\n",
       ".text_cell_render h3 {\n",
       "    font-family: 'Fenix', serif;\n",
       "    margin-top:12px;\n",
       "\tfont-size: 16pt;\n",
       "    margin-bottom: 3px;\n",
       "    font-style: regular;\n",
       "}\n",
       "\n",
       ".text_cell_render h4 {    /*Use this for captions*/\n",
       "    font-family: 'Fenix', serif;\n",
       "    font-size: 2pt;\n",
       "    text-align: center;\n",
       "    margin-top: 0em;\n",
       "    margin-bottom: 2em;\n",
       "    font-style: regular;\n",
       "}\n",
       "\n",
       ".text_cell_render h5 {  /*Use this for small titles*/\n",
       "    font-family: 'Alegreya Sans', sans-serif;\n",
       "    font-weight: 300;\n",
       "    font-size: 16pt;\n",
       "    color: #CD2305;\n",
       "    font-style: italic;\n",
       "    margin-bottom: .5em;\n",
       "    margin-top: 0.5em;\n",
       "    display: block;\n",
       "}\n",
       "\n",
       ".text_cell_render h6 { /*use this for copyright note*/\n",
       "    font-family: 'Source Code Pro', sans-serif;\n",
       "    font-weight: 300;\n",
       "    font-size: 9pt;\n",
       "    line-height: 100%;\n",
       "    color: grey;\n",
       "    margin-bottom: 1px;\n",
       "    margin-top: 1px;\n",
       "}\n",
       "\n",
       "    .CodeMirror{\n",
       "            font-family: \"Source Code Pro\";\n",
       "\t\t\tfont-size: 90%;\n",
       "    }\n",
       "/*    .prompt{\n",
       "        display: None;\n",
       "    }*/\n",
       "\t\n",
       "    \n",
       "    .warning{\n",
       "        color: rgb( 240, 20, 20 )\n",
       "        }  \n",
       "</style>\n",
       "<script>\n",
       "    MathJax.Hub.Config({\n",
       "                        TeX: {\n",
       "                           extensions: [\"AMSmath.js\"], \n",
       "                           equationNumbers: { autoNumber: \"AMS\", useLabelIds: true}\n",
       "                           },\n",
       "                tex2jax: {\n",
       "                    inlineMath: [ ['$','$'], [\"\\\\(\",\"\\\\)\"] ],\n",
       "                    displayMath: [ ['$$','$$'], [\"\\\\[\",\"\\\\]\"] ]\n",
       "                },\n",
       "                displayAlign: 'center', // Change this to 'center' to center equations.\n",
       "                \"HTML-CSS\": {\n",
       "                    styles: {'.MathJax_Display': {\"margin\": 4}}\n",
       "                }\n",
       "        });\n",
       "</script>\n"
      ],
      "text/plain": [
       "<IPython.core.display.HTML object>"
      ]
     },
     "metadata": {},
     "output_type": "display_data"
    }
   ],
   "source": [
    "import os\n",
    "import pandas\n",
    "import numpy\n",
    "from matplotlib import pyplot\n",
    "%matplotlib inline\n",
    "pyplot.style.use('seaborn-dark')\n",
    "\n",
    "# load style of notebook\n",
    "from IPython.core.display import HTML\n",
    "def css_styling(filepath):\n",
    "    styles = open(filepath, 'r').read()\n",
    "    return HTML(styles)\n",
    "display(css_styling(os.path.join('styles', 'custom.css')))"
   ]
  },
  {
   "cell_type": "code",
   "execution_count": 2,
   "metadata": {
    "collapsed": true
   },
   "outputs": [],
   "source": [
    "filepath = os.path.join('data', 'AzureUsage_all.csv')\n",
    "raw_data = pandas.read_csv(filepath)"
   ]
  },
  {
   "cell_type": "code",
   "execution_count": 3,
   "metadata": {},
   "outputs": [
    {
     "data": {
      "text/plain": [
       "Index(['SubscriptionName', 'SubscriptionGuid', 'Date', 'ResourceGuid',\n",
       "       'ServiceName', 'ServiceType', 'ServiceRegion', 'ServiceResource',\n",
       "       'Quantity', 'Cost'],\n",
       "      dtype='object')"
      ]
     },
     "execution_count": 3,
     "metadata": {},
     "output_type": "execute_result"
    }
   ],
   "source": [
    "raw_data.columns"
   ]
  },
  {
   "cell_type": "markdown",
   "metadata": {},
   "source": [
    "Our Azure bill reports:\n",
    "\n",
    "* `SubscriptionName`, the name of the subscription (`Microsoft Azure Sponsorship` in our case);\n",
    "* `SubscriptionGuid`, the id of the subscription (`{4C217C02-7B06-42DA-B13C-E8DE392FBD00}` in our case);\n",
    "* `Date`, the date of the charge;\n",
    "* `ResourceGuid`;\n",
    "* `ServiceName`;\n",
    "* `ServiceType`;\n",
    "* `ServiceRegion`;\n",
    "* `ServiceResource`;\n",
    "* `Quantity`;\n",
    "* `Cost`.\n",
    "\n",
    "We do not need all columns for our cost analysis; let's keep only the interesting ones: `Date`, `ServiceName`, `ServiceType`, `ServiceRegion`, `ServiceResource`, `Quantity`, and `Cost`."
   ]
  },
  {
   "cell_type": "code",
   "execution_count": 4,
   "metadata": {
    "collapsed": true
   },
   "outputs": [],
   "source": [
    "# keep interesting columns\n",
    "columns = ['Date', 'ServiceName', 'ServiceType',\n",
    "           'ServiceRegion', 'ServiceResource',\n",
    "           'Quantity', 'Cost']\n",
    "data = raw_data[columns]"
   ]
  },
  {
   "cell_type": "code",
   "execution_count": 5,
   "metadata": {},
   "outputs": [
    {
     "name": "stdout",
     "output_type": "stream",
     "text": [
      "Start: 4/30/2017, end: 1/3/2018\n",
      "Total cost: 18436.588668610297\n"
     ]
    }
   ],
   "source": [
    "print('Start: {}, end: {}'.format(data['Date'].values[0], data['Date'].values[-1]))\n",
    "print('Total cost: {}'.format(data['Cost'].values.sum()))"
   ]
  },
  {
   "cell_type": "markdown",
   "metadata": {},
   "source": [
    "Microsoft Azure Sponsorship granted us 20,000 USD to evaluate their cloud platform and run Computational Fluid Dynamics simulations with our in-house MPI-based software [PetIBM](https://github.com/barbagroup/PetIBM).\n",
    "Between April 30, 2017 and January 3, 2018, we have spent 18,437 USD on Microsoft Azure."
   ]
  },
  {
   "cell_type": "markdown",
   "metadata": {},
   "source": [
    "### Types of charge"
   ]
  },
  {
   "cell_type": "code",
   "execution_count": 6,
   "metadata": {},
   "outputs": [
    {
     "data": {
      "text/plain": [
       "array(['Data Management', 'Virtual Machines', 'Networking', 'Storage'], dtype=object)"
      ]
     },
     "execution_count": 6,
     "metadata": {},
     "output_type": "execute_result"
    }
   ],
   "source": [
    "data['ServiceName'].unique()"
   ]
  },
  {
   "cell_type": "markdown",
   "metadata": {},
   "source": [
    "During that period, we have been charged for the following services:\n",
    "* `Data Management`,\n",
    "* `Virtual Machines`,\n",
    "* `Networking`,\n",
    "* `Storage`."
   ]
  },
  {
   "cell_type": "code",
   "execution_count": 7,
   "metadata": {},
   "outputs": [
    {
     "data": {
      "text/plain": [
       "array(['Standard_NC24 VM', 'Standard_NC12 VM', 'Standard_NC24r VM',\n",
       "       'Standard_H16mr VM', 'A9 VM', 'Standard_NC6 VM', 'A8 VM'], dtype=object)"
      ]
     },
     "metadata": {},
     "output_type": "display_data"
    },
    {
     "data": {
      "text/plain": [
       "array(['Compute Hours'], dtype=object)"
      ]
     },
     "metadata": {},
     "output_type": "display_data"
    }
   ],
   "source": [
    "mask = data['ServiceName'] == 'Virtual Machines'\n",
    "display(data[mask]['ServiceType'].unique())\n",
    "display(data[mask]['ServiceResource'].unique())"
   ]
  },
  {
   "cell_type": "markdown",
   "metadata": {},
   "source": [
    "We used various instances of virtual machines on Microsoft Azure and have been charged in terms of compute hours."
   ]
  },
  {
   "cell_type": "code",
   "execution_count": 8,
   "metadata": {},
   "outputs": [
    {
     "data": {
      "text/plain": [
       "array(['Standard IO - Table Read Operation Units (in 10,000s)',\n",
       "       'Standard IO - Block Blob Write Operation Units (in 10,000s)',\n",
       "       'Standard IO - Block Blob Read Operation Units (in 10,000s)',\n",
       "       'Standard IO - Queue Operation Units (in 10,000s)',\n",
       "       'Standard IO - File Protocol Operation Units (in 10,000s)',\n",
       "       'Standard IO - File Read Operation Units (in 10,000s)',\n",
       "       'Standard IO - Block Blob Delete Operation Units (in 10,000s)',\n",
       "       'Standard IO - Table Write Operation Units (in 10,000s)',\n",
       "       'Standard IO - Page Blob Write Operation Units (in 10,000s)',\n",
       "       'Standard IO - Page Blob Read Operation Units (in 10,000s)',\n",
       "       'Standard IO - Page Blob Delete Operation Units (in 10,000s)',\n",
       "       'Standard IO - Block Blob List Operation Units (in 10,000s)',\n",
       "       'Standard IO - File Write Operation Units (in 10,000s)',\n",
       "       'Standard IO - File Delete Operation Units (in 10,000s)',\n",
       "       'Storage Transactions (in 10,000s)',\n",
       "       'Standard IO - File List Operation Units (in 10,000s)',\n",
       "       'Standard IO - Table Batch Write Operation Units (in 10,000s)',\n",
       "       'Standard IO - Table Scan Operation Units (in 10,000s)'], dtype=object)"
      ]
     },
     "execution_count": 8,
     "metadata": {},
     "output_type": "execute_result"
    }
   ],
   "source": [
    "mask = data['ServiceName'] == 'Data Management'\n",
    "data[mask]['ServiceResource'].unique()"
   ]
  },
  {
   "cell_type": "code",
   "execution_count": 9,
   "metadata": {},
   "outputs": [
    {
     "data": {
      "text/plain": [
       "array(['Data Transfer In (GB)', 'Data Transfer Out (GB)',\n",
       "       'IP Address Hours'], dtype=object)"
      ]
     },
     "execution_count": 9,
     "metadata": {},
     "output_type": "execute_result"
    }
   ],
   "source": [
    "mask = data['ServiceName'] == 'Networking'\n",
    "data[mask]['ServiceResource'].unique()"
   ]
  },
  {
   "cell_type": "markdown",
   "metadata": {},
   "source": [
    "Networking charges include data transfer and allocation of public IP addresses."
   ]
  },
  {
   "cell_type": "code",
   "execution_count": 10,
   "metadata": {},
   "outputs": [
    {
     "data": {
      "text/plain": [
       "array(['Standard Managed Disk/S4 (Units)', 'Standard IO - Block Blob (GB)',\n",
       "       'Standard IO - Page Blob/Disk (GB)', 'Standard IO - Files (GB)',\n",
       "       'Standard IO - Table (GB)', 'Standard Managed Disk/S10 (Units)',\n",
       "       'Standard Managed Disk/S30 (Units)',\n",
       "       'Standard IO - Queue Class 1 Operation Units'], dtype=object)"
      ]
     },
     "execution_count": 10,
     "metadata": {},
     "output_type": "execute_result"
    }
   ],
   "source": [
    "mask = data['ServiceName'] == 'Storage'\n",
    "data[mask]['ServiceResource'].unique()"
   ]
  },
  {
   "cell_type": "code",
   "execution_count": 11,
   "metadata": {},
   "outputs": [
    {
     "data": {
      "image/png": "[encoded data removed]",
      "text/plain": [
       "<matplotlib.figure.Figure at 0x112c5f978>"
      ]
     },
     "metadata": {},
     "output_type": "display_data"
    }
   ],
   "source": [
    "service_names = data['ServiceName'].unique()\n",
    "total_cost = data['Cost'].values.sum()\n",
    "costs = {}\n",
    "for name in service_names:\n",
    "    mask = data['ServiceName'] == name\n",
    "    costs[name] = data[mask]['Cost'].values.sum()\n",
    "    \n",
    "fig, ax = pyplot.subplots(figsize=(10.0, 4.0))\n",
    "sizes = [costs[name] / total_cost * 100.0\n",
    "         for name in service_names]\n",
    "labels = ['{} ({:.2f}%)'.format(name, size)\n",
    "          for name, size in zip(service_names, sizes)]\n",
    "patches, _ = ax.pie(sizes)\n",
    "fig.legend(patches, labels, loc='upper right', prop={'size': 16})\n",
    "ax.axis('equal');"
   ]
  },
  {
   "cell_type": "markdown",
   "metadata": {},
   "source": [
    "Ok, almost all of the charges are from the usage of virtual machines (in terms of compute hours)."
   ]
  },
  {
   "cell_type": "markdown",
   "metadata": {},
   "source": [
    "### Microsoft Azure instances used"
   ]
  },
  {
   "cell_type": "code",
   "execution_count": 12,
   "metadata": {},
   "outputs": [
    {
     "data": {
      "image/png": "[encoded data removed]",
      "text/plain": [
       "<matplotlib.figure.Figure at 0x112c5fef0>"
      ]
     },
     "metadata": {},
     "output_type": "display_data"
    }
   ],
   "source": [
    "mask = data['ServiceName'] == 'Virtual Machines'\n",
    "subdata = data[mask]\n",
    "total_cost = subdata['Cost'].sum()\n",
    "instances = subdata['ServiceType'].unique()\n",
    "costs = {}\n",
    "for instance in instances:\n",
    "    mask = subdata['ServiceType'] == instance\n",
    "    costs[instance] = subdata[mask]['Cost'].sum()\n",
    "\n",
    "fig, ax = pyplot.subplots(figsize=(12.0, 4.0))\n",
    "sizes = [costs[instance] / total_cost * 100.0\n",
    "         for instance in instances]\n",
    "labels = ['{} ({:.2f}%)'.format(instance, size)\n",
    "          for instance, size in zip(instances, sizes)]\n",
    "patches, _ = ax.pie(sizes)\n",
    "fig.legend(patches, labels, loc='upper right', prop={'size': 16})\n",
    "ax.axis('equal');"
   ]
  },
  {
   "cell_type": "markdown",
   "metadata": {},
   "source": [
    "As seen above, we spent most of the money with the instances `Standard_NC24`, `Standard_NC24r`, and `A9`.\n",
    "\n",
    "The `A9` instances were used to compare runtime obtained on test-cases between Microsoft Azure and our HPC University cluster, Colonial One.\n",
    "\n",
    "The instance `Standard_NC24` was mostly used to compute the three-dimensional flow around a snake cylinder at Reynolds number 2000 with a 35-degree angle of attack on a mesh with 46 million cells.\n",
    "\n",
    "The RDMA-capable instances `Standard_NC24r` were used to run the same simulation on a finer mesh (233 million cells)."
   ]
  },
  {
   "cell_type": "markdown",
   "metadata": {},
   "source": [
    "## 3D simulations of the flying snake"
   ]
  },
  {
   "cell_type": "markdown",
   "metadata": {},
   "source": [
    "### Re=2,000, AoA=35$^o$ (mesh A)\n",
    "\n",
    "The simulation was run on a single instance NC24 (featuring 4 NVIDIA K80 GPU devices) in the South Central US region during May, 2017.\n",
    "We logged into the node, installed PetIBM-0.2 and all its dependencies.\n",
    "We used PETSc-3.7.4 and the shared library AmgX-1.2 (that comes with a temporary license)."
   ]
  },
  {
   "cell_type": "code",
   "execution_count": 13,
   "metadata": {},
   "outputs": [
    {
     "data": {
      "text/html": [
       "<div>\n",
       "<style>\n",
       "    .dataframe thead tr:only-child th {\n",
       "        text-align: right;\n",
       "    }\n",
       "\n",
       "    .dataframe thead th {\n",
       "        text-align: left;\n",
       "    }\n",
       "\n",
       "    .dataframe tbody tr th {\n",
       "        vertical-align: top;\n",
       "    }\n",
       "</style>\n",
       "<table border=\"1\" class=\"dataframe\">\n",
       "  <thead>\n",
       "    <tr style=\"text-align: right;\">\n",
       "      <th></th>\n",
       "      <th>Date</th>\n",
       "      <th>ServiceName</th>\n",
       "      <th>ServiceType</th>\n",
       "      <th>ServiceRegion</th>\n",
       "      <th>ServiceResource</th>\n",
       "      <th>Quantity</th>\n",
       "      <th>Cost</th>\n",
       "    </tr>\n",
       "  </thead>\n",
       "  <tbody>\n",
       "    <tr>\n",
       "      <th>26</th>\n",
       "      <td>5/31/2017</td>\n",
       "      <td>Virtual Machines</td>\n",
       "      <td>Standard_NC24 VM</td>\n",
       "      <td>US South Central</td>\n",
       "      <td>Compute Hours</td>\n",
       "      <td>234.616758</td>\n",
       "      <td>1055.775411</td>\n",
       "    </tr>\n",
       "  </tbody>\n",
       "</table>\n",
       "</div>"
      ],
      "text/plain": [
       "         Date       ServiceName       ServiceType     ServiceRegion  \\\n",
       "26  5/31/2017  Virtual Machines  Standard_NC24 VM  US South Central   \n",
       "\n",
       "   ServiceResource    Quantity         Cost  \n",
       "26   Compute Hours  234.616758  1055.775411  "
      ]
     },
     "metadata": {},
     "output_type": "display_data"
    }
   ],
   "source": [
    "mask = data['ServiceType'] == 'Standard_NC24 VM'\n",
    "subdata = data[mask]\n",
    "mask = subdata['ServiceRegion'] == 'US South Central'\n",
    "subdata = subdata[mask]\n",
    "mask = ((pandas.to_datetime(subdata['Date']) >= '2017-05-01') &\n",
    "        (pandas.to_datetime(subdata['Date']) <= '2017-05-31'))\n",
    "display(subdata[mask])"
   ]
  },
  {
   "cell_type": "markdown",
   "metadata": {},
   "source": [
    "Unfortunately, here, we just have access to charges accumulated over the month."
   ]
  },
  {
   "cell_type": "code",
   "execution_count": 14,
   "metadata": {},
   "outputs": [
    {
     "name": "stdout",
     "output_type": "stream",
     "text": [
      "Cost of the run: 586.3 USD\n"
     ]
    }
   ],
   "source": [
    "petsc_runtime = 5.33E+05 / 3600.0  # in hours\n",
    "nc24_price = 3.96\n",
    "print('Cost of the run: {} USD'.format(petsc_runtime * nc24_price))"
   ]
  },
  {
   "cell_type": "markdown",
   "metadata": {},
   "source": [
    "The runtime reported by PETSc is 148 hours.\n",
    "With an hourly price of 3.96 USD for the NC24 instance, the cost of this run is 586.3 USD.\n",
    "The cost displayed in the frame about is higher because we also have been running test-cases on the same instance during that month."
   ]
  },
  {
   "cell_type": "markdown",
   "metadata": {},
   "source": [
    "## Re=2,000, AoA=35$^o$ (mesh B)"
   ]
  },
  {
   "cell_type": "markdown",
   "metadata": {},
   "source": [
    "We needed more than one NC24 instance to have enough memory on devices to solve the Poisson system on a mesh with 233 million cells.\n",
    "We used the instances NC24r that are RDMA-capable.\n",
    "\n",
    "We used Azure Batch services and Batch Shipyard to create the pools and the jobs, and to submit the tasks.\n",
    "\n",
    "The task was submitted to Azure Batch on a pool of 6 NC24r nodes, each NC24r instance having an hourly cost of $3.96."
   ]
  },
  {
   "cell_type": "code",
   "execution_count": 15,
   "metadata": {
    "collapsed": true
   },
   "outputs": [],
   "source": [
    "n_nodes = 6  # number of nodes in the pool\n",
    "nc24r_price = 3.96  # hourly cost for a NC24r instance"
   ]
  },
  {
   "cell_type": "markdown",
   "metadata": {},
   "source": [
    "We do not have the runtime from PETSc for the simulation as the run was killed because of the time-limit enforced on Azure Batch tasks (which was unknown to us at the time of submitting the task)."
   ]
  },
  {
   "cell_type": "code",
   "execution_count": 16,
   "metadata": {},
   "outputs": [
    {
     "name": "stdout",
     "output_type": "stream",
     "text": [
      "- Total number of compute hours: 1638.00\n",
      "- Number of compute hours per node: 273.00\n",
      "- Expected charge for the compute hours: $6486.48\n",
      "- Reported charge: $6486.48\n"
     ]
    }
   ],
   "source": [
    "start, end = '2017-11-14', '2017-11-28'\n",
    "mask = ((pandas.to_datetime(data['Date']) >= start) &\n",
    "        (pandas.to_datetime(data['Date']) <= end))\n",
    "meshB2k35_data = data[mask]\n",
    "\n",
    "mask = meshB2k35_data['ServiceName'] == 'Virtual Machines'\n",
    "subdata = meshB2k35_data[mask]\n",
    "\n",
    "total_hours = subdata['Quantity'].sum()\n",
    "print('- Total number of compute hours: {:.2f}'.format(total_hours))\n",
    "print('- Number of compute hours per node: {:.2f}'\n",
    "      .format(total_hours / n_nodes))\n",
    "print('- Expected charge for the compute hours: ${:.2f}'\n",
    "      .format(total_hours * nc24r_price))\n",
    "print('- Reported charge: ${:.2f}'\n",
    "      .format(subdata['Cost'].sum()))"
   ]
  },
  {
   "cell_type": "markdown",
   "metadata": {},
   "source": [
    "This simulation was the first time we used Azure Batch services, creating the pool, the job, and the task with Batch Shipyard.\n",
    "We submitted the task on November 14, 2017, at 3:50 pm and purposely killed on November 28, 2017, at 2:10 pm.\n",
    "\n",
    "Why did we have to kill the job?\n",
    "\n",
    "Our simulations run for a prescribed number of time steps and we save the numerical solution (pressure and velocity fields, convective and diffusive terms) at a certain frequency.\n",
    "We also compute and write into file the aerodynamic forces every time step.\n",
    "It appears that the numerical solution was output to files for the last time on November, 25, 2017, at 10:25 am, at a time step that is not the final time step.\n",
    "Something went wrong during the task and the computation was not anymore running normally.\n",
    "It took me about three days to realize that something was wrong!\n",
    "Why so long?\n",
    "I usually check the status of the task to make sure everything is ok.\n",
    "The pool and job's task were still respectively marked as  \"active\" and \"running\", even if the computation was not running.\n",
    "I even logged into the nodes an ran the \"top\" command-line utility to check the processes were still running.\n",
    "However, the compute nodes on the Azure portal were marked as IDLE.\n",
    "\n",
    "Seeking for help to Microsoft Azure, Fred Park, software engineer and main developer of Batch Shipyard, told us that Batch tasks have a 7-day time-limit enforced (from the time the task is submitted), a restriction that was not yet mentioned in the official documentation of Microsoft Azure.\n",
    "(As pointed out by Fred Park, there is a not at the end of the documentation for Batch Shipyard; we missed it...)\n",
    "\n",
    "Three days past between the last time the solution was output to files and the time we had the confirmation that the simulation was not running anymore so we had to kill the job and restart it.\n",
    "\n",
    "Let's redo our cost analysis for this simulation with the following assumptions:\n",
    "\n",
    "* the task started at 3:50 pm on November 14, 2017 and run for 8 hours and 10 minutes that day;\n",
    "* the task ran normally until 10:25 am on November 25, 2017 for 10 hours and 25 minutes that day."
   ]
  },
  {
   "cell_type": "code",
   "execution_count": 17,
   "metadata": {},
   "outputs": [
    {
     "name": "stdout",
     "output_type": "stream",
     "text": [
      "- Total number of compute hours: 1251.50\n",
      "- Number of compute hours per node: 208.58\n",
      "- Expected charge for the compute hours: $4955.94\n",
      "- Effective charge: $4955.94\n"
     ]
    }
   ],
   "source": [
    "start, end = '2017-11-14', '2017-11-25'\n",
    "mask = ((pandas.to_datetime(data['Date']) >= start) &\n",
    "        (pandas.to_datetime(data['Date']) <= end))\n",
    "meshB2k35_data = data[mask]\n",
    "\n",
    "mask = meshB2k35_data['ServiceName'] == 'Virtual Machines'\n",
    "subdata = meshB2k35_data[mask]\n",
    "\n",
    "hours = subdata['Quantity'].values\n",
    "# First day: assume run for 8 hours and 10 minutes\n",
    "hours[0] = (8.0 + 10.0 / 60) * n_nodes\n",
    "# Last running day: assume run for 10 hours and 25 minutes\n",
    "hours[-1] = (10.0 + 25.0 / 60) * n_nodes\n",
    "\n",
    "total_hours = hours.sum()\n",
    "print('- Total number of compute hours: {:.2f}'.format(total_hours))\n",
    "print('- Number of compute hours per node: {:.2f}'.format(total_hours / n_nodes))\n",
    "print('- Expected charge for the compute hours: ${:.2f}'\n",
    "      .format(total_hours * nc24r_price))\n",
    "costs = subdata['Cost'].values\n",
    "costs[0] = hours[0] * nc24r_price\n",
    "costs[-1] = hours[-1] * nc24r_price\n",
    "print('- Effective charge: ${:.2f}'.format(costs.sum()))"
   ]
  },
  {
   "cell_type": "markdown",
   "metadata": {},
   "source": [
    "We can also estimate the money lost because we were not aware of this 7-day time-limit restriction for Azure Batch tasks:"
   ]
  },
  {
   "cell_type": "code",
   "execution_count": 18,
   "metadata": {},
   "outputs": [
    {
     "name": "stdout",
     "output_type": "stream",
     "text": [
      "Total cost charged for the virtual machines while simulation not running: 1344.42 USD\n"
     ]
    }
   ],
   "source": [
    "start, end = '2017-11-25', '2017-11-28'\n",
    "mask = ((pandas.to_datetime(data['Date']) >= start) &\n",
    "        (pandas.to_datetime(data['Date']) <= end))\n",
    "loss_data = data[mask]\n",
    "\n",
    "cost_20171125 = costs[-1]  # cost on December 25, 2017 when simulation was running\n",
    "\n",
    "mask = loss_data['ServiceName'] == 'Virtual Machines'\n",
    "loss_costs = loss_data['Cost'][mask].values\n",
    "loss_costs[0] -= cost_20171125  # adjust to keep only money wasted\n",
    "print('Total cost charged for the virtual machines while simulation not running: {} USD'\n",
    "      .format(loss_costs.sum()))"
   ]
  },
  {
   "cell_type": "markdown",
   "metadata": {},
   "source": [
    "As said before, the simulation stopped running correctly on November 29, 2017, at 10:25 am an was killed on November 28, 2017, at 2:10 pm.\n",
    "Thus, the pool was still allocated for 75 hours and 45 minutes.\n",
    "With an hourly price of 3.96 USD for each of the 6 NC24r nodes, we would be expecting a charge of 1799.8 USD.\n",
    "However, it appears that we were only chaged for 1344.4 USD."
   ]
  },
  {
   "cell_type": "code",
   "execution_count": 19,
   "metadata": {},
   "outputs": [
    {
     "data": {
      "image/png": "[encoded data removed]",
      "text/plain": [
       "<matplotlib.figure.Figure at 0x10e818470>"
      ]
     },
     "metadata": {},
     "output_type": "display_data"
    }
   ],
   "source": [
    "mask = meshB2k35_data['ServiceName'] == 'Virtual Machines'\n",
    "subdata = meshB2k35_data[mask]\n",
    "\n",
    "dates = subdata['Date'].values\n",
    "hours = subdata['Quantity'].values\n",
    "costs = subdata['Cost'].values\n",
    "\n",
    "fig, ax1 = pyplot.subplots(figsize=(10.0, 4.0))\n",
    "ax1.yaxis.grid(zorder=0)\n",
    "ax1.set_xlabel('Date', fontsize=16)\n",
    "ax1.set_ylabel('Compute hours', fontsize=16)\n",
    "bar_width = 0.25\n",
    "ax1.bar(numpy.arange(dates.size), hours,\n",
    "        bar_width, zorder=1)\n",
    "ax1.axhline(24.0 * n_nodes, color='red', linestyle='--')\n",
    "ax1.set_xticks(numpy.arange(dates.size))\n",
    "ax1.set_xticklabels(dates)\n",
    "for label in ax1.get_xmajorticklabels():\n",
    "    label.set_rotation(45)\n",
    "    label.set_horizontalalignment('right')\n",
    "\n",
    "ax2 = ax1.twinx()\n",
    "ax2.set_ylabel('Cost ($)', fontsize=16)\n",
    "ax2.bar(numpy.arange(dates.size), costs,\n",
    "        bar_width, zorder=1)\n",
    "ax2.axhline(24.0 * n_nodes * nc24r_price, color='red', linestyle='--');"
   ]
  },
  {
   "cell_type": "markdown",
   "metadata": {},
   "source": [
    "The figure above shows the number of compute hours and the cost charged daily when the task was running.\n",
    "The dashed red line shows the values as if the simulation was computing during the full day.\n",
    "\n",
    "It is surprising to see that we have been charged for 24 hours of computation only two days (11/17/2017 and 11/19/2017)."
   ]
  },
  {
   "cell_type": "code",
   "execution_count": 20,
   "metadata": {},
   "outputs": [
    {
     "data": {
      "text/html": [
       "<div>\n",
       "<style>\n",
       "    .dataframe thead tr:only-child th {\n",
       "        text-align: right;\n",
       "    }\n",
       "\n",
       "    .dataframe thead th {\n",
       "        text-align: left;\n",
       "    }\n",
       "\n",
       "    .dataframe tbody tr th {\n",
       "        vertical-align: top;\n",
       "    }\n",
       "</style>\n",
       "<table border=\"1\" class=\"dataframe\">\n",
       "  <thead>\n",
       "    <tr style=\"text-align: right;\">\n",
       "      <th></th>\n",
       "      <th>Date</th>\n",
       "      <th>ServiceName</th>\n",
       "      <th>ServiceType</th>\n",
       "      <th>ServiceRegion</th>\n",
       "      <th>ServiceResource</th>\n",
       "      <th>Quantity</th>\n",
       "      <th>Cost</th>\n",
       "    </tr>\n",
       "  </thead>\n",
       "  <tbody>\n",
       "    <tr>\n",
       "      <th>1139</th>\n",
       "      <td>11/16/2017</td>\n",
       "      <td>Virtual Machines</td>\n",
       "      <td>Standard_NC24r VM</td>\n",
       "      <td>US East</td>\n",
       "      <td>Compute Hours</td>\n",
       "      <td>96.0</td>\n",
       "      <td>380.16</td>\n",
       "    </tr>\n",
       "  </tbody>\n",
       "</table>\n",
       "</div>"
      ],
      "text/plain": [
       "            Date       ServiceName        ServiceType ServiceRegion  \\\n",
       "1139  11/16/2017  Virtual Machines  Standard_NC24r VM       US East   \n",
       "\n",
       "     ServiceResource  Quantity    Cost  \n",
       "1139   Compute Hours      96.0  380.16  "
      ]
     },
     "metadata": {},
     "output_type": "display_data"
    },
    {
     "name": "stdout",
     "output_type": "stream",
     "text": [
      "Calculated price per compute hours: [ 3.96]\n",
      "Calculated number of hours charged: [ 16.]\n"
     ]
    }
   ],
   "source": [
    "mask = pandas.to_datetime(meshB2k35_data['Date']) == '2017-11-16'\n",
    "subdata = meshB2k35_data[mask]\n",
    "mask = subdata['ServiceName'] == 'Virtual Machines'\n",
    "display(subdata[mask])\n",
    "print('Calculated price per compute hours: {}'\n",
    "      .format(subdata[mask]['Cost'].values / subdata[mask]['Quantity'].values))\n",
    "print('Calculated number of hours charged: {}'\n",
    "      .format(subdata[mask]['Quantity'].values / n_nodes))"
   ]
  },
  {
   "cell_type": "markdown",
   "metadata": {},
   "source": [
    "On November 16, 2017, we were in the middle on the run but we have been charged for 96 hours at a cost of 380.16 USD, which means that the simulation was running for only 16 hours (instead of 24 hours as expected)."
   ]
  },
  {
   "cell_type": "markdown",
   "metadata": {},
   "source": [
    "##### Other costs\n",
    "\n",
    "Between November 14 and November 29, 2017, we have also been charged for `Networking`, `Data Management`, and `Storage`."
   ]
  },
  {
   "cell_type": "code",
   "execution_count": 21,
   "metadata": {},
   "outputs": [
    {
     "name": "stdout",
     "output_type": "stream",
     "text": [
      "- Networking charge: $20.59\n",
      "\t- Data Transfer In (GB)\n",
      "\t- Data Transfer Out (GB)\n",
      "- Data Management charge: $2.53\n",
      "\t- Standard IO - Table Read Operation Units (in 10,000s)\n",
      "\t- Standard IO - Block Blob Write Operation Units (in 10,000s)\n",
      "\t- Standard IO - Block Blob Read Operation Units (in 10,000s)\n",
      "\t- Standard IO - File Protocol Operation Units (in 10,000s)\n",
      "\t- Standard IO - File Read Operation Units (in 10,000s)\n",
      "\t- Standard IO - File Delete Operation Units (in 10,000s)\n",
      "\t- Standard IO - Block Blob Delete Operation Units (in 10,000s)\n",
      "\t- Standard IO - Table Scan Operation Units (in 10,000s)\n",
      "\t- Standard IO - Table Write Operation Units (in 10,000s)\n",
      "\t- Standard IO - Table Batch Write Operation Units (in 10,000s)\n",
      "\t- Standard IO - File List Operation Units (in 10,000s)\n",
      "\t- Standard IO - Block Blob List Operation Units (in 10,000s)\n",
      "\t- Standard IO - File Write Operation Units (in 10,000s)\n",
      "\t- Standard IO - Queue Operation Units (in 10,000s)\n",
      "- Storage charge: $11.28\n",
      "\t- Standard IO - Table (GB)\n",
      "\t- Standard Managed Disk/S4 (Units)\n",
      "\t- Standard IO - Block Blob (GB)\n",
      "\t- Standard IO - Page Blob/Disk (GB)\n",
      "\t- Standard IO - Files (GB)\n"
     ]
    }
   ],
   "source": [
    "start, end = '2017-11-14', '2017-11-29'\n",
    "mask = ((pandas.to_datetime(data['Date']) >= start) &\n",
    "        (pandas.to_datetime(data['Date']) <= end))\n",
    "subdata = data[mask]\n",
    "\n",
    "service_names = ['Networking', 'Data Management', 'Storage']\n",
    "for name in service_names:\n",
    "    mask = subdata['ServiceName'] == name\n",
    "    print('- {} charge: ${:.2f}'.format(name, subdata[mask]['Cost'].sum()))\n",
    "    service_resources = subdata[mask]['ServiceResource'].unique()\n",
    "    for resource in service_resources:\n",
    "        print('\\t- ' + resource)"
   ]
  },
  {
   "cell_type": "markdown",
   "metadata": {},
   "source": [
    "##### Cost of data transfer\n",
    "\n",
    "The numerical solution for this simulation (about 400GB of data) was transferred from Azure Storage to our local machine on November 28 and November 29, 2017, which incurs some networking charges."
   ]
  },
  {
   "cell_type": "code",
   "execution_count": 22,
   "metadata": {},
   "outputs": [
    {
     "name": "stdout",
     "output_type": "stream",
     "text": [
      "Networking charge: $18.8202683935\n"
     ]
    }
   ],
   "source": [
    "start, end = '2017-11-28', '2017-11-29'\n",
    "mask = ((pandas.to_datetime(data['Date']) >= start) &\n",
    "        (pandas.to_datetime(data['Date']) <= end))\n",
    "subdata = data[mask]\n",
    "\n",
    "mask = subdata['ServiceName'] == 'Networking'\n",
    "print('Networking charge: ${}'.format(subdata[mask]['Cost'].sum()))"
   ]
  },
  {
   "cell_type": "markdown",
   "metadata": {},
   "source": [
    "## Re=2,000, AoA=35$^o$ (mesh B) - first restart"
   ]
  },
  {
   "cell_type": "markdown",
   "metadata": {},
   "source": [
    "The task for this restarting simulation on the fine mesh (233 million cells) was submitted on November, 29, 2017, at 2:45 pm, in a pool of 6 NC24r nodes, and completed by December 5, 2017, at 4 pm."
   ]
  },
  {
   "cell_type": "code",
   "execution_count": 23,
   "metadata": {
    "collapsed": true
   },
   "outputs": [],
   "source": [
    "start, end = '2017-11-29', '2017-12-05'\n",
    "mask = ((pandas.to_datetime(data['Date']) >= start) &\n",
    "        (pandas.to_datetime(data['Date']) <= end))\n",
    "meshB2k35r1_data = data[mask]"
   ]
  },
  {
   "cell_type": "markdown",
   "metadata": {},
   "source": [
    "Let's have a look at the different services we were being charged during that period:"
   ]
  },
  {
   "cell_type": "code",
   "execution_count": 24,
   "metadata": {},
   "outputs": [
    {
     "name": "stdout",
     "output_type": "stream",
     "text": [
      "- Data Management: $1.36\n",
      "- Networking: $12.69\n",
      "- Storage: $9.09\n",
      "- Virtual Machines: $2496.19\n"
     ]
    }
   ],
   "source": [
    "service_names = meshB2k35r1_data['ServiceName'].unique()\n",
    "for name in service_names:\n",
    "    mask = meshB2k35r1_data['ServiceName'] == name\n",
    "    print('- {}: ${:.2f}'.format(name, meshB2k35r1_data[mask]['Cost'].sum()))"
   ]
  },
  {
   "cell_type": "markdown",
   "metadata": {},
   "source": [
    "##### Compute hours"
   ]
  },
  {
   "cell_type": "code",
   "execution_count": 25,
   "metadata": {},
   "outputs": [
    {
     "name": "stdout",
     "output_type": "stream",
     "text": [
      "- Total number of compute hours: 630.35\n",
      "- Number of compute hours per node: 105.06\n",
      "- Expected charge for the compute hours: $2496.19\n",
      "- Reported charge: $2496.19\n"
     ]
    }
   ],
   "source": [
    "mask = meshB2k35r1_data['ServiceName'] == 'Virtual Machines'\n",
    "subdata = meshB2k35r1_data[mask]\n",
    "\n",
    "total_hours = subdata['Quantity'].sum()\n",
    "print('- Total number of compute hours: {:.2f}'.format(total_hours))\n",
    "print('- Number of compute hours per node: {:.2f}'.format(total_hours / n_nodes))\n",
    "print('- Expected charge for the compute hours: ${:.2f}'\n",
    "      .format(total_hours * nc24r_price))\n",
    "print('- Reported charge: ${:.2f}'.format(subdata['Cost'].sum()))"
   ]
  },
  {
   "cell_type": "markdown",
   "metadata": {},
   "source": [
    "For the virtual machines, we were only charged for the number of compute hours used, which represents a total of 630.4 hours (or 105.1 hours per NC24r node).\n",
    "The price of one compute hour on a NC24r is 3.96 USD and we have been charged for 2496.19 USD for this run.\n",
    "\n",
    "The PETSc library has a routine to report the runtime.\n",
    "For this simulation, the runtime reported by PETSc was 144.2 hours, which is higher than the number of compute hours being charged by Azure.\n",
    "(The duration of the task from the time it was submitted to the time it completed is about 145 hours and match the runtime reported by PETSc.)\n",
    "The 39-hour difference between the two runtimes is suprising as we were expecting the simulation to run for full days.\n",
    "If we consider that Azure is not under-charging us, the computation was IDLE 27.1% of the task runtime."
   ]
  },
  {
   "cell_type": "code",
   "execution_count": 26,
   "metadata": {},
   "outputs": [
    {
     "data": {
      "image/png": "[encoded data removed]",
      "text/plain": [
       "<matplotlib.figure.Figure at 0x112ca7668>"
      ]
     },
     "metadata": {},
     "output_type": "display_data"
    }
   ],
   "source": [
    "mask = meshB2k35r1_data['ServiceName'] == 'Virtual Machines'\n",
    "subdata = meshB2k35r1_data[mask]\n",
    "\n",
    "dates = subdata['Date'].values\n",
    "hours = subdata['Quantity'].values\n",
    "costs = subdata['Cost'].values\n",
    "\n",
    "fig, ax1 = pyplot.subplots(figsize=(10.0, 4.0))\n",
    "ax1.yaxis.grid(zorder=0)\n",
    "ax1.set_xlabel('Date', fontsize=16)\n",
    "ax1.set_ylabel('Compute hours', fontsize=16)\n",
    "bar_width = 0.25\n",
    "ax1.bar(numpy.arange(dates.size), hours,\n",
    "        bar_width, zorder=1)\n",
    "ax1.axhline(24.0 * n_nodes, color='red', linestyle='--')\n",
    "ax1.set_xticks(numpy.arange(dates.size))\n",
    "ax1.set_xticklabels(dates)\n",
    "for label in ax1.get_xmajorticklabels():\n",
    "    label.set_rotation(45)\n",
    "    label.set_horizontalalignment('right')\n",
    "\n",
    "ax2 = ax1.twinx()\n",
    "ax2.set_ylabel('Cost ($)', fontsize=16)\n",
    "ax2.bar(numpy.arange(dates.size), costs,\n",
    "        bar_width, zorder=1)\n",
    "ax2.axhline(24.0 * n_nodes * nc24r_price, color='red', linestyle='--');"
   ]
  },
  {
   "cell_type": "markdown",
   "metadata": {},
   "source": [
    "The figure above shows the number of compute hours and the cost charged daily when the task was running.\n",
    "The dashed red line shows the values as if the simulation was computing during the full day."
   ]
  },
  {
   "cell_type": "markdown",
   "metadata": {
    "collapsed": true
   },
   "source": [
    "## Re=2,000, AoA=35$^o$ (mesh B) - second restart"
   ]
  },
  {
   "cell_type": "markdown",
   "metadata": {},
   "source": [
    "Finally, we restarted the simulation one last time to compute additional time units (and avoiding the time-limit enforced on Azure Batch tasks).\n",
    "The task was submitted on December 7, 2017, at 7:20 pm and completed by December 11, 2017, at 4:10 am."
   ]
  },
  {
   "cell_type": "code",
   "execution_count": 27,
   "metadata": {
    "collapsed": true
   },
   "outputs": [],
   "source": [
    "start, end = '2017-12-05', '2017-12-11'\n",
    "mask = ((pandas.to_datetime(data['Date']) >= start) &\n",
    "        (pandas.to_datetime(data['Date']) <= end))\n",
    "meshB2k35r2_data = data[mask]"
   ]
  },
  {
   "cell_type": "markdown",
   "metadata": {},
   "source": [
    "Within this period, we have been charged for `Virtual Machines`, `Data Management`, `Storage`, and `Networking`, with most of the cost incurred by the use of virtual machines."
   ]
  },
  {
   "cell_type": "code",
   "execution_count": 28,
   "metadata": {},
   "outputs": [
    {
     "name": "stdout",
     "output_type": "stream",
     "text": [
      "- Data Management: $1.04\n",
      "- Networking: $17.06\n",
      "- Storage: $11.93\n",
      "- Virtual Machines: $1971.29\n"
     ]
    }
   ],
   "source": [
    "service_names = meshB2k35r2_data['ServiceName'].unique()\n",
    "for name in service_names:\n",
    "    mask = meshB2k35r2_data['ServiceName'] == name\n",
    "    print('- {}: ${:.2f}'.format(name, meshB2k35r2_data[mask]['Cost'].sum()))"
   ]
  },
  {
   "cell_type": "markdown",
   "metadata": {},
   "source": [
    "##### Compute hours"
   ]
  },
  {
   "cell_type": "code",
   "execution_count": 29,
   "metadata": {},
   "outputs": [
    {
     "name": "stdout",
     "output_type": "stream",
     "text": [
      "- Total number of compute hours: 497.80\n",
      "- Number of compute hours per node: 82.97\n",
      "- Expected charge for the compute hours: $1971.29\n",
      "- Reported charge: $1971.29\n"
     ]
    }
   ],
   "source": [
    "mask = meshB2k35r2_data['ServiceName'] == 'Virtual Machines'\n",
    "subdata = meshB2k35r2_data[mask]\n",
    "\n",
    "total_hours = subdata['Quantity'].sum()\n",
    "print('- Total number of compute hours: {:.2f}'.format(total_hours))\n",
    "print('- Number of compute hours per node: {:.2f}'.format(total_hours / n_nodes))\n",
    "print('- Expected charge for the compute hours: ${:.2f}'\n",
    "      .format(total_hours * nc24r_price))\n",
    "print('- Reported charge: ${:.2f}'.format(subdata['Cost'].sum()))"
   ]
  },
  {
   "cell_type": "markdown",
   "metadata": {},
   "source": [
    "For this task, we have been charged, for the virtual machines, for about 497.8 compute hours (or 83.0 hours per node) with the cost of $1971.3.\n",
    "\n",
    "The duration of the task (from submission to completion) is about 81 hours, which is also the runtime reported by PETSc.\n",
    "\n",
    "This time the number of compute hours per node being charged exceeds the task runtime.\n",
    "This is explained by the fact that on December 7, 2017, I had trouble restarting the simulation.\n",
    "\n",
    "So let's redo the cost estimation, assuming that the simulation run from 7:20 pm to midnight on December 7, 2017."
   ]
  },
  {
   "cell_type": "code",
   "execution_count": 30,
   "metadata": {},
   "outputs": [
    {
     "name": "stdout",
     "output_type": "stream",
     "text": [
      "- Total number of compute hours: 398.13\n",
      "- Number of compute hours per node: 66.36\n",
      "- Expected charge for the compute hours: $1576.61\n",
      "- Reported charge: $1576.61\n"
     ]
    }
   ],
   "source": [
    "mask = meshB2k35r2_data['ServiceName'] == 'Virtual Machines'\n",
    "subdata = meshB2k35r2_data[mask]\n",
    "\n",
    "hours = subdata['Quantity'].values\n",
    "# First day: assume run from 7:20 pm to midnight\n",
    "hours[0] = (4.0 + 40.0 / 60) * n_nodes\n",
    "total_hours = hours.sum()\n",
    "print('- Total number of compute hours: {:.2f}'.format(total_hours))\n",
    "print('- Number of compute hours per node: {:.2f}'.format(total_hours / n_nodes))\n",
    "print('- Expected charge for the compute hours: ${:.2f}'\n",
    "      .format(total_hours * nc24r_price))\n",
    "costs = subdata['Cost'].values\n",
    "# First day: assume run from 7:20 pm to midnight\n",
    "costs[0] = (4.0 + 40.0 / 60) * n_nodes * nc24r_price\n",
    "print('- Reported charge: ${:.2f}'.format(costs.sum()))"
   ]
  },
  {
   "cell_type": "markdown",
   "metadata": {},
   "source": [
    "Now, the number of compute hours per node is 66 hours, which is below the runtime of the task (or the PETSc runtime)."
   ]
  },
  {
   "cell_type": "code",
   "execution_count": null,
   "metadata": {},
   "outputs": [
    {
     "data": {
      "image/png": "[encoded data removed]",
      "text/plain": [
       "<matplotlib.figure.Figure at 0x11857afd0>"
      ]
     },
     "metadata": {},
     "output_type": "display_data"
    }
   ],
   "source": [
    "mask = meshB2k35r2_data['ServiceName'] == 'Virtual Machines'\n",
    "subdata = meshB2k35r2_data[mask]\n",
    "\n",
    "dates = subdata['Date'].values\n",
    "hours = subdata['Quantity'].values\n",
    "costs = subdata['Cost'].values\n",
    "# First day: assume run from 7:20 pm to midnight\n",
    "hours[0] = (4.0 + 40.0 / 60) * n_nodes\n",
    "costs[0] = (4.0 + 40.0 / 60) * n_nodes * nc24r_price\n",
    "\n",
    "fig, ax1 = pyplot.subplots(figsize=(10.0, 4.0))\n",
    "ax1.yaxis.grid(zorder=0)\n",
    "ax1.set_xlabel('Date', fontsize=16)\n",
    "ax1.set_ylabel('Compute hours', fontsize=16)\n",
    "bar_width = 0.25\n",
    "ax1.bar(numpy.arange(dates.size), hours,\n",
    "        bar_width, zorder=1)\n",
    "ax1.axhline(24.0 * n_nodes, color='red', linestyle='--')\n",
    "ax1.set_xticks(numpy.arange(dates.size))\n",
    "ax1.set_xticklabels(dates)\n",
    "for label in ax1.get_xmajorticklabels():\n",
    "    label.set_rotation(45)\n",
    "    label.set_horizontalalignment('right')\n",
    "\n",
    "ax2 = ax1.twinx()\n",
    "ax2.set_ylabel('Cost ($)', fontsize=16)\n",
    "ax2.bar(numpy.arange(dates.size), costs,\n",
    "        bar_width, zorder=1)\n",
    "ax2.axhline(24.0 * n_nodes * nc24r_price, color='red', linestyle='--');"
   ]
  },
  {
   "cell_type": "markdown",
   "metadata": {},
   "source": [
    "The figure above shows the number of compute hours and the cost charged daily when the task was running.\n",
    "The dashed red line shows the values as if the simulation was computing during the full day."
   ]
  },
  {
   "cell_type": "markdown",
   "metadata": {},
   "source": [
    "### Extra simulations"
   ]
  },
  {
   "cell_type": "markdown",
   "metadata": {},
   "source": [
    "The simulations on the coarse mesh (2k30 and 1k35) started on December 22, 2017, at 12:30 pm.\n",
    "Each simulation ran on with two NC24r instances.\n",
    "The 1k35 run completed 100,000 time steps by December 27, 2017, at 6 am.\n",
    "The PETSc log reports a runtime of 113.5 hours.\n",
    "\n",
    "The 2k30 run completed 100,000 time steps by December 29, 2017, 9:50 am.\n",
    "The PETSc log reports a runtime of 165.36 hours."
   ]
  },
  {
   "cell_type": "code",
   "execution_count": null,
   "metadata": {
    "collapsed": true
   },
   "outputs": [],
   "source": [
    "start, end = '2017-12-22', '2017-12-29'\n",
    "mask = ((pandas.to_datetime(data['Date']) >= start) &\n",
    "        (pandas.to_datetime(data['Date']) <= end))\n",
    "meshAextra_data = data[mask]"
   ]
  },
  {
   "cell_type": "code",
   "execution_count": null,
   "metadata": {
    "collapsed": true
   },
   "outputs": [],
   "source": [
    "service_names = meshAextra_data['ServiceName'].unique()\n",
    "for name in service_names:\n",
    "    mask = meshAextra_data['ServiceName'] == name\n",
    "    print('- {}: ${:.2f}'.format(name, meshAextra_data[mask]['Cost'].sum()))"
   ]
  },
  {
   "cell_type": "markdown",
   "metadata": {},
   "source": [
    "##### Compute hours (Virtual Machines)"
   ]
  },
  {
   "cell_type": "code",
   "execution_count": null,
   "metadata": {
    "collapsed": true
   },
   "outputs": [],
   "source": [
    "mask = meshAextra_data['ServiceName'] == 'Virtual Machines'\n",
    "subdata = meshAextra_data[mask]\n",
    "\n",
    "n_nodes = 4\n",
    "\n",
    "total_hours = subdata['Quantity'].sum()\n",
    "print('- Total number of compute hours: {:.2f}'.format(total_hours))\n",
    "print('- Number of compute hours per node: {:.2f}'.format(total_hours / n_nodes))\n",
    "print('- Calculated charge for the compute hours: ${:.2f}'\n",
    "      .format(total_hours * nc24r_price))\n",
    "print('- Reported charge: ${:.2f}'.format(subdata['Cost'].sum()))"
   ]
  },
  {
   "cell_type": "markdown",
   "metadata": {},
   "source": [
    "The difference between the calculated and reported charges for the compute hours is explained by the fact that the two simulations did not finish at the same time."
   ]
  },
  {
   "cell_type": "code",
   "execution_count": null,
   "metadata": {
    "collapsed": true
   },
   "outputs": [],
   "source": [
    "mask = meshAextra_data['ServiceName'] == 'Virtual Machines'\n",
    "subdata = meshAextra_data[mask]\n",
    "\n",
    "# Neglecting first entry because tasks failed due to HDF5 library\n",
    "dates = subdata['Date'].values[1:]\n",
    "hours = subdata['Quantity'].values[1:]\n",
    "costs = subdata['Cost'].values[1:]\n",
    "\n",
    "fig, ax1 = pyplot.subplots(figsize=(10.0, 4.0))\n",
    "ax1.yaxis.grid(zorder=0)\n",
    "ax1.set_xlabel('Date', fontsize=16)\n",
    "ax1.set_ylabel('Compute hours', fontsize=16)\n",
    "bar_width = 0.25\n",
    "ax1.bar(numpy.arange(dates.size), hours,\n",
    "        bar_width, zorder=1)\n",
    "ax1.axhline(24.0 * n_nodes, color='red', linestyle='--')\n",
    "ax1.set_xticks(numpy.arange(dates.size))\n",
    "ax1.set_xticklabels(dates)\n",
    "for label in ax1.get_xmajorticklabels():\n",
    "    label.set_rotation(45)\n",
    "    label.set_horizontalalignment('right')\n",
    "\n",
    "ax2 = ax1.twinx()\n",
    "ax2.set_ylabel('Cost ($)', fontsize=16)\n",
    "ax2.bar(numpy.arange(dates.size), costs,\n",
    "        bar_width, zorder=1)\n",
    "ax2.axhline(24.0 * n_nodes * nc24r_price, color='red', linestyle='--');"
   ]
  },
  {
   "cell_type": "markdown",
   "metadata": {},
   "source": [
    "##### Networking (data transfer)"
   ]
  },
  {
   "cell_type": "code",
   "execution_count": null,
   "metadata": {
    "collapsed": true
   },
   "outputs": [],
   "source": [
    "mask = meshAextra_data['ServiceName'] == 'Networking'\n",
    "subdata = meshAextra_data[mask]\n",
    "print('Networking charge: ${:.2f}'.format(subdata['Cost'].sum()))"
   ]
  },
  {
   "cell_type": "markdown",
   "metadata": {},
   "source": [
    "The numerical solution for the simulation at Reynolds number 1,000 and a snake at a 35-degree angle of attack was transferred from Azure Storage to our local machine on December 22, 2017.\n",
    "The numerical solution for the second simulation was transferred two days later.\n",
    "Each data transfer cost about 6.0 USD."
   ]
  },
  {
   "cell_type": "code",
   "execution_count": null,
   "metadata": {
    "collapsed": true
   },
   "outputs": [],
   "source": [
    "mask = ((pandas.to_datetime(meshAextra_data['Date']) == '2017-12-27') |\n",
    "        (pandas.to_datetime(meshAextra_data['Date']) == '2017-12-29'))\n",
    "subdata = meshAextra_data[mask]\n",
    "mask = ((subdata['ServiceName'] == 'Networking') &\n",
    "        (subdata['ServiceResource'] == 'Data Transfer Out (GB)'))\n",
    "subdata[mask]"
   ]
  },
  {
   "cell_type": "markdown",
   "metadata": {},
   "source": [
    "##### Data management"
   ]
  },
  {
   "cell_type": "code",
   "execution_count": null,
   "metadata": {
    "collapsed": true
   },
   "outputs": [],
   "source": [
    "mask = meshAextra_data['ServiceName'] == 'Data Management'\n",
    "subdata = meshAextra_data[mask]\n",
    "service_resources = subdata['ServiceResource'].unique()\n",
    "print('Data Management costs:')\n",
    "for resource in service_resources:\n",
    "    mask = subdata['ServiceResource'] == resource\n",
    "    cost = subdata[mask]['Cost'].sum()\n",
    "    print('- {}: ${:.2f}'.format(resource, cost))"
   ]
  },
  {
   "cell_type": "code",
   "execution_count": null,
   "metadata": {
    "collapsed": true
   },
   "outputs": [],
   "source": []
  }
 ],
 "metadata": {
  "kernelspec": {
   "display_name": "Python 3",
   "language": "python",
   "name": "python3"
  },
  "language_info": {
   "codemirror_mode": {
    "name": "ipython",
    "version": 3
   },
   "file_extension": ".py",
   "mimetype": "text/x-python",
   "name": "python",
   "nbconvert_exporter": "python",
   "pygments_lexer": "ipython3",
   "version": "3.6.3"
  }
 },
 "nbformat": 4,
 "nbformat_minor": 2
}
