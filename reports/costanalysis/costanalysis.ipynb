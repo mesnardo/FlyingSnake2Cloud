{
 "cells": [
  {
   "cell_type": "markdown",
   "metadata": {},
   "source": [
    "###### Content provided under a Creative Commons Attribution license, CC-BY 4.0; code under MIT License. (c)2018 Olivier Mesnard. Thanks: Microsoft Azure Sponsorship."
   ]
  },
  {
   "cell_type": "markdown",
   "metadata": {},
   "source": [
    "---\n",
    "\n",
    "# Microsoft Azure Sponsorship: Cost Analysis\n",
    "\n",
    "---"
   ]
  },
  {
   "cell_type": "code",
   "execution_count": 1,
   "metadata": {},
   "outputs": [
    {
     "data": {
      "text/html": [
       "<link href=\"https://fonts.googleapis.com/css?family=Merriweather:300,300i,400,400i,700,700i,900,900i\" rel=\"stylesheet\">\n",
       "<link href=\"https://fonts.googleapis.com/css?family=Source+Sans+Pro:300,300i,400,400i,700,700i\" rel=\"stylesheet\">\n",
       "<link href='http://fonts.googleapis.com/css?family=Source+Code+Pro:300,400' rel='stylesheet' type='text/css'>\n",
       "<style>\n",
       "\n",
       "@font-face {\n",
       "    font-family: \"Computer Modern\";\n",
       "    src: url('http://mirrors.ctan.org/fonts/cm-unicode/fonts/otf/cmunss.otf');\n",
       "}\n",
       "\n",
       "\n",
       "#notebook_panel { /* main background */\n",
       "    background: rgb(245,245,245);\n",
       "}\n",
       "\n",
       "div.cell { /* set cell width */\n",
       "    width: 850px;\n",
       "}\n",
       "\n",
       "div #notebook { /* centre the content */\n",
       "    background: #fff; /* white background for content */\n",
       "    width: 1000px;\n",
       "    margin: auto;\n",
       "    padding-left: 0em;\n",
       "}\n",
       "\n",
       "#notebook li { /* More space between bullet points */\n",
       "margin-top:0.8em;\n",
       "}\n",
       "\n",
       "/* draw border around running cells */\n",
       "div.cell.border-box-sizing.code_cell.running { \n",
       "    border: 1px solid #111;\n",
       "}\n",
       "\n",
       "/* Put a solid color box around each cell and its output, visually linking them*/\n",
       "div.cell.code_cell {\n",
       "    background-color: rgb(256,256,256); \n",
       "    border-radius: 0px; \n",
       "    padding: 0.5em;\n",
       "    margin-left:1em;\n",
       "    margin-top: 1em;\n",
       "}\n",
       "\n",
       "\n",
       "div.text_cell_render{\n",
       "    font-family: 'Source Sans Pro', sans-serif;\n",
       "    line-height: 140%;\n",
       "    font-size: 110%;\n",
       "    width:800px;\n",
       "    margin-left:auto;\n",
       "    margin-right:auto;\n",
       "}\n",
       "\n",
       "/* Formatting for header cells */\n",
       ".text_cell_render h1 {\n",
       "    font-family: 'Merriweather', serif;\n",
       "    font-style:regular;\n",
       "    font-weight: bold;    \n",
       "    font-size: 250%;\n",
       "    line-height: 100%;\n",
       "    color: #004065;\n",
       "    margin-bottom: 1em;\n",
       "    margin-top: 0.5em;\n",
       "    display: block;\n",
       "}\t\n",
       ".text_cell_render h2 {\n",
       "    font-family: 'Merriweather', serif;\n",
       "    font-weight: bold; \n",
       "    font-size: 180%;\n",
       "    line-height: 100%;\n",
       "    color: #0096d6;\n",
       "    margin-bottom: 0.5em;\n",
       "    margin-top: 0.5em;\n",
       "    display: block;\n",
       "}\t\n",
       "\n",
       ".text_cell_render h3 {\n",
       "    font-family: 'Merriweather', serif;\n",
       "\tfont-size: 150%;\n",
       "    margin-top:12px;\n",
       "    margin-bottom: 3px;\n",
       "    font-style: regular;\n",
       "    color: #008367;\n",
       "}\n",
       "\n",
       ".text_cell_render h4 {    /*Use this for captions*/\n",
       "    font-family: 'Merriweather', serif;\n",
       "    font-weight: 300; \n",
       "    font-size: 100%;\n",
       "    line-height: 120%;\n",
       "    text-align: center;\n",
       "    margin-top: 1em;\n",
       "    margin-bottom: 2em;\n",
       "    font-style: regular;\n",
       "}\n",
       "\n",
       ".text_cell_render h5 {  /*Use this for small titles*/\n",
       "    font-family: 'Source Sans Pro', sans-serif;\n",
       "    font-weight: regular;\n",
       "    font-size: 130%;\n",
       "    color: #e31937;\n",
       "    font-style: italic;\n",
       "    margin-bottom: .5em;\n",
       "    margin-top: 1em;\n",
       "    display: block;\n",
       "}\n",
       "\n",
       ".text_cell_render h6 { /*use this for copyright note*/\n",
       "    font-family: 'Source Code Pro', sans-serif;\n",
       "    font-weight: 300;\n",
       "    font-size: 9pt;\n",
       "    line-height: 100%;\n",
       "    color: grey;\n",
       "    margin-bottom: 1px;\n",
       "    margin-top: 1px;\n",
       "}\n",
       "\n",
       "    .CodeMirror{\n",
       "            font-family: \"Source Code Pro\";\n",
       "\t\t\tfont-size: 90%;\n",
       "    }\n",
       "/*    .prompt{\n",
       "        display: None;\n",
       "    }*/\n",
       "\t\n",
       "    \n",
       "    .warning{\n",
       "        color: rgb( 240, 20, 20 )\n",
       "        }  \n",
       "</style>\n",
       "<script>\n",
       "    MathJax.Hub.Config({\n",
       "                        TeX: {\n",
       "                           extensions: [\"AMSmath.js\"], \n",
       "                           equationNumbers: { autoNumber: \"AMS\", useLabelIds: true}\n",
       "                           },\n",
       "                tex2jax: {\n",
       "                    inlineMath: [ ['$','$'], [\"\\\\(\",\"\\\\)\"] ],\n",
       "                    displayMath: [ ['$$','$$'], [\"\\\\[\",\"\\\\]\"] ]\n",
       "                },\n",
       "                displayAlign: 'center', // Change this to 'center' to center equations.\n",
       "                \"HTML-CSS\": {\n",
       "                    styles: {'.MathJax_Display': {\"margin\": 4}}\n",
       "                }\n",
       "        });\n",
       "</script>\n"
      ],
      "text/plain": [
       "<IPython.core.display.HTML object>"
      ]
     },
     "execution_count": 1,
     "metadata": {},
     "output_type": "execute_result"
    }
   ],
   "source": [
    "import os\n",
    "import pandas\n",
    "import numpy\n",
    "from matplotlib import pyplot\n",
    "%matplotlib inline\n",
    "pyplot.style.use('seaborn-dark')\n",
    "\n",
    "# load style of notebook\n",
    "from IPython.core.display import HTML\n",
    "def css_styling(filepath):\n",
    "    styles = open(filepath, 'r').read()\n",
    "    return HTML(styles)\n",
    "css_styling(os.path.join('styles', 'custom.css'))"
   ]
  },
  {
   "cell_type": "code",
   "execution_count": 2,
   "metadata": {
    "collapsed": true
   },
   "outputs": [],
   "source": [
    "# Read csv file with billing details\n",
    "filepath = os.path.join('data', 'AzureUsage_all.csv')\n",
    "raw_data = pandas.read_csv(filepath)"
   ]
  },
  {
   "cell_type": "code",
   "execution_count": 3,
   "metadata": {},
   "outputs": [
    {
     "data": {
      "text/plain": [
       "Index(['SubscriptionName', 'SubscriptionGuid', 'Date', 'ResourceGuid',\n",
       "       'ServiceName', 'ServiceType', 'ServiceRegion', 'ServiceResource',\n",
       "       'Quantity', 'Cost'],\n",
       "      dtype='object')"
      ]
     },
     "execution_count": 3,
     "metadata": {},
     "output_type": "execute_result"
    }
   ],
   "source": [
    "raw_data.columns"
   ]
  },
  {
   "cell_type": "markdown",
   "metadata": {},
   "source": [
    "Our Azure bill reports:\n",
    "\n",
    "* `SubscriptionName`, the name of the subscription (`Microsoft Azure Sponsorship` in our case);\n",
    "* `SubscriptionGuid`, the id of the subscription (`{4C217C02-7B06-42DA-B13C-E8DE392FBD00}` in our case);\n",
    "* `Date`, the date of the charge;\n",
    "* `ResourceGuid`;\n",
    "* `ServiceName`;\n",
    "* `ServiceType`;\n",
    "* `ServiceRegion`;\n",
    "* `ServiceResource`;\n",
    "* `Quantity`;\n",
    "* `Cost`.\n",
    "\n",
    "We do not need all columns for our cost analysis; let's keep only the interesting ones: `Date`, `ServiceName`, `ServiceType`, `ServiceRegion`, `ServiceResource`, `Quantity`, and `Cost`."
   ]
  },
  {
   "cell_type": "code",
   "execution_count": 4,
   "metadata": {
    "collapsed": true
   },
   "outputs": [],
   "source": [
    "# Keep interesting columns\n",
    "columns = ['Date', 'ServiceName', 'ServiceType',\n",
    "           'ServiceRegion', 'ServiceResource',\n",
    "           'Quantity', 'Cost']\n",
    "data = raw_data[columns]"
   ]
  },
  {
   "cell_type": "code",
   "execution_count": 5,
   "metadata": {},
   "outputs": [
    {
     "name": "stdout",
     "output_type": "stream",
     "text": [
      "Start: 4/30/2017, end: 1/3/2018\n",
      "Total cost: 18436.588668610297\n"
     ]
    }
   ],
   "source": [
    "print('Start: {}, end: {}'.format(data['Date'].values[0], data['Date'].values[-1]))\n",
    "print('Total cost: {}'.format(data['Cost'].values.sum()))"
   ]
  },
  {
   "cell_type": "markdown",
   "metadata": {},
   "source": [
    "Microsoft Azure Sponsorship granted us \\$20,000 to evaluate their cloud platform and run Computational Fluid Dynamics simulations with our in-house MPI-based software [PetIBM](https://github.com/barbagroup/PetIBM).\n",
    "Between April 30, 2017 and January 3, 2018, we have spent \\$18,437 on Microsoft Azure."
   ]
  },
  {
   "cell_type": "markdown",
   "metadata": {},
   "source": [
    "___\n",
    "\n",
    "## Types of charge\n",
    "\n",
    "___"
   ]
  },
  {
   "cell_type": "code",
   "execution_count": 6,
   "metadata": {},
   "outputs": [
    {
     "data": {
      "text/plain": [
       "array(['Data Management', 'Virtual Machines', 'Networking', 'Storage'], dtype=object)"
      ]
     },
     "execution_count": 6,
     "metadata": {},
     "output_type": "execute_result"
    }
   ],
   "source": [
    "data['ServiceName'].unique()"
   ]
  },
  {
   "cell_type": "markdown",
   "metadata": {},
   "source": [
    "During that period, we have been charged for the following services:\n",
    "* `Data Management`,\n",
    "* `Virtual Machines`,\n",
    "* `Networking`,\n",
    "* `Storage`."
   ]
  },
  {
   "cell_type": "code",
   "execution_count": 7,
   "metadata": {},
   "outputs": [
    {
     "data": {
      "image/png": "[encoded data removed]",
      "text/plain": [
       "<matplotlib.figure.Figure at 0x108f98898>"
      ]
     },
     "metadata": {},
     "output_type": "display_data"
    }
   ],
   "source": [
    "total_cost = data['Cost'].sum()\n",
    "costs = {}\n",
    "service_names = data['ServiceName'].unique()\n",
    "for name in service_names:\n",
    "    mask = data['ServiceName'] == name\n",
    "    costs[name] = data[mask]['Cost'].sum()\n",
    "    \n",
    "fig, ax = pyplot.subplots(figsize=(10.0, 4.0))\n",
    "sizes = [costs[name] / total_cost * 100.0\n",
    "         for name in service_names]\n",
    "labels = ['{}: ${:.2f} ({:.2f}%)'.format(name, costs[name], size)\n",
    "          for name, size in zip(service_names, sizes)]\n",
    "patches, _ = ax.pie(sizes)\n",
    "fig.legend(patches, labels, loc='upper left', prop={'size': 16})\n",
    "ax.axis('equal');"
   ]
  },
  {
   "cell_type": "markdown",
   "metadata": {},
   "source": [
    "Ok, almost all of the charges are from the usage of virtual machines."
   ]
  },
  {
   "cell_type": "code",
   "execution_count": 8,
   "metadata": {
    "collapsed": true
   },
   "outputs": [],
   "source": [
    "def print_resource_costs(data, service_name='All'):\n",
    "    \"\"\"\n",
    "    Prints the cost of service resources for a given service name.\n",
    "    \n",
    "    Parameters\n",
    "    ----------\n",
    "    data: pandas.core.frame.DataFrame\n",
    "        Input data with service name and service resources.\n",
    "    service_name: string, optional\n",
    "        Name of the service to display;\n",
    "        choices: 'Data Management', 'Virtual Machines', 'Networking', 'Storage';\n",
    "        default: 'All'.\n",
    "    \"\"\"\n",
    "    if service_name is not 'All':\n",
    "        mask = data['ServiceName'] == service_name\n",
    "        data = data[mask]\n",
    "    service_names = data['ServiceName'].unique()\n",
    "    for name in service_names:\n",
    "        print(name)\n",
    "        mask = data['ServiceName'] == name\n",
    "        subdata = data[mask]\n",
    "        service_resources = subdata['ServiceResource'].unique()\n",
    "        for resource in service_resources:\n",
    "            mask = subdata['ServiceResource'] == resource\n",
    "            total_cost = subdata[mask]['Cost'].sum()\n",
    "            print(' - {}: ${:.6f}'.format(resource, total_cost))\n",
    "        print()"
   ]
  },
  {
   "cell_type": "markdown",
   "metadata": {},
   "source": [
    "### Virtual Machines"
   ]
  },
  {
   "cell_type": "code",
   "execution_count": 9,
   "metadata": {},
   "outputs": [
    {
     "name": "stdout",
     "output_type": "stream",
     "text": [
      "Virtual Machines\n",
      " - Compute Hours: $18244.480669\n",
      "\n"
     ]
    }
   ],
   "source": [
    "print_resource_costs(data, service_name='Virtual Machines')"
   ]
  },
  {
   "cell_type": "markdown",
   "metadata": {},
   "source": [
    "For the use of virtual machines, we have been charged for compute hours.\n",
    "The compute hour price depends on the instance of virtual machine.\n",
    "With our sponsorship, we had to possibility to use various instances:"
   ]
  },
  {
   "cell_type": "code",
   "execution_count": 10,
   "metadata": {},
   "outputs": [
    {
     "data": {
      "image/png": "[encoded data removed]",
      "text/plain": [
       "<matplotlib.figure.Figure at 0x108f98908>"
      ]
     },
     "metadata": {},
     "output_type": "display_data"
    }
   ],
   "source": [
    "mask = data['ServiceName'] == 'Virtual Machines'\n",
    "subdata = data[mask]\n",
    "total_cost = subdata['Cost'].sum()\n",
    "costs = {}\n",
    "instances = subdata['ServiceType'].unique()\n",
    "for instance in instances:\n",
    "    mask = subdata['ServiceType'] == instance\n",
    "    costs[instance] = subdata[mask]['Cost'].sum()\n",
    "\n",
    "fig, ax = pyplot.subplots(figsize=(12.0, 4.0))\n",
    "sizes = [costs[instance] / total_cost * 100.0\n",
    "         for instance in instances]\n",
    "labels = ['{}: ${:.2f} ({:.2f}%)'.format(instance, costs[instance], size)\n",
    "          for instance, size in zip(instances, sizes)]\n",
    "patches, _ = ax.pie(sizes)\n",
    "fig.legend(patches, labels, loc='upper left', prop={'size': 16})\n",
    "ax.axis('equal');"
   ]
  },
  {
   "cell_type": "markdown",
   "metadata": {},
   "source": [
    "As seen above, we spent most of the money with the instances `Standard_NC24`, `Standard_NC24r`, and `A9`.\n",
    "\n",
    "The `A9` instances were used to compare runtime obtained on test-cases between Microsoft Azure and our HPC University cluster, Colonial One.\n",
    "\n",
    "The instance `Standard_NC24` was mostly used to compute the three-dimensional flow around a snake cylinder with a 35-degree angle of attack at Reynolds number 2,000 on a 46-million-cell mesh.\n",
    "\n",
    "The RDMA-capable instances `Standard_NC24r` were used to run the same simulation on a finer mesh (233 million cells)."
   ]
  },
  {
   "cell_type": "markdown",
   "metadata": {},
   "source": [
    "### Data Management"
   ]
  },
  {
   "cell_type": "code",
   "execution_count": 11,
   "metadata": {},
   "outputs": [
    {
     "name": "stdout",
     "output_type": "stream",
     "text": [
      "Data Management\n",
      " - Standard IO - Table Read Operation Units (in 10,000s): $0.000016\n",
      " - Standard IO - Block Blob Write Operation Units (in 10,000s): $0.003969\n",
      " - Standard IO - Block Blob Read Operation Units (in 10,000s): $0.007115\n",
      " - Standard IO - Queue Operation Units (in 10,000s): $0.000046\n",
      " - Standard IO - File Protocol Operation Units (in 10,000s): $0.521066\n",
      " - Standard IO - File Read Operation Units (in 10,000s): $0.546279\n",
      " - Standard IO - Block Blob Delete Operation Units (in 10,000s): $0.000011\n",
      " - Standard IO - Table Write Operation Units (in 10,000s): $0.003419\n",
      " - Standard IO - Page Blob Write Operation Units (in 10,000s): $0.594375\n",
      " - Standard IO - Page Blob Read Operation Units (in 10,000s): $0.022818\n",
      " - Standard IO - Page Blob Delete Operation Units (in 10,000s): $0.006561\n",
      " - Standard IO - Block Blob List Operation Units (in 10,000s): $0.000007\n",
      " - Standard IO - File Write Operation Units (in 10,000s): $9.975102\n",
      " - Standard IO - File Delete Operation Units (in 10,000s): $0.000000\n",
      " - Storage Transactions (in 10,000s): $0.000000\n",
      " - Standard IO - File List Operation Units (in 10,000s): $0.002011\n",
      " - Standard IO - Table Batch Write Operation Units (in 10,000s): $0.002740\n",
      " - Standard IO - Table Scan Operation Units (in 10,000s): $0.000029\n",
      "\n"
     ]
    }
   ],
   "source": [
    "print_resource_costs(data, service_name='Data Management')"
   ]
  },
  {
   "cell_type": "markdown",
   "metadata": {},
   "source": [
    "### Networking"
   ]
  },
  {
   "cell_type": "code",
   "execution_count": 12,
   "metadata": {},
   "outputs": [
    {
     "name": "stdout",
     "output_type": "stream",
     "text": [
      "Networking\n",
      " - Data Transfer In (GB): $0.000000\n",
      " - Data Transfer Out (GB): $55.726161\n",
      " - IP Address Hours: $1.880000\n",
      "\n"
     ]
    }
   ],
   "source": [
    "print_resource_costs(data, service_name='Networking')"
   ]
  },
  {
   "cell_type": "markdown",
   "metadata": {},
   "source": [
    "Networking charges include data transfer and allocation of public IP addresses.\n",
    "`Data Transfer In` represents inbound transfer (data going into Azure data centers) and is free.\n",
    "`Data Transfer Out` is outbound transfer (price depends on the quantity being transferred).\n",
    "(More details about [data transfer charges](https://azure.microsoft.com/en-us/pricing/details/bandwidth/) and [IP address charges](https://azure.microsoft.com/en-us/pricing/details/ip-addresses/).)"
   ]
  },
  {
   "cell_type": "markdown",
   "metadata": {},
   "source": [
    "### Storage"
   ]
  },
  {
   "cell_type": "code",
   "execution_count": 13,
   "metadata": {},
   "outputs": [
    {
     "name": "stdout",
     "output_type": "stream",
     "text": [
      "Storage\n",
      " - Standard Managed Disk/S4 (Units): $8.084128\n",
      " - Standard IO - Block Blob (GB): $0.032647\n",
      " - Standard IO - Page Blob/Disk (GB): $57.113960\n",
      " - Standard IO - Files (GB): $56.785135\n",
      " - Standard IO - Table (GB): $0.002347\n",
      " - Standard Managed Disk/S10 (Units): $0.605381\n",
      " - Standard Managed Disk/S30 (Units): $0.192676\n",
      " - Standard IO - Queue Class 1 Operation Units: $0.000000\n",
      "\n"
     ]
    }
   ],
   "source": [
    "print_resource_costs(data, service_name='Storage')"
   ]
  },
  {
   "cell_type": "markdown",
   "metadata": {},
   "source": [
    "___\n",
    "\n",
    "## 3D simulations of the flying snake\n",
    "\n",
    "___"
   ]
  },
  {
   "cell_type": "markdown",
   "metadata": {},
   "source": [
    "We ran simulations of the three-dimensional flow around a cylinder with an anatomically cross-section of the flying snake, _Chrysopelea paradisi_, on Microsoft Azure using two different meshes:\n",
    "\n",
    "* mesh A: 46 million cells (1071x1072x40),\n",
    "* mesh B: 233 million cells (1704x1706x80).\n",
    "\n",
    "We started by computing 100 non-dimensional time-units of flow simulation on mesh A with a 35-degree angle of attack for the snake at Reynolds number 2,000, using a single instance NC24.\n",
    "Then, we interpolated the final coarse solution on mesh B to compute 75 additional time units, using Azure Batch services on a pool with 6 NC24r nodes.\n",
    "The computation on the fine mesh B was divided in three runs as there is a 7-day time-limit for Batch tasks."
   ]
  },
  {
   "cell_type": "code",
   "execution_count": 14,
   "metadata": {
    "collapsed": true
   },
   "outputs": [],
   "source": [
    "compute_hour_costs = {'NC24': 3.96,\n",
    "                      'NC24r': 3.96}"
   ]
  },
  {
   "cell_type": "markdown",
   "metadata": {},
   "source": [
    "### Re=2,000, AoA=35$^o$ (mesh A)\n",
    "\n",
    "The simulation was run on a single instance NC24 (featuring 4 NVIDIA K80 GPU devices) in the US South Central region during May, 2017.\n",
    "We logged into the node, installed PetIBM-0.2 and all its dependencies;\n",
    "we used PETSc-3.7.4 and the shared library AmgX-1.2.0-build108.\n",
    "At that time, AmgX was not yet an open-source library but the shared library was accessible to CUDA-registered developpers with a time-limited license."
   ]
  },
  {
   "cell_type": "code",
   "execution_count": 15,
   "metadata": {},
   "outputs": [
    {
     "data": {
      "text/html": [
       "<div>\n",
       "<style>\n",
       "    .dataframe thead tr:only-child th {\n",
       "        text-align: right;\n",
       "    }\n",
       "\n",
       "    .dataframe thead th {\n",
       "        text-align: left;\n",
       "    }\n",
       "\n",
       "    .dataframe tbody tr th {\n",
       "        vertical-align: top;\n",
       "    }\n",
       "</style>\n",
       "<table border=\"1\" class=\"dataframe\">\n",
       "  <thead>\n",
       "    <tr style=\"text-align: right;\">\n",
       "      <th></th>\n",
       "      <th>Date</th>\n",
       "      <th>ServiceName</th>\n",
       "      <th>ServiceType</th>\n",
       "      <th>ServiceRegion</th>\n",
       "      <th>ServiceResource</th>\n",
       "      <th>Quantity</th>\n",
       "      <th>Cost</th>\n",
       "    </tr>\n",
       "  </thead>\n",
       "  <tbody>\n",
       "    <tr>\n",
       "      <th>26</th>\n",
       "      <td>5/31/2017</td>\n",
       "      <td>Virtual Machines</td>\n",
       "      <td>Standard_NC24 VM</td>\n",
       "      <td>US South Central</td>\n",
       "      <td>Compute Hours</td>\n",
       "      <td>234.616758</td>\n",
       "      <td>1055.775411</td>\n",
       "    </tr>\n",
       "  </tbody>\n",
       "</table>\n",
       "</div>"
      ],
      "text/plain": [
       "         Date       ServiceName       ServiceType     ServiceRegion  \\\n",
       "26  5/31/2017  Virtual Machines  Standard_NC24 VM  US South Central   \n",
       "\n",
       "   ServiceResource    Quantity         Cost  \n",
       "26   Compute Hours  234.616758  1055.775411  "
      ]
     },
     "execution_count": 15,
     "metadata": {},
     "output_type": "execute_result"
    }
   ],
   "source": [
    "meshA2k35 = {'ncells': 1071 * 1072 * 40,\n",
    "             'nodes': 1,\n",
    "             'instance': 'NC24',\n",
    "             'data': None,\n",
    "             'PETSc runtime': 5.33E+05 / 3600.0  # in hours\n",
    "            }\n",
    "\n",
    "mask = data['ServiceType'] == 'Standard_NC24 VM'\n",
    "meshA2k35['data'] = data[mask]\n",
    "\n",
    "mask = meshA2k35['data']['ServiceRegion'] == 'US South Central'\n",
    "subdata = meshA2k35['data'][mask]\n",
    "mask = ((pandas.to_datetime(subdata['Date']) >= '2017-05-01') &\n",
    "        (pandas.to_datetime(subdata['Date']) <= '2017-05-31'))\n",
    "subdata[mask]"
   ]
  },
  {
   "cell_type": "markdown",
   "metadata": {},
   "source": [
    "Unfortunately, our billing statement just reports the cost accumulated over May, 2017.\n",
    "During that month, we also have been running test-cases in addition to this simulation of the flying snake.\n",
    "\n",
    "However, with PETSc, we have access to the runtime for this simulation."
   ]
  },
  {
   "cell_type": "code",
   "execution_count": 16,
   "metadata": {},
   "outputs": [
    {
     "name": "stdout",
     "output_type": "stream",
     "text": [
      "Cost of the run: $586.30\n"
     ]
    }
   ],
   "source": [
    "print('Cost of the run: ${:.2f}'.format(meshA2k35['PETSc runtime'] *\n",
    "                                        meshA2k35['nodes'] *\n",
    "                                        compute_hour_costs[meshA2k35['instance']]))"
   ]
  },
  {
   "cell_type": "markdown",
   "metadata": {},
   "source": [
    "The runtime reported by PETSc is 148 hours.\n",
    "With an hourly price of \\$3.96 for the NC24 instance, the cost of this run is \\$586.30."
   ]
  },
  {
   "cell_type": "markdown",
   "metadata": {},
   "source": [
    "### Re=2,000, AoA=35$^o$ (mesh B)"
   ]
  },
  {
   "cell_type": "markdown",
   "metadata": {},
   "source": [
    "We needed more than one NC24 instance to have enough memory on GPU devices to solve the Poisson system on a 233-million-cell mesh.\n",
    "We used the instances NC24r that are RDMA-capable.\n",
    "\n",
    "We used Azure Batch services and [Batch Shipyard](https://github.com/Azure/batch-shipyard) to create the pools and the jobs, and to submit the tasks.\n",
    "\n",
    "The task was submitted to Azure Batch on a pool of 6 NC24r nodes, each NC24r instance having an hourly cost of \\$3.96."
   ]
  },
  {
   "cell_type": "code",
   "execution_count": 17,
   "metadata": {
    "collapsed": true
   },
   "outputs": [],
   "source": [
    "meshB2k35 = {'ncells': 1704 * 1706 * 80,\n",
    "             'nodes': 6,\n",
    "             'instance': 'NC24r',\n",
    "             'data': None,\n",
    "             'PETSc runtime': None\n",
    "            }"
   ]
  },
  {
   "cell_type": "markdown",
   "metadata": {},
   "source": [
    "We do not have the runtime from PETSc for the simulation as we purposely killed the task because of the time-limit enforced on Azure Batch tasks (which was unknown to us at the time of submitting the task)."
   ]
  },
  {
   "cell_type": "code",
   "execution_count": 18,
   "metadata": {},
   "outputs": [
    {
     "name": "stdout",
     "output_type": "stream",
     "text": [
      "- Total number of compute hours: 1638.00\n",
      "- Number of compute hours per node: 273.00\n",
      "- Expected cost for the compute hours: $6486.48\n",
      "- Reported cost: $6486.48\n"
     ]
    }
   ],
   "source": [
    "start, end = '2017-11-14', '2017-11-28'\n",
    "mask = ((pandas.to_datetime(data['Date']) >= start) &\n",
    "        (pandas.to_datetime(data['Date']) <= end))\n",
    "meshB2k35['data'] = data[mask]\n",
    "\n",
    "mask = meshB2k35['data']['ServiceName'] == 'Virtual Machines'\n",
    "subdata = meshB2k35['data'][mask]\n",
    "\n",
    "total_hours = subdata['Quantity'].sum()\n",
    "print('- Total number of compute hours: {:.2f}'.format(total_hours))\n",
    "print('- Number of compute hours per node: {:.2f}'\n",
    "      .format(total_hours / meshB2k35['nodes']))\n",
    "print('- Expected cost for the compute hours: ${:.2f}'\n",
    "      .format(total_hours * compute_hour_costs[meshB2k35['instance']]))\n",
    "print('- Reported cost: ${:.2f}'\n",
    "      .format(subdata['Cost'].sum()))"
   ]
  },
  {
   "cell_type": "markdown",
   "metadata": {},
   "source": [
    "This simulation was the first time we used Azure Batch services, creating the pool, the job, and the task with Batch Shipyard.\n",
    "We submitted the task on November 14, 2017, at 3:50 pm and purposely killed on November 28, 2017, at 2:10 pm.\n",
    "\n",
    "Why did we have to kill the job?\n",
    "\n",
    "Our simulations run for a prescribed number of time steps and we save the numerical solution (pressure and velocity fields, convective and diffusive terms) at a certain frequency.\n",
    "We also compute and write into file the aerodynamic forces every time step.\n",
    "It appears that the numerical solution was output to files for the last time on November, 25, 2017, at 10:25 am, at a time step that is not the final time step.\n",
    "Something went wrong during the task and the computation was not anymore running normally.\n",
    "It took me about three days to realize that something was wrong!\n",
    "Why so long?\n",
    "I usually check the status of the task to make sure everything is ok.\n",
    "The pool and job's task were still respectively marked as  \"active\" and \"running\", even if the computation was not running.\n",
    "I even logged into the nodes an ran the \"top\" command-line utility to check the processes were still running.\n",
    "However, the compute nodes on the Azure portal were marked as IDLE.\n",
    "\n",
    "Seeking for help to Microsoft Azure, Fred Park, software engineer and main developer of Batch Shipyard, told us that Batch tasks have a 7-day time-limit enforced (from the time the task is submitted), a restriction that was not yet mentioned in the official documentation of Microsoft Azure.\n",
    "(As pointed out by Fred Park, there is a not at the end of the documentation for Batch Shipyard; we missed it...)\n",
    "\n",
    "Three days past between the last time the solution was output to files and the time we had the confirmation that the simulation was not running anymore so we had to kill the job and restart it.\n",
    "\n",
    "Let's redo our cost analysis for this simulation with the following assumptions:\n",
    "\n",
    "* the task started at 3:50 pm on November 14, 2017 and run for 8 hours and 10 minutes that day;\n",
    "* the task ran normally until 10:25 am on November 25, 2017 for 10 hours and 25 minutes that day."
   ]
  },
  {
   "cell_type": "code",
   "execution_count": 19,
   "metadata": {},
   "outputs": [
    {
     "name": "stdout",
     "output_type": "stream",
     "text": [
      "- Total number of compute hours: 1251.50\n",
      "- Number of compute hours per node: 208.58\n",
      "- Expected cost for the compute hours: $4955.94\n",
      "- Effective cost: $4955.94\n"
     ]
    }
   ],
   "source": [
    "start, end = '2017-11-14', '2017-11-25'\n",
    "mask = ((pandas.to_datetime(data['Date']) >= start) &\n",
    "        (pandas.to_datetime(data['Date']) <= end))\n",
    "meshB2k35['data'] = data[mask]\n",
    "\n",
    "mask = meshB2k35['data']['ServiceName'] == 'Virtual Machines'\n",
    "subdata = meshB2k35['data'][mask]\n",
    "\n",
    "hours = subdata['Quantity'].values\n",
    "# First day: assume run for 8 hours and 10 minutes\n",
    "hours[0] = (8.0 + 10.0 / 60) * meshB2k35['nodes']\n",
    "# Last running day: assume run for 10 hours and 25 minutes\n",
    "hours[-1] = (10.0 + 25.0 / 60) * meshB2k35['nodes']\n",
    "\n",
    "total_hours = hours.sum()\n",
    "print('- Total number of compute hours: {:.2f}'.format(total_hours))\n",
    "print('- Number of compute hours per node: {:.2f}'.format(total_hours / meshB2k35['nodes']))\n",
    "print('- Expected cost for the compute hours: ${:.2f}'\n",
    "      .format(total_hours * compute_hour_costs[meshB2k35['instance']]))\n",
    "costs = subdata['Cost'].values\n",
    "costs[0] = hours[0] * compute_hour_costs[meshB2k35['instance']]\n",
    "costs[-1] = hours[-1] * compute_hour_costs[meshB2k35['instance']]\n",
    "print('- Effective cost: ${:.2f}'.format(costs.sum()))"
   ]
  },
  {
   "cell_type": "markdown",
   "metadata": {},
   "source": [
    "We can also estimate the money lost because we were not aware of this 7-day time-limit restriction for Azure Batch tasks:"
   ]
  },
  {
   "cell_type": "code",
   "execution_count": 20,
   "metadata": {},
   "outputs": [
    {
     "name": "stdout",
     "output_type": "stream",
     "text": [
      "Total cost charged for the virtual machines while simulation not running: $1344.42\n"
     ]
    }
   ],
   "source": [
    "start, end = '2017-11-25', '2017-11-28'\n",
    "mask = ((pandas.to_datetime(data['Date']) >= start) &\n",
    "        (pandas.to_datetime(data['Date']) <= end))\n",
    "loss_data = data[mask]\n",
    "\n",
    "cost_20171125 = costs[-1]  # cost on December 25, 2017 when simulation was running\n",
    "\n",
    "mask = loss_data['ServiceName'] == 'Virtual Machines'\n",
    "loss_costs = loss_data['Cost'][mask].values\n",
    "loss_costs[0] -= cost_20171125  # adjust to keep only money wasted\n",
    "print('Total cost charged for the virtual machines while simulation not running: ${:.2f}'\n",
    "      .format(loss_costs.sum()))"
   ]
  },
  {
   "cell_type": "markdown",
   "metadata": {},
   "source": [
    "As said before, the simulation stopped running correctly on November 29, 2017, at 10:25 am an was killed on November 28, 2017, at 2:10 pm.\n",
    "Thus, the pool was still allocated for 75 hours and 45 minutes.\n",
    "With an hourly price of \\$3.96 for each of the 6 NC24r nodes, we would be expecting a charge of \\$1799.8.\n",
    "However, it appears that we were only chaged for \\$1344.4."
   ]
  },
  {
   "cell_type": "code",
   "execution_count": 21,
   "metadata": {},
   "outputs": [
    {
     "data": {
      "image/png": "[encoded data removed]",
      "text/plain": [
       "<matplotlib.figure.Figure at 0x10c6f5588>"
      ]
     },
     "metadata": {},
     "output_type": "display_data"
    }
   ],
   "source": [
    "mask = meshB2k35['data']['ServiceName'] == 'Virtual Machines'\n",
    "subdata = meshB2k35['data'][mask]\n",
    "\n",
    "dates = subdata['Date'].values\n",
    "hours = subdata['Quantity'].values\n",
    "costs = subdata['Cost'].values\n",
    "\n",
    "fig, ax1 = pyplot.subplots(figsize=(10.0, 4.0))\n",
    "ax1.yaxis.grid(zorder=0)\n",
    "ax1.set_xlabel('Date', fontsize=16)\n",
    "ax1.set_ylabel('Compute hours', fontsize=16)\n",
    "bar_width = 0.25\n",
    "ax1.bar(numpy.arange(dates.size), hours,\n",
    "        bar_width, zorder=1)\n",
    "ax1.axhline(24.0 * meshB2k35['nodes'], color='red', linestyle='--')\n",
    "ax1.set_xticks(numpy.arange(dates.size))\n",
    "ax1.set_xticklabels(dates)\n",
    "for label in ax1.get_xmajorticklabels():\n",
    "    label.set_rotation(45)\n",
    "    label.set_horizontalalignment('right')\n",
    "\n",
    "ax2 = ax1.twinx()\n",
    "ax2.set_ylabel('Cost ($)', fontsize=16)\n",
    "ax2.bar(numpy.arange(dates.size), costs,\n",
    "        bar_width, zorder=1)\n",
    "ax2.axhline(24.0 * meshB2k35['nodes'] * compute_hour_costs[meshB2k35['instance']],\n",
    "            color='red', linestyle='--');"
   ]
  },
  {
   "cell_type": "markdown",
   "metadata": {},
   "source": [
    "The figure above shows the number of compute hours and the cost charged daily when the task was running.\n",
    "The dashed red line shows the values as if the simulation was computing during the full day.\n",
    "\n",
    "It is surprising to see that we have been charged for 24 hours of computation only two days (11/17/2017 and 11/19/2017)."
   ]
  },
  {
   "cell_type": "code",
   "execution_count": 22,
   "metadata": {},
   "outputs": [
    {
     "name": "stdout",
     "output_type": "stream",
     "text": [
      "Calculated price per compute hours: [ 3.96]\n",
      "Calculated number of hours charged: [ 16.]\n"
     ]
    },
    {
     "data": {
      "text/html": [
       "<div>\n",
       "<style>\n",
       "    .dataframe thead tr:only-child th {\n",
       "        text-align: right;\n",
       "    }\n",
       "\n",
       "    .dataframe thead th {\n",
       "        text-align: left;\n",
       "    }\n",
       "\n",
       "    .dataframe tbody tr th {\n",
       "        vertical-align: top;\n",
       "    }\n",
       "</style>\n",
       "<table border=\"1\" class=\"dataframe\">\n",
       "  <thead>\n",
       "    <tr style=\"text-align: right;\">\n",
       "      <th></th>\n",
       "      <th>Date</th>\n",
       "      <th>ServiceName</th>\n",
       "      <th>ServiceType</th>\n",
       "      <th>ServiceRegion</th>\n",
       "      <th>ServiceResource</th>\n",
       "      <th>Quantity</th>\n",
       "      <th>Cost</th>\n",
       "    </tr>\n",
       "  </thead>\n",
       "  <tbody>\n",
       "    <tr>\n",
       "      <th>1139</th>\n",
       "      <td>11/16/2017</td>\n",
       "      <td>Virtual Machines</td>\n",
       "      <td>Standard_NC24r VM</td>\n",
       "      <td>US East</td>\n",
       "      <td>Compute Hours</td>\n",
       "      <td>96.0</td>\n",
       "      <td>380.16</td>\n",
       "    </tr>\n",
       "  </tbody>\n",
       "</table>\n",
       "</div>"
      ],
      "text/plain": [
       "            Date       ServiceName        ServiceType ServiceRegion  \\\n",
       "1139  11/16/2017  Virtual Machines  Standard_NC24r VM       US East   \n",
       "\n",
       "     ServiceResource  Quantity    Cost  \n",
       "1139   Compute Hours      96.0  380.16  "
      ]
     },
     "execution_count": 22,
     "metadata": {},
     "output_type": "execute_result"
    }
   ],
   "source": [
    "mask = pandas.to_datetime(meshB2k35['data']['Date']) == '2017-11-16'\n",
    "subdata = meshB2k35['data'][mask]\n",
    "mask = subdata['ServiceName'] == 'Virtual Machines'\n",
    "print('Calculated price per compute hours: {}'\n",
    "      .format(subdata[mask]['Cost'].values / subdata[mask]['Quantity'].values))\n",
    "print('Calculated number of hours charged: {}'\n",
    "      .format(subdata[mask]['Quantity'].values / meshB2k35['nodes']))\n",
    "subdata[mask]"
   ]
  },
  {
   "cell_type": "markdown",
   "metadata": {},
   "source": [
    "On November 16, 2017, we were in the middle on the run but we have been charged for 96 hours at a cost of \\$380.16, which means that the simulation was running for only 16 hours (instead of 24 hours as expected)."
   ]
  },
  {
   "cell_type": "markdown",
   "metadata": {},
   "source": [
    "#### Other costs\n",
    "\n",
    "Between November 14 and November 29, 2017, we have also been charged for `Networking`, `Data Management`, and `Storage`."
   ]
  },
  {
   "cell_type": "code",
   "execution_count": 23,
   "metadata": {},
   "outputs": [
    {
     "name": "stdout",
     "output_type": "stream",
     "text": [
      "- Networking cost: $20.59\n",
      "\t- Data Transfer In (GB)\n",
      "\t- Data Transfer Out (GB)\n",
      "- Data Management cost: $2.53\n",
      "\t- Standard IO - Table Read Operation Units (in 10,000s)\n",
      "\t- Standard IO - Block Blob Write Operation Units (in 10,000s)\n",
      "\t- Standard IO - Block Blob Read Operation Units (in 10,000s)\n",
      "\t- Standard IO - File Protocol Operation Units (in 10,000s)\n",
      "\t- Standard IO - File Read Operation Units (in 10,000s)\n",
      "\t- Standard IO - File Delete Operation Units (in 10,000s)\n",
      "\t- Standard IO - Block Blob Delete Operation Units (in 10,000s)\n",
      "\t- Standard IO - Table Scan Operation Units (in 10,000s)\n",
      "\t- Standard IO - Table Write Operation Units (in 10,000s)\n",
      "\t- Standard IO - Table Batch Write Operation Units (in 10,000s)\n",
      "\t- Standard IO - File List Operation Units (in 10,000s)\n",
      "\t- Standard IO - Block Blob List Operation Units (in 10,000s)\n",
      "\t- Standard IO - File Write Operation Units (in 10,000s)\n",
      "\t- Standard IO - Queue Operation Units (in 10,000s)\n",
      "- Storage cost: $11.28\n",
      "\t- Standard IO - Table (GB)\n",
      "\t- Standard Managed Disk/S4 (Units)\n",
      "\t- Standard IO - Block Blob (GB)\n",
      "\t- Standard IO - Page Blob/Disk (GB)\n",
      "\t- Standard IO - Files (GB)\n"
     ]
    }
   ],
   "source": [
    "start, end = '2017-11-14', '2017-11-29'\n",
    "mask = ((pandas.to_datetime(data['Date']) >= start) &\n",
    "        (pandas.to_datetime(data['Date']) <= end))\n",
    "subdata = data[mask]\n",
    "\n",
    "service_names = ['Networking', 'Data Management', 'Storage']\n",
    "for name in service_names:\n",
    "    mask = subdata['ServiceName'] == name\n",
    "    print('- {} cost: ${:.2f}'.format(name, subdata[mask]['Cost'].sum()))\n",
    "    service_resources = subdata[mask]['ServiceResource'].unique()\n",
    "    for resource in service_resources:\n",
    "        print('\\t- ' + resource)"
   ]
  },
  {
   "cell_type": "code",
   "execution_count": 24,
   "metadata": {},
   "outputs": [
    {
     "name": "stdout",
     "output_type": "stream",
     "text": [
      "Networking cost: $18.82\n"
     ]
    }
   ],
   "source": [
    "start, end = '2017-11-28', '2017-11-29'\n",
    "mask = ((pandas.to_datetime(data['Date']) >= start) &\n",
    "        (pandas.to_datetime(data['Date']) <= end))\n",
    "subdata = data[mask]\n",
    "\n",
    "mask = subdata['ServiceName'] == 'Networking'\n",
    "print('Networking cost: ${:.2f}'.format(subdata[mask]['Cost'].sum()))"
   ]
  },
  {
   "cell_type": "markdown",
   "metadata": {},
   "source": [
    "### Re=2,000, AoA=35$^o$ (mesh B) - first restart"
   ]
  },
  {
   "cell_type": "markdown",
   "metadata": {},
   "source": [
    "The task for this simulation on the fine mesh (233 million cells) was submitted on November, 29, 2017, at 2:45 pm, in a pool of 6 NC24r nodes, and completed by December 5, 2017, at 4 pm."
   ]
  },
  {
   "cell_type": "code",
   "execution_count": 25,
   "metadata": {
    "collapsed": true
   },
   "outputs": [],
   "source": [
    "meshB2k35r1 = {'ncells': 1704 * 1706 * 80,\n",
    "               'nodes': 6,\n",
    "               'instance': 'NC24r',\n",
    "               'data': None,\n",
    "               'PETSc runtime': 5.191E+05 / 3600.0  # in hours\n",
    "            }\n",
    "\n",
    "start, end = '2017-11-29', '2017-12-05'\n",
    "mask = ((pandas.to_datetime(data['Date']) >= start) &\n",
    "        (pandas.to_datetime(data['Date']) <= end))\n",
    "meshB2k35r1['data'] = data[mask]"
   ]
  },
  {
   "cell_type": "markdown",
   "metadata": {},
   "source": [
    "Let's have a look at the different services we were being charged during that period:"
   ]
  },
  {
   "cell_type": "code",
   "execution_count": 26,
   "metadata": {},
   "outputs": [
    {
     "name": "stdout",
     "output_type": "stream",
     "text": [
      "- Data Management: $1.36\n",
      "- Networking: $12.69\n",
      "- Storage: $9.09\n",
      "- Virtual Machines: $2496.19\n"
     ]
    }
   ],
   "source": [
    "service_names = meshB2k35r1['data']['ServiceName'].unique()\n",
    "for name in service_names:\n",
    "    mask = meshB2k35r1['data']['ServiceName'] == name\n",
    "    print('- {}: ${:.2f}'.format(name, meshB2k35r1['data'][mask]['Cost'].sum()))"
   ]
  },
  {
   "cell_type": "markdown",
   "metadata": {},
   "source": [
    "#### Compute hours"
   ]
  },
  {
   "cell_type": "code",
   "execution_count": 27,
   "metadata": {},
   "outputs": [
    {
     "name": "stdout",
     "output_type": "stream",
     "text": [
      "- Total number of compute hours: 630.35\n",
      "- Number of compute hours per node: 105.06\n",
      "- Expected cost for the compute hours: $2496.19\n",
      "- Reported cost: $2496.19\n"
     ]
    }
   ],
   "source": [
    "mask = meshB2k35r1['data']['ServiceName'] == 'Virtual Machines'\n",
    "subdata = meshB2k35r1['data'][mask]\n",
    "\n",
    "total_hours = subdata['Quantity'].sum()\n",
    "print('- Total number of compute hours: {:.2f}'.format(total_hours))\n",
    "print('- Number of compute hours per node: {:.2f}'.format(total_hours / meshB2k35r1['nodes']))\n",
    "print('- Expected cost for the compute hours: ${:.2f}'\n",
    "      .format(total_hours * compute_hour_costs[meshB2k35r1['instance']]))\n",
    "print('- Reported cost: ${:.2f}'.format(subdata['Cost'].sum()))"
   ]
  },
  {
   "cell_type": "markdown",
   "metadata": {},
   "source": [
    "For the virtual machines, we were only charged for the number of compute hours used, which represents a total of 630.4 hours (or 105.1 hours per NC24r node).\n",
    "The price of one compute hour on a NC24r is \\$3.96 and we have been charged for \\$2496.19 for this run.\n",
    "\n",
    "The PETSc library has a routine to report the runtime.\n",
    "For this simulation, the runtime reported by PETSc was 144.2 hours, which is higher than the number of compute hours being charged by Azure.\n",
    "(The duration of the task from the time it was submitted to the time it completed is about 145 hours and match the runtime reported by PETSc.)\n",
    "The 39-hour difference between the two runtimes is suprising as we were expecting the simulation to run for full days.\n",
    "If we consider that Azure is not under-charging us, the computation was IDLE 27.1% of the task runtime."
   ]
  },
  {
   "cell_type": "code",
   "execution_count": 28,
   "metadata": {},
   "outputs": [
    {
     "data": {
      "image/png": "[encoded data removed]",
      "text/plain": [
       "<matplotlib.figure.Figure at 0x108234e80>"
      ]
     },
     "metadata": {},
     "output_type": "display_data"
    }
   ],
   "source": [
    "mask = meshB2k35r1['data']['ServiceName'] == 'Virtual Machines'\n",
    "subdata = meshB2k35r1['data'][mask]\n",
    "\n",
    "dates = subdata['Date'].values\n",
    "hours = subdata['Quantity'].values\n",
    "costs = subdata['Cost'].values\n",
    "\n",
    "fig, ax1 = pyplot.subplots(figsize=(10.0, 4.0))\n",
    "ax1.yaxis.grid(zorder=0)\n",
    "ax1.set_xlabel('Date', fontsize=16)\n",
    "ax1.set_ylabel('Compute hours', fontsize=16)\n",
    "bar_width = 0.25\n",
    "ax1.bar(numpy.arange(dates.size), hours,\n",
    "        bar_width, zorder=1)\n",
    "ax1.axhline(24.0 * meshB2k35r1['nodes'], color='red', linestyle='--')\n",
    "ax1.set_xticks(numpy.arange(dates.size))\n",
    "ax1.set_xticklabels(dates)\n",
    "for label in ax1.get_xmajorticklabels():\n",
    "    label.set_rotation(45)\n",
    "    label.set_horizontalalignment('right')\n",
    "\n",
    "ax2 = ax1.twinx()\n",
    "ax2.set_ylabel('Cost ($)', fontsize=16)\n",
    "ax2.bar(numpy.arange(dates.size), costs,\n",
    "        bar_width, zorder=1)\n",
    "ax2.axhline(24.0 * meshB2k35r1['nodes'] * compute_hour_costs[meshB2k35r1['instance']],\n",
    "            color='red', linestyle='--');"
   ]
  },
  {
   "cell_type": "markdown",
   "metadata": {},
   "source": [
    "The figure above shows the number of compute hours and the cost charged daily when the task was running.\n",
    "The dashed red line shows the values as if the simulation was computing during the full day."
   ]
  },
  {
   "cell_type": "markdown",
   "metadata": {
    "collapsed": true
   },
   "source": [
    "### Re=2,000, AoA=35$^o$ (mesh B) - second restart"
   ]
  },
  {
   "cell_type": "markdown",
   "metadata": {},
   "source": [
    "Finally, we restarted the simulation one last time to compute additional time units while avoiding the time-limit enforced on Azure Batch tasks.\n",
    "The task was submitted on December 7, 2017, at 7:20 pm and completed by December 11, 2017, at 4:10 am."
   ]
  },
  {
   "cell_type": "code",
   "execution_count": 29,
   "metadata": {
    "collapsed": true
   },
   "outputs": [],
   "source": [
    "meshB2k35r2 = {'ncells': 1704 * 1706 * 80,\n",
    "               'nodes': 6,\n",
    "               'instance': 'NC24r',\n",
    "               'data': None,\n",
    "               'PETSc runtime': 2.914E+05 / 3600.0  # in hours\n",
    "            }\n",
    "\n",
    "start, end = '2017-12-05', '2017-12-11'\n",
    "mask = ((pandas.to_datetime(data['Date']) >= start) &\n",
    "        (pandas.to_datetime(data['Date']) <= end))\n",
    "meshB2k35r2['data'] = data[mask]"
   ]
  },
  {
   "cell_type": "markdown",
   "metadata": {},
   "source": [
    "Within this period, we have been charged for `Virtual Machines`, `Data Management`, `Storage`, and `Networking`, with most of the cost incurred by the use of virtual machines."
   ]
  },
  {
   "cell_type": "code",
   "execution_count": 30,
   "metadata": {},
   "outputs": [
    {
     "name": "stdout",
     "output_type": "stream",
     "text": [
      "- Data Management: $1.04\n",
      "- Networking: $17.06\n",
      "- Storage: $11.93\n",
      "- Virtual Machines: $1971.29\n"
     ]
    }
   ],
   "source": [
    "service_names = meshB2k35r2['data']['ServiceName'].unique()\n",
    "for name in service_names:\n",
    "    mask = meshB2k35r2['data']['ServiceName'] == name\n",
    "    print('- {}: ${:.2f}'.format(name, meshB2k35r2['data'][mask]['Cost'].sum()))"
   ]
  },
  {
   "cell_type": "markdown",
   "metadata": {},
   "source": [
    "#### Virtual Machines (Compute hours)"
   ]
  },
  {
   "cell_type": "code",
   "execution_count": 31,
   "metadata": {},
   "outputs": [
    {
     "name": "stdout",
     "output_type": "stream",
     "text": [
      "- Total number of compute hours: 497.80\n",
      "- Number of compute hours per node: 82.97\n",
      "- Expected cost for the compute hours: $1971.29\n",
      "- Reported cost: $1971.29\n"
     ]
    }
   ],
   "source": [
    "mask = meshB2k35r2['data']['ServiceName'] == 'Virtual Machines'\n",
    "subdata = meshB2k35r2['data'][mask]\n",
    "\n",
    "total_hours = subdata['Quantity'].sum()\n",
    "print('- Total number of compute hours: {:.2f}'.format(total_hours))\n",
    "print('- Number of compute hours per node: {:.2f}'.format(total_hours / meshB2k35r2['nodes']))\n",
    "print('- Expected cost for the compute hours: ${:.2f}'\n",
    "      .format(total_hours * compute_hour_costs[meshB2k35r2['instance']]))\n",
    "print('- Reported cost: ${:.2f}'.format(subdata['Cost'].sum()))"
   ]
  },
  {
   "cell_type": "markdown",
   "metadata": {},
   "source": [
    "For this task, we have been charged, for the virtual machines, for about 497.8 compute hours (or 83.0 hours per node) with the cost of $1971.3.\n",
    "\n",
    "The duration of the task (from submission to completion) is about 81 hours, which is also the runtime reported by PETSc.\n",
    "\n",
    "This time the number of compute hours per node being charged exceeds the task runtime.\n",
    "This is explained by the fact that on December 7, 2017, I had trouble restarting the simulation.\n",
    "\n",
    "So let's redo the cost estimation, assuming that the simulation run from 7:20 pm to midnight on December 7, 2017."
   ]
  },
  {
   "cell_type": "code",
   "execution_count": 32,
   "metadata": {},
   "outputs": [
    {
     "name": "stdout",
     "output_type": "stream",
     "text": [
      "- Total number of compute hours: 398.13\n",
      "- Number of compute hours per node: 66.36\n",
      "- Expected cost for the compute hours: $1576.61\n",
      "- Reported cost: $1576.61\n"
     ]
    }
   ],
   "source": [
    "mask = meshB2k35r2['data']['ServiceName'] == 'Virtual Machines'\n",
    "subdata = meshB2k35r2['data'][mask]\n",
    "\n",
    "hours = subdata['Quantity'].values\n",
    "# First day: assume run from 7:20 pm to midnight\n",
    "hours[0] = (4.0 + 40.0 / 60) * meshB2k35r2['nodes']\n",
    "total_hours = hours.sum()\n",
    "print('- Total number of compute hours: {:.2f}'.format(total_hours))\n",
    "print('- Number of compute hours per node: {:.2f}'.format(total_hours / meshB2k35r2['nodes']))\n",
    "print('- Expected cost for the compute hours: ${:.2f}'\n",
    "      .format(total_hours * compute_hour_costs[meshB2k35r2['instance']]))\n",
    "costs = subdata['Cost'].values\n",
    "# First day: assume run from 7:20 pm to midnight\n",
    "costs[0] = (4.0 + 40.0 / 60) * meshB2k35r2['nodes'] * compute_hour_costs[meshB2k35r2['instance']]\n",
    "print('- Reported cost: ${:.2f}'.format(costs.sum()))"
   ]
  },
  {
   "cell_type": "markdown",
   "metadata": {},
   "source": [
    "Now, the number of compute hours per node is 66 hours, which is below the runtime of the task (or the PETSc runtime)."
   ]
  },
  {
   "cell_type": "code",
   "execution_count": 33,
   "metadata": {},
   "outputs": [
    {
     "data": {
      "image/png": "[encoded data removed]",
      "text/plain": [
       "<matplotlib.figure.Figure at 0x110fcb160>"
      ]
     },
     "metadata": {},
     "output_type": "display_data"
    }
   ],
   "source": [
    "mask = meshB2k35r2['data']['ServiceName'] == 'Virtual Machines'\n",
    "subdata = meshB2k35r2['data'][mask]\n",
    "\n",
    "dates = subdata['Date'].values\n",
    "hours = subdata['Quantity'].values\n",
    "costs = subdata['Cost'].values\n",
    "# First day: assume run from 7:20 pm to midnight\n",
    "hours[0] = (4.0 + 40.0 / 60) * meshB2k35r2['nodes']\n",
    "costs[0] = (4.0 + 40.0 / 60) * meshB2k35r2['nodes'] * compute_hour_costs[meshB2k35r2['instance']]\n",
    "\n",
    "fig, ax1 = pyplot.subplots(figsize=(10.0, 4.0))\n",
    "ax1.yaxis.grid(zorder=0)\n",
    "ax1.set_xlabel('Date', fontsize=16)\n",
    "ax1.set_ylabel('Compute hours', fontsize=16)\n",
    "bar_width = 0.25\n",
    "ax1.bar(numpy.arange(dates.size), hours,\n",
    "        bar_width, zorder=1)\n",
    "ax1.axhline(24.0 * meshB2k35r2['nodes'], color='red', linestyle='--')\n",
    "ax1.set_xticks(numpy.arange(dates.size))\n",
    "ax1.set_xticklabels(dates)\n",
    "for label in ax1.get_xmajorticklabels():\n",
    "    label.set_rotation(45)\n",
    "    label.set_horizontalalignment('right')\n",
    "\n",
    "ax2 = ax1.twinx()\n",
    "ax2.set_ylabel('Cost ($)', fontsize=16)\n",
    "ax2.bar(numpy.arange(dates.size), costs,\n",
    "        bar_width, zorder=1)\n",
    "ax2.axhline(24.0 * meshB2k35r2['nodes'] * compute_hour_costs[meshB2k35r2['instance']],\n",
    "            color='red', linestyle='--');"
   ]
  },
  {
   "cell_type": "markdown",
   "metadata": {},
   "source": [
    "The figure above shows the number of compute hours and the cost charged daily when the task was running.\n",
    "The dashed red line shows the values as if the simulation was computing during the full day."
   ]
  },
  {
   "cell_type": "markdown",
   "metadata": {},
   "source": [
    "### Extra simulations"
   ]
  },
  {
   "cell_type": "markdown",
   "metadata": {},
   "source": [
    "Two additional tasks were submitted to Azure Batch on December 22, 2017, at 12:30 pm:\n",
    "\n",
    "1. simulation of 100,000 time steps on a 46-million-cell mesh for the flow around a snake cylinder with a 35-degree angle of attack at Reynolds number 1,000, and\n",
    "2. simulation of 100,000 time steps on a 46-million-cell mesh for the flow around a snake cylinder with a 30-degree angle of attack at Reynolds number 2,000.\n",
    "\n",
    "Each task was submitted to its own Batch pool of 2 NC24r nodes.\n",
    "\n",
    "The first task completed on December 27, 2017, at 6 am and PETSc reports a runtime of 113.5 hours.\n",
    "The second task completed two days later, at 9:50 am with a PETSc-reported runtime of 165.4 hours."
   ]
  },
  {
   "cell_type": "code",
   "execution_count": 34,
   "metadata": {
    "collapsed": true
   },
   "outputs": [],
   "source": [
    "meshAextra = {'ncells': 1071 * 1072 * 40,\n",
    "               'nodes': 2 + 2,\n",
    "               'instance': 'NC24r',\n",
    "               'data': None\n",
    "             }\n",
    "\n",
    "start, end = '2017-12-22', '2017-12-29'\n",
    "mask = ((pandas.to_datetime(data['Date']) >= start) &\n",
    "        (pandas.to_datetime(data['Date']) <= end))\n",
    "meshAextra['data'] = data[mask]"
   ]
  },
  {
   "cell_type": "code",
   "execution_count": 35,
   "metadata": {},
   "outputs": [
    {
     "name": "stdout",
     "output_type": "stream",
     "text": [
      "- Data Management: $3.51\n",
      "- Networking: $12.31\n",
      "- Storage: $16.94\n",
      "- Virtual Machines: $1721.86\n"
     ]
    }
   ],
   "source": [
    "service_names = meshAextra['data']['ServiceName'].unique()\n",
    "for name in service_names:\n",
    "    mask = meshAextra['data']['ServiceName'] == name\n",
    "    print('- {}: ${:.2f}'.format(name, meshAextra['data'][mask]['Cost'].sum()))"
   ]
  },
  {
   "cell_type": "markdown",
   "metadata": {},
   "source": [
    "#### Virtual Machines (Compute Hours)"
   ]
  },
  {
   "cell_type": "code",
   "execution_count": 36,
   "metadata": {},
   "outputs": [
    {
     "name": "stdout",
     "output_type": "stream",
     "text": [
      "- Total number of compute hours: 434.87\n",
      "- Number of compute hours per node: 108.72\n",
      "- Calculated charge for the compute hours: $1722.07\n",
      "- Reported charge: $1721.86\n"
     ]
    }
   ],
   "source": [
    "mask = meshAextra['data']['ServiceName'] == 'Virtual Machines'\n",
    "subdata = meshAextra['data'][mask]\n",
    "\n",
    "total_hours = subdata['Quantity'].sum()\n",
    "print('- Total number of compute hours: {:.2f}'.format(total_hours))\n",
    "print('- Number of compute hours per node: {:.2f}'.format(total_hours / meshAextra['nodes']))\n",
    "print('- Calculated charge for the compute hours: ${:.2f}'\n",
    "      .format(total_hours * compute_hour_costs[meshAextra['instance']]))\n",
    "print('- Reported charge: ${:.2f}'.format(subdata['Cost'].sum()))"
   ]
  },
  {
   "cell_type": "markdown",
   "metadata": {},
   "source": [
    "The difference between the calculated and reported charges for the compute hours is explained by the fact that the two simulations did not finish at the same time."
   ]
  },
  {
   "cell_type": "code",
   "execution_count": 37,
   "metadata": {},
   "outputs": [
    {
     "data": {
      "image/png": "[encoded data removed]",
      "text/plain": [
       "<matplotlib.figure.Figure at 0x110ff77f0>"
      ]
     },
     "metadata": {},
     "output_type": "display_data"
    }
   ],
   "source": [
    "mask = meshAextra['data']['ServiceName'] == 'Virtual Machines'\n",
    "subdata = meshAextra['data'][mask]\n",
    "\n",
    "# Neglecting first entry because tasks failed due to HDF5 library\n",
    "dates = subdata['Date'].values[1:]\n",
    "hours = subdata['Quantity'].values[1:]\n",
    "costs = subdata['Cost'].values[1:]\n",
    "\n",
    "fig, ax1 = pyplot.subplots(figsize=(10.0, 4.0))\n",
    "ax1.yaxis.grid(zorder=0)\n",
    "ax1.set_xlabel('Date', fontsize=16)\n",
    "ax1.set_ylabel('Compute hours', fontsize=16)\n",
    "bar_width = 0.25\n",
    "ax1.bar(numpy.arange(dates.size), hours,\n",
    "        bar_width, zorder=1)\n",
    "ax1.axhline(24.0 * meshAextra['nodes'], color='red', linestyle='--')\n",
    "ax1.set_xticks(numpy.arange(dates.size))\n",
    "ax1.set_xticklabels(dates)\n",
    "for label in ax1.get_xmajorticklabels():\n",
    "    label.set_rotation(45)\n",
    "    label.set_horizontalalignment('right')\n",
    "\n",
    "ax2 = ax1.twinx()\n",
    "ax2.set_ylabel('Cost ($)', fontsize=16)\n",
    "ax2.bar(numpy.arange(dates.size), costs,\n",
    "        bar_width, zorder=1)\n",
    "ax2.axhline(24.0 * meshAextra['nodes'] * compute_hour_costs[meshAextra['instance']],\n",
    "            color='red', linestyle='--');"
   ]
  },
  {
   "cell_type": "markdown",
   "metadata": {},
   "source": [
    "#### Networking (Data Transfer)"
   ]
  },
  {
   "cell_type": "code",
   "execution_count": 38,
   "metadata": {},
   "outputs": [
    {
     "name": "stdout",
     "output_type": "stream",
     "text": [
      "Networking charge: $12.31\n"
     ]
    }
   ],
   "source": [
    "mask = meshAextra['data']['ServiceName'] == 'Networking'\n",
    "subdata = meshAextra['data'][mask]\n",
    "print('Networking charge: ${:.2f}'.format(subdata['Cost'].sum()))"
   ]
  },
  {
   "cell_type": "markdown",
   "metadata": {},
   "source": [
    "Each simulation generated 125 GB of data.\n",
    "The numerical solution for the run at Reynolds number 1,000 and a 35-degree angle of attack was transferred from Azure Storage to our local machine on December 22, 2017.\n",
    "The numerical solution of the second run was transferred two days later.\n",
    "Each transfer cost about \\$6."
   ]
  },
  {
   "cell_type": "code",
   "execution_count": 39,
   "metadata": {},
   "outputs": [
    {
     "data": {
      "text/html": [
       "<div>\n",
       "<style>\n",
       "    .dataframe thead tr:only-child th {\n",
       "        text-align: right;\n",
       "    }\n",
       "\n",
       "    .dataframe thead th {\n",
       "        text-align: left;\n",
       "    }\n",
       "\n",
       "    .dataframe tbody tr th {\n",
       "        vertical-align: top;\n",
       "    }\n",
       "</style>\n",
       "<table border=\"1\" class=\"dataframe\">\n",
       "  <thead>\n",
       "    <tr style=\"text-align: right;\">\n",
       "      <th></th>\n",
       "      <th>Date</th>\n",
       "      <th>ServiceName</th>\n",
       "      <th>ServiceType</th>\n",
       "      <th>ServiceRegion</th>\n",
       "      <th>ServiceResource</th>\n",
       "      <th>Quantity</th>\n",
       "      <th>Cost</th>\n",
       "    </tr>\n",
       "  </thead>\n",
       "  <tbody>\n",
       "    <tr>\n",
       "      <th>1644</th>\n",
       "      <td>12/27/2017</td>\n",
       "      <td>Networking</td>\n",
       "      <td>All</td>\n",
       "      <td>Zone 1</td>\n",
       "      <td>Data Transfer Out (GB)</td>\n",
       "      <td>124.503279</td>\n",
       "      <td>6.038409</td>\n",
       "    </tr>\n",
       "    <tr>\n",
       "      <th>1674</th>\n",
       "      <td>12/29/2017</td>\n",
       "      <td>Networking</td>\n",
       "      <td>All</td>\n",
       "      <td>Zone 1</td>\n",
       "      <td>Data Transfer Out (GB)</td>\n",
       "      <td>124.506586</td>\n",
       "      <td>6.038569</td>\n",
       "    </tr>\n",
       "  </tbody>\n",
       "</table>\n",
       "</div>"
      ],
      "text/plain": [
       "            Date ServiceName ServiceType ServiceRegion  \\\n",
       "1644  12/27/2017  Networking         All        Zone 1   \n",
       "1674  12/29/2017  Networking         All        Zone 1   \n",
       "\n",
       "             ServiceResource    Quantity      Cost  \n",
       "1644  Data Transfer Out (GB)  124.503279  6.038409  \n",
       "1674  Data Transfer Out (GB)  124.506586  6.038569  "
      ]
     },
     "execution_count": 39,
     "metadata": {},
     "output_type": "execute_result"
    }
   ],
   "source": [
    "mask = ((pandas.to_datetime(meshAextra['data']['Date']) == '2017-12-27') |\n",
    "        (pandas.to_datetime(meshAextra['data']['Date']) == '2017-12-29'))\n",
    "subdata = meshAextra['data'][mask]\n",
    "mask = ((subdata['ServiceName'] == 'Networking') &\n",
    "        (subdata['ServiceResource'] == 'Data Transfer Out (GB)'))\n",
    "subdata[mask]"
   ]
  },
  {
   "cell_type": "markdown",
   "metadata": {},
   "source": [
    "#### Data Management"
   ]
  },
  {
   "cell_type": "code",
   "execution_count": 40,
   "metadata": {},
   "outputs": [
    {
     "name": "stdout",
     "output_type": "stream",
     "text": [
      "Data Management costs:\n",
      "- Standard IO - Table Read Operation Units (in 10,000s): $0.00\n",
      "- Standard IO - Block Blob Write Operation Units (in 10,000s): $0.00\n",
      "- Standard IO - Block Blob Read Operation Units (in 10,000s): $0.00\n",
      "- Standard IO - File Protocol Operation Units (in 10,000s): $0.18\n",
      "- Standard IO - File Read Operation Units (in 10,000s): $0.19\n",
      "- Standard IO - File Delete Operation Units (in 10,000s): $0.00\n",
      "- Standard IO - Block Blob Delete Operation Units (in 10,000s): $0.00\n",
      "- Standard IO - Table Scan Operation Units (in 10,000s): $0.00\n",
      "- Standard IO - Table Write Operation Units (in 10,000s): $0.00\n",
      "- Standard IO - Table Batch Write Operation Units (in 10,000s): $0.00\n",
      "- Standard IO - File List Operation Units (in 10,000s): $0.00\n",
      "- Standard IO - Block Blob List Operation Units (in 10,000s): $0.00\n",
      "- Standard IO - File Write Operation Units (in 10,000s): $3.14\n"
     ]
    }
   ],
   "source": [
    "mask = meshAextra['data']['ServiceName'] == 'Data Management'\n",
    "subdata = meshAextra['data'][mask]\n",
    "service_resources = subdata['ServiceResource'].unique()\n",
    "print('Data Management costs:')\n",
    "for resource in service_resources:\n",
    "    mask = subdata['ServiceResource'] == resource\n",
    "    cost = subdata[mask]['Cost'].sum()\n",
    "    print('- {}: ${:.2f}'.format(resource, cost))"
   ]
  },
  {
   "cell_type": "code",
   "execution_count": null,
   "metadata": {
    "collapsed": true
   },
   "outputs": [],
   "source": []
  }
 ],
 "metadata": {
  "kernelspec": {
   "display_name": "Python 3",
   "language": "python",
   "name": "python3"
  },
  "language_info": {
   "codemirror_mode": {
    "name": "ipython",
    "version": 3
   },
   "file_extension": ".py",
   "mimetype": "text/x-python",
   "name": "python",
   "nbconvert_exporter": "python",
   "pygments_lexer": "ipython3",
   "version": "3.6.3"
  }
 },
 "nbformat": 4,
 "nbformat_minor": 2
}
