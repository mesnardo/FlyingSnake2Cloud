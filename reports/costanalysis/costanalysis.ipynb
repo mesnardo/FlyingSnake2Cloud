{
 "cells": [
  {
   "cell_type": "markdown",
   "metadata": {},
   "source": [
    "###### Content provided under a Creative Commons Attribution license, CC-BY 4.0; code under BSD 3-Clause License. (c)2018 Olivier Mesnard. Thanks: Microsoft Azure Sponsorship."
   ]
  },
  {
   "cell_type": "markdown",
   "metadata": {},
   "source": [
    "---\n",
    "\n",
    "# Microsoft Azure Sponsorship: Cost Analysis\n",
    "\n",
    "---"
   ]
  },
  {
   "cell_type": "code",
   "execution_count": 1,
   "metadata": {},
   "outputs": [
    {
     "data": {
      "text/html": [
       "<link href=\"https://fonts.googleapis.com/css?family=Merriweather:300,300i,400,400i,700,700i,900,900i\" rel=\"stylesheet\">\n",
       "<link href=\"https://fonts.googleapis.com/css?family=Source+Sans+Pro:300,300i,400,400i,700,700i\" rel=\"stylesheet\">\n",
       "<link href='http://fonts.googleapis.com/css?family=Source+Code+Pro:300,400' rel='stylesheet' type='text/css'>\n",
       "<style>\n",
       "\n",
       "@font-face {\n",
       "    font-family: \"Computer Modern\";\n",
       "    src: url('http://mirrors.ctan.org/fonts/cm-unicode/fonts/otf/cmunss.otf');\n",
       "}\n",
       "\n",
       "\n",
       "#notebook_panel { /* main background */\n",
       "    background: rgb(245,245,245);\n",
       "}\n",
       "\n",
       "div.cell { /* set cell width */\n",
       "    width: 700px;\n",
       "}\n",
       "\n",
       "div #notebook { /* centre the content */\n",
       "    background: #fff; /* white background for content */\n",
       "    width: 800px;\n",
       "    margin: auto;\n",
       "    padding-left: 0em;\n",
       "}\n",
       "\n",
       "#notebook li { /* More space between bullet points */\n",
       "margin-top:0.8em;\n",
       "}\n",
       "\n",
       "/* draw border around running cells */\n",
       "div.cell.border-box-sizing.code_cell.running { \n",
       "    border: 1px solid #111;\n",
       "}\n",
       "\n",
       "/* Put a solid color box around each cell and its output, visually linking them*/\n",
       "div.cell.code_cell {\n",
       "    background-color: rgb(256,256,256); \n",
       "    border-radius: 0px; \n",
       "    padding: 0.5em;\n",
       "    margin-left:1em;\n",
       "    margin-top: 1em;\n",
       "}\n",
       "\n",
       "\n",
       "div.text_cell_render{\n",
       "    font-family: 'Source Sans Pro', sans-serif;\n",
       "    line-height: 140%;\n",
       "    font-size: 110%;\n",
       "    width:600px;\n",
       "    margin-left:auto;\n",
       "    margin-right:auto;\n",
       "}\n",
       "\n",
       "/* Formatting for header cells */\n",
       ".text_cell_render h1 {\n",
       "    font-family: 'Merriweather', serif;\n",
       "    font-style:regular;\n",
       "    font-weight: bold;    \n",
       "    font-size: 250%;\n",
       "    line-height: 100%;\n",
       "    color: #004065;\n",
       "    margin-bottom: 1em;\n",
       "    margin-top: 0.5em;\n",
       "    display: block;\n",
       "}\t\n",
       ".text_cell_render h2 {\n",
       "    font-family: 'Merriweather', serif;\n",
       "    font-weight: bold; \n",
       "    font-size: 180%;\n",
       "    line-height: 100%;\n",
       "    color: #0096d6;\n",
       "    margin-bottom: 0.5em;\n",
       "    margin-top: 0.5em;\n",
       "    display: block;\n",
       "}\t\n",
       "\n",
       ".text_cell_render h3 {\n",
       "    font-family: 'Merriweather', serif;\n",
       "\tfont-size: 150%;\n",
       "    margin-top:12px;\n",
       "    margin-bottom: 3px;\n",
       "    font-style: regular;\n",
       "    color: #008367;\n",
       "}\n",
       "\n",
       ".text_cell_render h4 {    /*Use this for captions*/\n",
       "    font-family: 'Merriweather', serif;\n",
       "    font-weight: 300; \n",
       "    font-size: 100%;\n",
       "    line-height: 120%;\n",
       "    text-align: center;\n",
       "    margin-top: 1em;\n",
       "    margin-bottom: 2em;\n",
       "    font-style: regular;\n",
       "}\n",
       "\n",
       ".text_cell_render h5 {  /*Use this for small titles*/\n",
       "    font-family: 'Source Sans Pro', sans-serif;\n",
       "    font-weight: regular;\n",
       "    font-size: 130%;\n",
       "    color: #e31937;\n",
       "    font-style: italic;\n",
       "    margin-bottom: .5em;\n",
       "    margin-top: 1em;\n",
       "    display: block;\n",
       "}\n",
       "\n",
       ".text_cell_render h6 { /*use this for copyright note*/\n",
       "    font-family: 'Source Code Pro', sans-serif;\n",
       "    font-weight: 300;\n",
       "    font-size: 9pt;\n",
       "    line-height: 100%;\n",
       "    color: grey;\n",
       "    margin-bottom: 1px;\n",
       "    margin-top: 1px;\n",
       "}\n",
       "\n",
       "    .CodeMirror{\n",
       "            font-family: \"Source Code Pro\";\n",
       "\t\t\tfont-size: 90%;\n",
       "    }\n",
       "/*    .prompt{\n",
       "        display: None;\n",
       "    }*/\n",
       "\t\n",
       "    \n",
       "    .warning{\n",
       "        color: rgb( 240, 20, 20 )\n",
       "        }  \n",
       "</style>\n",
       "<script>\n",
       "    MathJax.Hub.Config({\n",
       "                        TeX: {\n",
       "                           extensions: [\"AMSmath.js\"], \n",
       "                           equationNumbers: { autoNumber: \"AMS\", useLabelIds: true}\n",
       "                           },\n",
       "                tex2jax: {\n",
       "                    inlineMath: [ ['$','$'], [\"\\\\(\",\"\\\\)\"] ],\n",
       "                    displayMath: [ ['$$','$$'], [\"\\\\[\",\"\\\\]\"] ]\n",
       "                },\n",
       "                displayAlign: 'center', // Change this to 'center' to center equations.\n",
       "                \"HTML-CSS\": {\n",
       "                    styles: {'.MathJax_Display': {\"margin\": 4}}\n",
       "                }\n",
       "        });\n",
       "</script>\n"
      ],
      "text/plain": [
       "<IPython.core.display.HTML object>"
      ]
     },
     "execution_count": 1,
     "metadata": {},
     "output_type": "execute_result"
    }
   ],
   "source": [
    "import os\n",
    "import pandas\n",
    "import numpy\n",
    "from matplotlib import pyplot\n",
    "%matplotlib inline\n",
    "pyplot.style.use('seaborn-dark')\n",
    "\n",
    "# load style of notebook\n",
    "from IPython.core.display import HTML\n",
    "def css_styling(filepath):\n",
    "    styles = open(filepath, 'r').read()\n",
    "    return HTML(styles)\n",
    "css_styling(os.path.join('styles', 'custom.css'))"
   ]
  },
  {
   "cell_type": "code",
   "execution_count": 2,
   "metadata": {},
   "outputs": [],
   "source": [
    "# Read csv file with billing details\n",
    "filepath = os.path.join('data', 'AzureUsage_all.csv')\n",
    "raw_data = pandas.read_csv(filepath)"
   ]
  },
  {
   "cell_type": "code",
   "execution_count": 3,
   "metadata": {},
   "outputs": [
    {
     "data": {
      "text/plain": [
       "Index(['SubscriptionName', 'SubscriptionGuid', 'Date', 'ResourceGuid',\n",
       "       'ServiceName', 'ServiceType', 'ServiceRegion', 'ServiceResource',\n",
       "       'Quantity', 'Cost'],\n",
       "      dtype='object')"
      ]
     },
     "execution_count": 3,
     "metadata": {},
     "output_type": "execute_result"
    }
   ],
   "source": [
    "raw_data.columns"
   ]
  },
  {
   "cell_type": "markdown",
   "metadata": {},
   "source": [
    "Our Azure bill reports:\n",
    "\n",
    "* `SubscriptionName`, the name of the subscription (`Microsoft Azure Sponsorship` in our case);\n",
    "* `SubscriptionGuid`, the id of the subscription (`{4C217C02-7B06-42DA-B13C-E8DE392FBD00}` in our case);\n",
    "* `Date`, the date of the charge;\n",
    "* `ResourceGuid`;\n",
    "* `ServiceName`;\n",
    "* `ServiceType`;\n",
    "* `ServiceRegion`;\n",
    "* `ServiceResource`;\n",
    "* `Quantity`;\n",
    "* `Cost`.\n",
    "\n",
    "We do not need all columns for our cost analysis; let's keep only the interesting ones: `Date`, `ServiceName`, `ServiceType`, `ServiceRegion`, `ServiceResource`, `Quantity`, and `Cost`."
   ]
  },
  {
   "cell_type": "code",
   "execution_count": 4,
   "metadata": {},
   "outputs": [],
   "source": [
    "# Keep interesting columns\n",
    "columns = ['Date', 'ServiceName', 'ServiceType',\n",
    "           'ServiceRegion', 'ServiceResource',\n",
    "           'Quantity', 'Cost']\n",
    "data = raw_data[columns]"
   ]
  },
  {
   "cell_type": "code",
   "execution_count": 5,
   "metadata": {},
   "outputs": [
    {
     "name": "stdout",
     "output_type": "stream",
     "text": [
      "Start: 4/30/2017, end: 1/3/2018\n",
      "Total cost: 18436.588668610297\n"
     ]
    }
   ],
   "source": [
    "print('Start: {}, end: {}'.format(data['Date'].values[0],\n",
    "                                  data['Date'].values[-1]))\n",
    "print('Total cost: {}'.format(data['Cost'].values.sum()))"
   ]
  },
  {
   "cell_type": "markdown",
   "metadata": {},
   "source": [
    "Microsoft Azure Sponsorship granted us \\$20,000 to evaluate their cloud platform and run Computational Fluid Dynamics simulations with our in-house MPI-based software [PetIBM](https://github.com/barbagroup/PetIBM).\n",
    "Between April 30, 2017 and January 3, 2018, we have spent \\$18,437 on Microsoft Azure."
   ]
  },
  {
   "cell_type": "markdown",
   "metadata": {},
   "source": [
    "___\n",
    "\n",
    "## Types of charge\n",
    "\n",
    "___"
   ]
  },
  {
   "cell_type": "code",
   "execution_count": 6,
   "metadata": {},
   "outputs": [
    {
     "data": {
      "text/plain": [
       "array(['Data Management', 'Virtual Machines', 'Networking', 'Storage'],\n",
       "      dtype=object)"
      ]
     },
     "execution_count": 6,
     "metadata": {},
     "output_type": "execute_result"
    }
   ],
   "source": [
    "data['ServiceName'].unique()"
   ]
  },
  {
   "cell_type": "markdown",
   "metadata": {},
   "source": [
    "During that period, we have been charged for the following services:\n",
    "* `Data Management`,\n",
    "* `Virtual Machines`,\n",
    "* `Networking`,\n",
    "* `Storage`."
   ]
  },
  {
   "cell_type": "code",
   "execution_count": 7,
   "metadata": {},
   "outputs": [
    {
     "data": {
      "image/png": "[encoded data removed]",
      "text/plain": [
       "<matplotlib.figure.Figure at 0x10ee316d8>"
      ]
     },
     "metadata": {},
     "output_type": "display_data"
    }
   ],
   "source": [
    "total_cost = data['Cost'].sum()\n",
    "costs = {}\n",
    "service_names = data['ServiceName'].unique()\n",
    "for name in service_names:\n",
    "    mask = data['ServiceName'] == name\n",
    "    costs[name] = data[mask]['Cost'].sum()\n",
    "    \n",
    "fig, ax = pyplot.subplots(figsize=(10.0, 4.0))\n",
    "sizes = [costs[name] / total_cost * 100.0\n",
    "         for name in service_names]\n",
    "labels = ['{}: ${:.2f} ({:.2f}%)'.format(name, costs[name], size)\n",
    "          for name, size in zip(service_names, sizes)]\n",
    "patches, _ = ax.pie(sizes)\n",
    "fig.legend(patches, labels, loc='upper left', prop={'size': 16})\n",
    "ax.axis('equal');"
   ]
  },
  {
   "cell_type": "markdown",
   "metadata": {},
   "source": [
    "Ok, almost all of the charges are from the usage of virtual machines."
   ]
  },
  {
   "cell_type": "code",
   "execution_count": 8,
   "metadata": {},
   "outputs": [],
   "source": [
    "def print_resource_costs(data, service_name='All'):\n",
    "    \"\"\"\n",
    "    Prints the cost of service resources for a given service name.\n",
    "    \n",
    "    Parameters\n",
    "    ----------\n",
    "    data: pandas.core.frame.DataFrame\n",
    "        Input data with service name and service resources.\n",
    "    service_name: string, optional\n",
    "        Name of the service to display;\n",
    "        choices: 'Data Management', 'Virtual Machines',\n",
    "                 'Networking', 'Storage', or 'All';\n",
    "        default: 'All'.\n",
    "    \"\"\"\n",
    "    if service_name is not 'All':\n",
    "        mask = data['ServiceName'] == service_name\n",
    "        data = data[mask]\n",
    "    service_names = data['ServiceName'].unique()\n",
    "    for name in service_names:\n",
    "        print(name)\n",
    "        mask = data['ServiceName'] == name\n",
    "        subdata = data[mask]\n",
    "        service_resources = subdata['ServiceResource'].unique()\n",
    "        for resource in service_resources:\n",
    "            mask = subdata['ServiceResource'] == resource\n",
    "            total_cost = subdata[mask]['Cost'].sum()\n",
    "            print(' - {}: ${:.6f}'.format(resource, total_cost))\n",
    "        print()"
   ]
  },
  {
   "cell_type": "markdown",
   "metadata": {},
   "source": [
    "### Virtual Machines"
   ]
  },
  {
   "cell_type": "code",
   "execution_count": 9,
   "metadata": {},
   "outputs": [
    {
     "name": "stdout",
     "output_type": "stream",
     "text": [
      "Virtual Machines\n",
      " - Compute Hours: $18244.480669\n",
      "\n"
     ]
    }
   ],
   "source": [
    "print_resource_costs(data, service_name='Virtual Machines')"
   ]
  },
  {
   "cell_type": "markdown",
   "metadata": {},
   "source": [
    "For the use of virtual machines, we have been charged for compute hours.\n",
    "The compute hour price depends on the instance of virtual machine.\n",
    "During our sponsorship, we used various instances as shown in the next code cell."
   ]
  },
  {
   "cell_type": "code",
   "execution_count": 10,
   "metadata": {},
   "outputs": [
    {
     "data": {
      "image/png": "[encoded data removed]",
      "text/plain": [
       "<matplotlib.figure.Figure at 0x10988d978>"
      ]
     },
     "metadata": {},
     "output_type": "display_data"
    }
   ],
   "source": [
    "mask = data['ServiceName'] == 'Virtual Machines'\n",
    "subdata = data[mask]\n",
    "total_cost = subdata['Cost'].sum()\n",
    "costs = {}\n",
    "instances = subdata['ServiceType'].unique()\n",
    "for instance in instances:\n",
    "    mask = subdata['ServiceType'] == instance\n",
    "    costs[instance] = subdata[mask]['Cost'].sum()\n",
    "\n",
    "fig, ax = pyplot.subplots(figsize=(12.0, 4.0))\n",
    "sizes = [costs[instance] / total_cost * 100.0\n",
    "         for instance in instances]\n",
    "labels = ['{}: ${:.2f} ({:.2f}%)'.format(instance, costs[instance],\n",
    "                                         size)\n",
    "          for instance, size in zip(instances, sizes)]\n",
    "patches, _ = ax.pie(sizes)\n",
    "fig.legend(patches, labels, loc='upper left', prop={'size': 16})\n",
    "ax.axis('equal');"
   ]
  },
  {
   "cell_type": "markdown",
   "metadata": {},
   "source": [
    "As seen above, we spent most of the money with the instances `Standard_NC24`, `Standard_NC24r`, and `A9`.\n",
    "\n",
    "The `A9` instances were used to compare runtime obtained on test-cases between Microsoft Azure and our university-managed HPC cluster, [Colonial One](https://colonialone.gwu.edu/).\n",
    "\n",
    "The instance `Standard_NC24` was mostly used to compute the three-dimensional flow around a snake cylinder with a 35-degree angle of attack at Reynolds number 2,000 on a structured grid with 46 million points.\n",
    "\n",
    "The RDMA-capable instances `Standard_NC24r` were used for other runs of the same application but either with a finer grid (233 million points) or with a lower angle of attack (30 degrees), or with a smaller Reynolds number (1,000).\n",
    "Those runs have been submitted with [Azure Batch service](https://docs.microsoft.com/en-us/azure/batch/) using the utility tool [Batch Shipyard](https://github.com/Azure/batch-shipyard)."
   ]
  },
  {
   "cell_type": "markdown",
   "metadata": {},
   "source": [
    "### Data Management"
   ]
  },
  {
   "cell_type": "code",
   "execution_count": 11,
   "metadata": {},
   "outputs": [
    {
     "name": "stdout",
     "output_type": "stream",
     "text": [
      "Data Management\n",
      " - Standard IO - Table Read Operation Units (in 10,000s): $0.000016\n",
      " - Standard IO - Block Blob Write Operation Units (in 10,000s): $0.003969\n",
      " - Standard IO - Block Blob Read Operation Units (in 10,000s): $0.007115\n",
      " - Standard IO - Queue Operation Units (in 10,000s): $0.000046\n",
      " - Standard IO - File Protocol Operation Units (in 10,000s): $0.521066\n",
      " - Standard IO - File Read Operation Units (in 10,000s): $0.546279\n",
      " - Standard IO - Block Blob Delete Operation Units (in 10,000s): $0.000011\n",
      " - Standard IO - Table Write Operation Units (in 10,000s): $0.003419\n",
      " - Standard IO - Page Blob Write Operation Units (in 10,000s): $0.594375\n",
      " - Standard IO - Page Blob Read Operation Units (in 10,000s): $0.022818\n",
      " - Standard IO - Page Blob Delete Operation Units (in 10,000s): $0.006561\n",
      " - Standard IO - Block Blob List Operation Units (in 10,000s): $0.000007\n",
      " - Standard IO - File Write Operation Units (in 10,000s): $9.975102\n",
      " - Standard IO - File Delete Operation Units (in 10,000s): $0.000000\n",
      " - Storage Transactions (in 10,000s): $0.000000\n",
      " - Standard IO - File List Operation Units (in 10,000s): $0.002012\n",
      " - Standard IO - Table Batch Write Operation Units (in 10,000s): $0.002740\n",
      " - Standard IO - Table Scan Operation Units (in 10,000s): $0.000029\n",
      "\n"
     ]
    }
   ],
   "source": [
    "print_resource_costs(data, service_name='Data Management')"
   ]
  },
  {
   "cell_type": "markdown",
   "metadata": {},
   "source": [
    "### Networking"
   ]
  },
  {
   "cell_type": "code",
   "execution_count": 12,
   "metadata": {},
   "outputs": [
    {
     "name": "stdout",
     "output_type": "stream",
     "text": [
      "Networking\n",
      " - Data Transfer In (GB): $0.000000\n",
      " - Data Transfer Out (GB): $55.726161\n",
      " - IP Address Hours: $1.880000\n",
      "\n"
     ]
    }
   ],
   "source": [
    "print_resource_costs(data, service_name='Networking')"
   ]
  },
  {
   "cell_type": "markdown",
   "metadata": {},
   "source": [
    "Networking charges include data transfer and allocation of public IP addresses.\n",
    "`Data Transfer In` represents inbound transfer (data going into Azure data centers) and is free.\n",
    "`Data Transfer Out` is outbound transfer (price depends on the quantity being transferred).\n",
    "(More details about [data transfer charges](https://azure.microsoft.com/en-us/pricing/details/bandwidth/) and [IP address charges](https://azure.microsoft.com/en-us/pricing/details/ip-addresses/).)"
   ]
  },
  {
   "cell_type": "markdown",
   "metadata": {},
   "source": [
    "### Storage"
   ]
  },
  {
   "cell_type": "code",
   "execution_count": 13,
   "metadata": {},
   "outputs": [
    {
     "name": "stdout",
     "output_type": "stream",
     "text": [
      "Storage\n",
      " - Standard Managed Disk/S4 (Units): $8.084128\n",
      " - Standard IO - Block Blob (GB): $0.032647\n",
      " - Standard IO - Page Blob/Disk (GB): $57.113960\n",
      " - Standard IO - Files (GB): $56.785135\n",
      " - Standard IO - Table (GB): $0.002347\n",
      " - Standard Managed Disk/S10 (Units): $0.605381\n",
      " - Standard Managed Disk/S30 (Units): $0.192676\n",
      " - Standard IO - Queue Class 1 Operation Units: $0.000000\n",
      "\n"
     ]
    }
   ],
   "source": [
    "print_resource_costs(data, service_name='Storage')"
   ]
  },
  {
   "cell_type": "markdown",
   "metadata": {},
   "source": [
    "___\n",
    "\n",
    "## 3D simulations of the flying snake\n",
    "\n",
    "___"
   ]
  },
  {
   "cell_type": "markdown",
   "metadata": {},
   "source": [
    "We ran simulations of the three-dimensional flow around a cylinder with an anatomically cross-section of the flying snake, _Chrysopelea paradisi_, on Microsoft Azure using two different meshes:\n",
    "\n",
    "* mesh A: 46 million cells (1071x1072x40),\n",
    "* mesh B: 233 million cells (1704x1706x80).\n",
    "\n",
    "We started by computing 100 non-dimensional time-units of flow simulation on mesh A with a 35-degree angle of attack for the snake at Reynolds number 2,000, using a single instance NC24.\n",
    "Then, we interpolated the final coarse solution on mesh B to compute 75 additional time units, using Azure Batch services on a pool with 6 NC24r nodes.\n",
    "The computation on the fine mesh B was divided in three runs as there is a 7-day time-limit enforced on Batch tasks."
   ]
  },
  {
   "cell_type": "markdown",
   "metadata": {},
   "source": [
    "### Re=2,000, AoA=35$^o$ (mesh A)\n",
    "\n",
    "The simulation was run on a single instance NC24 (featuring 4 NVIDIA K80 GPU devices) in the US South Central region during May, 2017.\n",
    "We logged into the node, installed PetIBM-0.2 and all its dependencies;\n",
    "we used PETSc-3.7.4 and the shared library AmgX-1.2.0-build108.\n",
    "At that time, AmgX was not yet an open-source library but the shared library was accessible to CUDA-registered developers with a time-limited license."
   ]
  },
  {
   "cell_type": "code",
   "execution_count": 14,
   "metadata": {},
   "outputs": [
    {
     "data": {
      "text/html": [
       "<div>\n",
       "<style scoped>\n",
       "    .dataframe tbody tr th:only-of-type {\n",
       "        vertical-align: middle;\n",
       "    }\n",
       "\n",
       "    .dataframe tbody tr th {\n",
       "        vertical-align: top;\n",
       "    }\n",
       "\n",
       "    .dataframe thead th {\n",
       "        text-align: right;\n",
       "    }\n",
       "</style>\n",
       "<table border=\"1\" class=\"dataframe\">\n",
       "  <thead>\n",
       "    <tr style=\"text-align: right;\">\n",
       "      <th></th>\n",
       "      <th>Date</th>\n",
       "      <th>ServiceName</th>\n",
       "      <th>ServiceType</th>\n",
       "      <th>ServiceRegion</th>\n",
       "      <th>ServiceResource</th>\n",
       "      <th>Quantity</th>\n",
       "      <th>Cost</th>\n",
       "    </tr>\n",
       "  </thead>\n",
       "  <tbody>\n",
       "    <tr>\n",
       "      <th>26</th>\n",
       "      <td>5/31/2017</td>\n",
       "      <td>Virtual Machines</td>\n",
       "      <td>Standard_NC24 VM</td>\n",
       "      <td>US South Central</td>\n",
       "      <td>Compute Hours</td>\n",
       "      <td>234.616758</td>\n",
       "      <td>1055.775411</td>\n",
       "    </tr>\n",
       "  </tbody>\n",
       "</table>\n",
       "</div>"
      ],
      "text/plain": [
       "         Date       ServiceName       ServiceType     ServiceRegion  \\\n",
       "26  5/31/2017  Virtual Machines  Standard_NC24 VM  US South Central   \n",
       "\n",
       "   ServiceResource    Quantity         Cost  \n",
       "26   Compute Hours  234.616758  1055.775411  "
      ]
     },
     "execution_count": 14,
     "metadata": {},
     "output_type": "execute_result"
    }
   ],
   "source": [
    "# Get data for the NC24 instances\n",
    "mask = data['ServiceType'] == 'Standard_NC24 VM'\n",
    "subdata = data[mask]\n",
    "# Get data for the US South Central region\n",
    "mask = subdata['ServiceRegion'] == 'US South Central'\n",
    "subdata = subdata[mask]\n",
    "# Get data within a specific period\n",
    "mask = ((pandas.to_datetime(subdata['Date']) >= '2017-05-01') &\n",
    "        (pandas.to_datetime(subdata['Date']) <= '2017-05-31'))\n",
    "subdata[mask]"
   ]
  },
  {
   "cell_type": "markdown",
   "metadata": {},
   "source": [
    "Unfortunately, our billing statement just reports the cost accumulated over May, 2017.\n",
    "During that month, we also have been running test-cases using NC24 instances, in addition to this flying-snake simulation.\n",
    "\n",
    "However, PETSc has routines to report the runtime.\n",
    "The simulation ran for about 148 hours.\n",
    "Using this runtime and the hourly price of the NC24 instance, we can estimate the cost of this run on 1 node."
   ]
  },
  {
   "cell_type": "code",
   "execution_count": 15,
   "metadata": {},
   "outputs": [
    {
     "name": "stdout",
     "output_type": "stream",
     "text": [
      "- PETSc runtime in hours: 148.06\n",
      "- Cost of the run: $586.30\n"
     ]
    }
   ],
   "source": [
    "n_nodes = 1\n",
    "hour_cost = 3.96\n",
    "petsc_runtime = 5.33E+05 / 3600.0  # PETSc runtime in hours\n",
    "\n",
    "print('- PETSc runtime in hours: {:.2f}'.format(petsc_runtime))\n",
    "print('- Cost of the run: ${:.2f}'\n",
    "      .format(petsc_runtime * n_nodes * hour_cost))"
   ]
  },
  {
   "cell_type": "markdown",
   "metadata": {},
   "source": [
    "### Re=2,000, AoA=35$^o$ (mesh B)"
   ]
  },
  {
   "cell_type": "markdown",
   "metadata": {},
   "source": [
    "For the simulation on the fine grid (233 million cells), we needed more than one NC24 instance to have enough memory on the GPU devices to solve the Poisson system.\n",
    "Thus, we used NC24r instances that are RDMA-capable.\n",
    "\n",
    "We used [Azure Batch service](https://docs.microsoft.com/en-us/azure/batch/) and [Batch Shipyard](https://github.com/Azure/batch-shipyard) to create a pool of 6 NC24r nodes, a job for that pool, and tasks to accomplished during that job.\n",
    "(Note: each NC24r instance has an hourly cost of \\$3.96.)\n",
    "\n",
    "We submitted the task for this simulation on November 14, 2017 (at 3:50 pm).\n",
    "The task ran for about 14 days, until November 28, 2017 (at 2:10 pm), at which point we killed the job.\n",
    "Below, we will explain why we killed the job."
   ]
  },
  {
   "cell_type": "code",
   "execution_count": 16,
   "metadata": {},
   "outputs": [],
   "source": [
    "def plot_daily_charges(dates, hours, costs, n_nodes, hour_cost):\n",
    "    \"\"\"\n",
    "    Plots a bar chart of the number of compute hours and the costs incurred\n",
    "    per day.\n",
    "    \n",
    "    Parameters\n",
    "    ----------\n",
    "    dates: numpy.ndarray of datetime values\n",
    "        The dates to consider.\n",
    "    hours: numpy.ndarray of floats\n",
    "        The number of compute hours per day.\n",
    "    costs: numpy.ndarray of floats\n",
    "        The cost per day.\n",
    "    n_nodes: integer\n",
    "        The number of nodes in the pool.\n",
    "    hour_cost: float\n",
    "        The compute hour cost of one node.\n",
    "    \"\"\"\n",
    "    # Plot number of compute hours charged per day\n",
    "    fig, ax1 = pyplot.subplots(figsize=(10.0, 4.0))\n",
    "    ax1.yaxis.grid(zorder=0)\n",
    "    ax1.set_xlabel('Date', fontsize=16)\n",
    "    ax1.set_ylabel('Compute hours', fontsize=16)\n",
    "    bar_width = 0.25\n",
    "    ax1.bar(numpy.arange(dates.size), hours,\n",
    "            bar_width, zorder=1)\n",
    "    ax1.set_ylim(0.0, 24.0 * n_nodes)\n",
    "    ax1.set_xticks(numpy.arange(dates.size))\n",
    "    ax1.set_xticklabels(dates)\n",
    "    for label in ax1.get_xmajorticklabels():\n",
    "        label.set_rotation(45)\n",
    "        label.set_horizontalalignment('right')\n",
    "    # Add guideline for the maximum number of compute hours per day\n",
    "    ax1.axhline(24.0 * n_nodes, color='red', linestyle='--')\n",
    "    # Add axis label on the right side to report the charges\n",
    "    ax2 = ax1.twinx()\n",
    "    ax2.set_ylabel('Cost ($)', fontsize=16)\n",
    "    ax2.bar(numpy.arange(dates.size), costs,\n",
    "            bar_width, color='none', edgecolor='orange', zorder=1)\n",
    "    ax2.set_ylim(0.0, 24.0 * n_nodes * hour_cost)"
   ]
  },
  {
   "cell_type": "code",
   "execution_count": 17,
   "metadata": {},
   "outputs": [
    {
     "name": "stdout",
     "output_type": "stream",
     "text": [
      "- Total number of compute hours: 1638.00\n",
      "- Number of compute hours per node: 273.00\n",
      "- Expected cost for the compute hours: $6486.48\n",
      "- Reported cost: $6486.48\n",
      "- Estimated runtime (in hours) between Nov 14 and Nov 28: 330.58\n",
      "- Expected cost based on runtime between Nov 14 and Nov 28: $7854.66\n",
      "- Undercharged by: $1368.18\n"
     ]
    },
    {
     "data": {
      "image/png": "[encoded data removed]",
      "text/plain": [
       "<matplotlib.figure.Figure at 0x10a5cfdd8>"
      ]
     },
     "metadata": {},
     "output_type": "display_data"
    }
   ],
   "source": [
    "# Get data between starting and ending dates\n",
    "start, end = '2017-11-14', '2017-11-28'\n",
    "mask = ((pandas.to_datetime(data['Date']) >= start) &\n",
    "        (pandas.to_datetime(data['Date']) <= end))\n",
    "subdata = data[mask]\n",
    "# Get data for usage of virtual machines\n",
    "mask = subdata['ServiceName'] == 'Virtual Machines'\n",
    "subdata = subdata[mask]\n",
    "\n",
    "n_nodes = 6  # Number of nodes in the pool\n",
    "hour_cost = 3.96  # Compute hour cost a NC24r instance\n",
    "dates = subdata['Date'].values\n",
    "hours = subdata['Quantity'].values\n",
    "costs = subdata['Cost'].values\n",
    "hours_14_28 = ((8.0 + 10.0 / 60) +\n",
    "               13.0 * 24.0 +\n",
    "               (10.0 + 25.0 / 60))\n",
    "\n",
    "print('- Total number of compute hours: {:.2f}'\n",
    "      .format(hours.sum()))\n",
    "print('- Number of compute hours per node: {:.2f}'\n",
    "      .format(hours.sum() / n_nodes))\n",
    "print('- Expected cost for the compute hours: ${:.2f}'\n",
    "      .format(hours.sum() * hour_cost))\n",
    "print('- Reported cost: ${:.2f}'\n",
    "      .format(costs.sum()))\n",
    "print('- Estimated runtime (in hours) between Nov 14 and Nov 28: {:.2f}'\n",
    "      .format(hours_14_28))\n",
    "print('- Expected cost based on runtime between Nov 14 and Nov 28: ${:.2f}'\n",
    "      .format(hours_14_28 * n_nodes * hour_cost))\n",
    "print('- Undercharged by: ${:.2f}'\n",
    "      .format(hours_14_28 * n_nodes * hour_cost - costs.sum()))\n",
    "plot_daily_charges(dates, hours, costs, n_nodes, hour_cost)"
   ]
  },
  {
   "cell_type": "markdown",
   "metadata": {},
   "source": [
    "The usage of 6 NC24r virtual machines for the task incurred a total cost of \\$6,486.5 between November 14 and November 28, 2017.\n",
    "The above figure shows the number of compute hours per day and the associated cost we have been charged for by Microsoft Azure.\n",
    "The red dashed line is a guideline showing the maximum number of compute hours we could have been charged per day for using 6 NC24r virtual machines (6 NC24r instances for 24 hours with a hourly price of \\$3.96 for each one).\n",
    "There are only 2 days (November 17 and November 19) where we have been charged for 24 hours of compute time.\n",
    "The rest of the days, the number of compute hours reported on our billing statement is lower.\n",
    "For example, on November 22, in the middle of the simulation, we have only been charged for 16 hours of compute time (96 hours over 6 NC24r virtual machines).\n",
    "(The charges for November 22, 2017, are displayed in the code cell below.)\n",
    "Thus, either the task was actually not running straight for 24 hours per day or Microsoft Azure has been undercharging us."
   ]
  },
  {
   "cell_type": "code",
   "execution_count": 18,
   "metadata": {},
   "outputs": [
    {
     "name": "stdout",
     "output_type": "stream",
     "text": [
      "On 2017-11-22:\n",
      " - Number of compute hours: 96.0\n",
      " - Number of nodes: 6\n",
      " - Calculated number of hours job running: 16.0\n",
      " - Reported cost: $380.16\n",
      " - Calculated compute hour cost: $3.96\n"
     ]
    },
    {
     "data": {
      "text/html": [
       "<div>\n",
       "<style scoped>\n",
       "    .dataframe tbody tr th:only-of-type {\n",
       "        vertical-align: middle;\n",
       "    }\n",
       "\n",
       "    .dataframe tbody tr th {\n",
       "        vertical-align: top;\n",
       "    }\n",
       "\n",
       "    .dataframe thead th {\n",
       "        text-align: right;\n",
       "    }\n",
       "</style>\n",
       "<table border=\"1\" class=\"dataframe\">\n",
       "  <thead>\n",
       "    <tr style=\"text-align: right;\">\n",
       "      <th></th>\n",
       "      <th>Date</th>\n",
       "      <th>ServiceName</th>\n",
       "      <th>ServiceType</th>\n",
       "      <th>ServiceRegion</th>\n",
       "      <th>ServiceResource</th>\n",
       "      <th>Quantity</th>\n",
       "      <th>Cost</th>\n",
       "    </tr>\n",
       "  </thead>\n",
       "  <tbody>\n",
       "    <tr>\n",
       "      <th>1212</th>\n",
       "      <td>11/22/2017</td>\n",
       "      <td>Virtual Machines</td>\n",
       "      <td>Standard_NC24r VM</td>\n",
       "      <td>US East</td>\n",
       "      <td>Compute Hours</td>\n",
       "      <td>96.0</td>\n",
       "      <td>380.16</td>\n",
       "    </tr>\n",
       "  </tbody>\n",
       "</table>\n",
       "</div>"
      ],
      "text/plain": [
       "            Date       ServiceName        ServiceType ServiceRegion  \\\n",
       "1212  11/22/2017  Virtual Machines  Standard_NC24r VM       US East   \n",
       "\n",
       "     ServiceResource  Quantity    Cost  \n",
       "1212   Compute Hours      96.0  380.16  "
      ]
     },
     "execution_count": 18,
     "metadata": {},
     "output_type": "execute_result"
    }
   ],
   "source": [
    "# Get data on a specific day\n",
    "date = '2017-11-22'\n",
    "mask = pandas.to_datetime(data['Date']) == date\n",
    "subdata = data[mask]\n",
    "# Get data for usage of virtual machines\n",
    "mask = subdata['ServiceName'] == 'Virtual Machines'\n",
    "subdata = subdata[mask]\n",
    "\n",
    "n_nodes = 6  # Number of nodes in the pool\n",
    "hour_cost = 3.96  # Compute hour cost for a NC24r instance\n",
    "hours = subdata['Quantity'].values.sum()\n",
    "costs = subdata['Cost'].values.sum()\n",
    "\n",
    "print('On {}:'.format(date))\n",
    "print(' - Number of compute hours: {}'.format(hours))\n",
    "print(' - Number of nodes: {}'.format(n_nodes))\n",
    "print(' - Calculated number of hours job running: {}'.format(hours / n_nodes))\n",
    "print(' - Reported cost: ${:.2f}'.format(costs))\n",
    "print(' - Calculated compute hour cost: ${:.2f}'.format(costs / hours))\n",
    "subdata"
   ]
  },
  {
   "cell_type": "markdown",
   "metadata": {},
   "source": [
    "During late March 2018, we had the confirmation that we have been undercharged.\n",
    "Microsoft Azure told us (private communication) that their Engineering team identified a bug (at the beginning of March 2018) related to our Sponsorship billing system and broader Azure usage system, in which costumers were being under-billed for services leveraged.\n",
    "\n",
    "There is 331 hours between November 14 (3:50 pm), and November 28 (2:10 pm), 2018, while we have been charged for 273 hours.\n",
    "(Since we killed the job, we do not have the PETSc runtime.)\n",
    "For 331 hours, we would have been charged for \\$7,854.7.\n",
    "Thus, we estimate we have been undercharged by approximatively \\$1,368."
   ]
  },
  {
   "cell_type": "markdown",
   "metadata": {},
   "source": [
    "**Why did we kill the job?**\n",
    "\n",
    "Our simulations run for a prescribed number of time steps and we save the numerical solution (pressure and velocity fields, convective and diffusive terms) at a certain frequency.\n",
    "In addition, we also compute and write into a file the aerodynamic forces every time step.\n",
    "It appears that the aerodynamic forces were written to the file for the last time on November 25, 2017 (at 10:25 am), at a time step different from the final time step.\n",
    "(This date corresponds to the last time the file was modified.)\n",
    "Something went wrong for this task and the simulation was not anymore running normally.\n",
    "It took me about three days to realize that something was wrong!\n",
    "Why so long?\n",
    "I usually check the status of the task to make sure everything is alright.\n",
    "The pool and job's task were still respectively marked as  \"active\" and \"running\", even if the computation was not running.\n",
    "I even logged into the nodes an ran the \"top\" command-line utility to check the processes were still running.\n",
    "However, the compute nodes on the Azure portal were now marked as IDLE.\n",
    "Seeking for help to Microsoft Azure, Fred Park, software engineer and main developer of Batch Shipyard, told us that Batch tasks have a 7-day time-limit enforced (from the time the task is submitted), a restriction that was not yet mentioned in the official documentation of Microsoft Azure.\n",
    "(As pointed out by Fred Park, there is a note at the end of the documentation for Batch Shipyard; we missed it...)\n",
    "Three days past between the last time the solution was output to files and the time we had the confirmation that the simulation was not running anymore so we had to kill the job and restart it.\n",
    "\n",
    "Something that still remains unclear to us is that if there is a 7-day time-limit on Azure Batch task, why did our task ran for about 10 days? (From November 14 to November 25, 2018, at 10:25 am.)\n",
    "No answer has been provided to us regarding this issue.\n",
    "\n",
    "Therefore, let's redo our cost analysis for this task by considering only the period the simulation was actually computing the solution. Let's assume that:\n",
    "\n",
    "* the task started at 3:50 pm on November 14, 2017 (and ran for 8 hours and 10 minutes that day);\n",
    "* the task ran normally until 10:25 am on November 25, 2017 (and ran for 10 hours and 25 minutes that day)."
   ]
  },
  {
   "cell_type": "code",
   "execution_count": 19,
   "metadata": {},
   "outputs": [
    {
     "name": "stdout",
     "output_type": "stream",
     "text": [
      "- Total number of compute hours: 1298.50\n",
      "- Number of compute hours per node: 216.42\n",
      "- Expected cost for the compute hours: $5142.06\n",
      "- Effective cost: $5142.06\n"
     ]
    },
    {
     "data": {
      "image/png": "[encoded data removed]",
      "text/plain": [
       "<matplotlib.figure.Figure at 0x10a601908>"
      ]
     },
     "metadata": {},
     "output_type": "display_data"
    }
   ],
   "source": [
    "# Get data between starting and ending dates\n",
    "start, end = '2017-11-14', '2017-11-25'\n",
    "mask = ((pandas.to_datetime(data['Date']) >= start) &\n",
    "        (pandas.to_datetime(data['Date']) <= end))\n",
    "subdata = data[mask]\n",
    "# Get data for the usage of virtual machines\n",
    "mask = subdata['ServiceName'] == 'Virtual Machines'\n",
    "subdata = subdata[mask]\n",
    "\n",
    "n_nodes = 6  # Number of nodes in the pool\n",
    "hour_cost = 3.96  # Compute hour cost a NC24r instance\n",
    "dates = subdata['Date'].values\n",
    "hours = subdata['Quantity'].values\n",
    "costs = subdata['Cost'].values\n",
    "\n",
    "# Assume run for 10 hours and 25 minutes on last day\n",
    "last_hours = (10.0 + 25.0 / 60) * n_nodes\n",
    "if hours[-1] > last_hours:\n",
    "    hours[-1] = last_hours\n",
    "    costs[-1] = hours[-1] * hour_cost\n",
    "\n",
    "print('- Total number of compute hours: {:.2f}'\n",
    "      .format(hours.sum()))\n",
    "print('- Number of compute hours per node: {:.2f}'\n",
    "      .format(hours.sum() / n_nodes))\n",
    "print('- Expected cost for the compute hours: ${:.2f}'\n",
    "      .format(hours.sum() * hour_cost))\n",
    "print('- Effective cost: ${:.2f}'.format(costs.sum()))\n",
    "plot_daily_charges(dates, hours, costs, n_nodes, hour_cost)"
   ]
  },
  {
   "cell_type": "markdown",
   "metadata": {},
   "source": [
    "By considering only the period of time, the computation was effective (i.e., the task was not stuck and the solution was written to files), we end up with a cost of \\$5,142 for this task.\n",
    "\n",
    "We can also estimate the money lost because we were not aware of this 7-day time-limit restriction for Azure Batch tasks."
   ]
  },
  {
   "cell_type": "code",
   "execution_count": 20,
   "metadata": {},
   "outputs": [
    {
     "name": "stdout",
     "output_type": "stream",
     "text": [
      "Total cost charged for the virtual machines while simulation not running: $1344.42\n"
     ]
    },
    {
     "data": {
      "image/png": "[encoded data removed]",
      "text/plain": [
       "<matplotlib.figure.Figure at 0x1098bfcf8>"
      ]
     },
     "metadata": {},
     "output_type": "display_data"
    }
   ],
   "source": [
    "# Get data within given period\n",
    "start, end = '2017-11-25', '2017-11-28'\n",
    "mask = ((pandas.to_datetime(data['Date']) >= start) &\n",
    "        (pandas.to_datetime(data['Date']) <= end))\n",
    "subdata = data[mask]\n",
    "# Get data for the usage of virtual machines\n",
    "mask = subdata['ServiceName'] == 'Virtual Machines'\n",
    "subdata = subdata[mask]\n",
    "\n",
    "n_nodes = 6  # Number of nodes in the pool\n",
    "hour_cost = 3.96  # Compute hour cost a NC24r instance\n",
    "dates = subdata['Date'].values\n",
    "hours = subdata['Quantity'].values\n",
    "costs = subdata['Cost'].values\n",
    "\n",
    "# Get the charges for the day the simulation was not computing anymore\n",
    "last_hours = (10.0 + 25.0 / 60) * n_nodes\n",
    "if hours[0] > last_hours:\n",
    "    hours[0] -= last_hours\n",
    "    costs[0] -= last_hours * hour_cost\n",
    "    \n",
    "print('Total cost charged for the virtual machines '\n",
    "      'while simulation not running: ${:.2f}'\n",
    "      .format(costs.sum()))\n",
    "plot_daily_charges(dates, hours, costs, n_nodes, hour_cost)"
   ]
  },
  {
   "cell_type": "markdown",
   "metadata": {},
   "source": [
    "#### Other costs\n",
    "\n",
    "Between November 14 and November 29, 2017, we have also been charged for `Networking`, `Data Management`, and `Storage`."
   ]
  },
  {
   "cell_type": "code",
   "execution_count": 21,
   "metadata": {},
   "outputs": [
    {
     "name": "stdout",
     "output_type": "stream",
     "text": [
      "- Networking cost: $20.59\n",
      "\t- Data Transfer In (GB)\n",
      "\t- Data Transfer Out (GB)\n",
      "- Data Management cost: $2.53\n",
      "\t- Standard IO - Table Read Operation Units (in 10,000s)\n",
      "\t- Standard IO - Block Blob Write Operation Units (in 10,000s)\n",
      "\t- Standard IO - Block Blob Read Operation Units (in 10,000s)\n",
      "\t- Standard IO - File Protocol Operation Units (in 10,000s)\n",
      "\t- Standard IO - File Read Operation Units (in 10,000s)\n",
      "\t- Standard IO - File Delete Operation Units (in 10,000s)\n",
      "\t- Standard IO - Block Blob Delete Operation Units (in 10,000s)\n",
      "\t- Standard IO - Table Scan Operation Units (in 10,000s)\n",
      "\t- Standard IO - Table Write Operation Units (in 10,000s)\n",
      "\t- Standard IO - Table Batch Write Operation Units (in 10,000s)\n",
      "\t- Standard IO - File List Operation Units (in 10,000s)\n",
      "\t- Standard IO - Block Blob List Operation Units (in 10,000s)\n",
      "\t- Standard IO - File Write Operation Units (in 10,000s)\n",
      "\t- Standard IO - Queue Operation Units (in 10,000s)\n",
      "- Storage cost: $11.28\n",
      "\t- Standard IO - Table (GB)\n",
      "\t- Standard Managed Disk/S4 (Units)\n",
      "\t- Standard IO - Block Blob (GB)\n",
      "\t- Standard IO - Page Blob/Disk (GB)\n",
      "\t- Standard IO - Files (GB)\n"
     ]
    }
   ],
   "source": [
    "# Get data within given period\n",
    "start, end = '2017-11-14', '2017-11-29'\n",
    "mask = ((pandas.to_datetime(data['Date']) >= start) &\n",
    "        (pandas.to_datetime(data['Date']) <= end))\n",
    "subdata = data[mask]\n",
    "# Get and print cost for other services\n",
    "service_names = ['Networking', 'Data Management', 'Storage']\n",
    "for name in service_names:\n",
    "    mask = subdata['ServiceName'] == name\n",
    "    print('- {} cost: ${:.2f}'.format(name,\n",
    "                                      subdata[mask]['Cost'].sum()))\n",
    "    service_resources = subdata[mask]['ServiceResource'].unique()\n",
    "    for resource in service_resources:\n",
    "        print('\\t- ' + resource)"
   ]
  },
  {
   "cell_type": "code",
   "execution_count": 22,
   "metadata": {},
   "outputs": [
    {
     "name": "stdout",
     "output_type": "stream",
     "text": [
      "Networking cost: $18.82\n"
     ]
    }
   ],
   "source": [
    "# Get data within given period\n",
    "start, end = '2017-11-28', '2017-11-29'\n",
    "mask = ((pandas.to_datetime(data['Date']) >= start) &\n",
    "        (pandas.to_datetime(data['Date']) <= end))\n",
    "subdata = data[mask]\n",
    "# Get networking charges\n",
    "mask = subdata['ServiceName'] == 'Networking'\n",
    "print('Networking cost: ${:.2f}'.format(subdata[mask]['Cost'].sum()))"
   ]
  },
  {
   "cell_type": "markdown",
   "metadata": {},
   "source": [
    "### Re=2,000, AoA=35$^o$ (mesh B) - first restart"
   ]
  },
  {
   "cell_type": "markdown",
   "metadata": {},
   "source": [
    "We restarted the simulation on the fine grid from the last time-step saved.\n",
    "The task was submitted on November 29, 2017 (at 2:45 pm), in a pool of 6 NC24r nodes, and completed by December 5, 2017 (at 4 pm).\n",
    "\n",
    "Let's have a look at the different services we were being charged during that period:"
   ]
  },
  {
   "cell_type": "code",
   "execution_count": 23,
   "metadata": {},
   "outputs": [
    {
     "name": "stdout",
     "output_type": "stream",
     "text": [
      "- Data Management: $1.36\n",
      "- Networking: $12.69\n",
      "- Storage: $9.09\n",
      "- Virtual Machines: $2496.19\n"
     ]
    }
   ],
   "source": [
    "# Get data within given period\n",
    "start, end = '2017-11-29', '2017-12-05'\n",
    "mask = ((pandas.to_datetime(data['Date']) >= start) &\n",
    "        (pandas.to_datetime(data['Date']) <= end))\n",
    "subdata = data[mask]\n",
    "# Get costs for different services\n",
    "service_names = subdata['ServiceName'].unique()\n",
    "for name in service_names:\n",
    "    mask = subdata['ServiceName'] == name\n",
    "    print('- {}: ${:.2f}'\n",
    "          .format(name, subdata[mask]['Cost'].sum()))"
   ]
  },
  {
   "cell_type": "markdown",
   "metadata": {},
   "source": [
    "#### Virtual Machines (Compute Hours)"
   ]
  },
  {
   "cell_type": "code",
   "execution_count": 24,
   "metadata": {},
   "outputs": [
    {
     "name": "stdout",
     "output_type": "stream",
     "text": [
      "- Total number of compute hours: 630.35\n",
      "- Number of compute hours per node: 105.06\n",
      "- PETSc runtime in hours: 144.19\n",
      "- Expected cost based on the number of compute hours: $2496.19\n",
      "- Expexted cost based on the PETSc runtime: $3426.06\n",
      "- Reported cost: $2496.19\n",
      "- Undercharged by $929.87\n"
     ]
    },
    {
     "data": {
      "image/png": "[encoded data removed]",
      "text/plain": [
       "<matplotlib.figure.Figure at 0x10988dc88>"
      ]
     },
     "metadata": {},
     "output_type": "display_data"
    }
   ],
   "source": [
    "# Get data within given period\n",
    "start, end = '2017-11-29', '2017-12-05'\n",
    "mask = ((pandas.to_datetime(data['Date']) >= start) &\n",
    "        (pandas.to_datetime(data['Date']) <= end))\n",
    "subdata = data[mask]\n",
    "# Get data for the usage of virtual machines\n",
    "mask = subdata['ServiceName'] == 'Virtual Machines'\n",
    "subdata = subdata[mask]\n",
    "\n",
    "n_nodes = 6  # Number of nodes in the pool\n",
    "hour_cost = 3.96  # Compute hour cost a NC24r instance\n",
    "petsc_runtime = 5.191E+05 / 3600.0  # PETSc runtime in hours\n",
    "dates = subdata['Date'].values\n",
    "hours = subdata['Quantity'].values\n",
    "costs = subdata['Cost'].values\n",
    "\n",
    "print('- Total number of compute hours: {:.2f}'\n",
    "      .format(hours.sum()))\n",
    "print('- Number of compute hours per node: {:.2f}'\n",
    "      .format(hours.sum() / n_nodes))\n",
    "print('- PETSc runtime in hours: {:.2f}'.format(petsc_runtime))\n",
    "print('- Expected cost based on the number of compute hours: ${:.2f}'\n",
    "      .format(hours.sum() * hour_cost))\n",
    "print('- Expexted cost based on the PETSc runtime: ${:.2f}'\n",
    "      .format(petsc_runtime * n_nodes * hour_cost))\n",
    "print('- Reported cost: ${:.2f}'.format(costs.sum()))\n",
    "print('- Undercharged by ${:.2f}'\n",
    "      .format(petsc_runtime * n_nodes * hour_cost - costs.sum()))\n",
    "plot_daily_charges(dates, hours, costs, n_nodes, hour_cost)"
   ]
  },
  {
   "cell_type": "markdown",
   "metadata": {},
   "source": [
    "The figure above shows the number of compute hours and the cost charged daily when the task was running.\n",
    "The dashed red line shows the values as if the simulation was computing during the full day."
   ]
  },
  {
   "cell_type": "markdown",
   "metadata": {},
   "source": [
    "For this task, we have been charged for the usage of virtual machines for a total of 630.4 compute hours (105.1 hours per virtual machine), which represents a cost of \\2,496.2 (with a hourly price of \\$3.96 per NC24r instance).\n",
    "From the figure above, it appears again that we have been undercharged for this task.\n",
    "As the task completed normally, we have a runtime reported by the PETSc routine (144.2 hours), about 39 hours more than what we have been charged for.\n",
    "We estimate that Microsoft Azure undercharged us by about \\$930 for this task."
   ]
  },
  {
   "cell_type": "markdown",
   "metadata": {
    "collapsed": true
   },
   "source": [
    "### Re=2,000, AoA=35$^o$ (mesh B) - second restart"
   ]
  },
  {
   "cell_type": "markdown",
   "metadata": {},
   "source": [
    "Finally, we restarted the simulation one last time to compute additional time units while avoiding the time-limit enforced on Azure Batch tasks.\n",
    "The task was submitted on December 7, 2017, at 7:20 pm and completed by December 11, 2017, at 4:10 am."
   ]
  },
  {
   "cell_type": "markdown",
   "metadata": {},
   "source": [
    "Within this period, we have been charged for `Virtual Machines`, `Data Management`, `Storage`, and `Networking`, with most of the cost incurred by the use of virtual machines."
   ]
  },
  {
   "cell_type": "code",
   "execution_count": 25,
   "metadata": {},
   "outputs": [
    {
     "name": "stdout",
     "output_type": "stream",
     "text": [
      "- Data Management: $1.04\n",
      "- Networking: $17.06\n",
      "- Storage: $11.93\n",
      "- Virtual Machines: $1971.29\n"
     ]
    }
   ],
   "source": [
    "# Get data within given period\n",
    "start, end = '2017-12-05', '2017-12-11'\n",
    "mask = ((pandas.to_datetime(data['Date']) >= start) &\n",
    "        (pandas.to_datetime(data['Date']) <= end))\n",
    "subdata = data[mask]\n",
    "# Get costs for different services\n",
    "service_names = subdata['ServiceName'].unique()\n",
    "for name in service_names:\n",
    "    mask = subdata['ServiceName'] == name\n",
    "    print('- {}: ${:.2f}'\n",
    "          .format(name, subdata[mask]['Cost'].sum()))"
   ]
  },
  {
   "cell_type": "markdown",
   "metadata": {},
   "source": [
    "#### Virtual Machines (Compute Hours)"
   ]
  },
  {
   "cell_type": "code",
   "execution_count": 26,
   "metadata": {},
   "outputs": [
    {
     "name": "stdout",
     "output_type": "stream",
     "text": [
      "- Total number of compute hours: 398.13\n",
      "- Number of compute hours per node: 66.36\n",
      "- PETSc runtime in hours: 80.94\n",
      "- Expected cost based on the number of compute hours: $1576.61\n",
      "- Expexted cost based on the PETSc runtime: $1923.24\n",
      "- Reported cost: $1576.61\n",
      "- Undercharged by $346.63\n"
     ]
    },
    {
     "data": {
      "image/png": "[encoded data removed]",
      "text/plain": [
       "<matplotlib.figure.Figure at 0x10fc07c88>"
      ]
     },
     "metadata": {},
     "output_type": "display_data"
    }
   ],
   "source": [
    "# Get data within given period\n",
    "start, end = '2017-12-05', '2017-12-11'\n",
    "mask = ((pandas.to_datetime(data['Date']) >= start) &\n",
    "        (pandas.to_datetime(data['Date']) <= end))\n",
    "subdata = data[mask]\n",
    "# Get data for the usage of virtual machines\n",
    "mask = subdata['ServiceName'] == 'Virtual Machines'\n",
    "subdata = subdata[mask]\n",
    "\n",
    "n_nodes = 6  # Number of nodes in the pool\n",
    "hour_cost = 3.96  # Compute hour cost a NC24r instance\n",
    "petsc_runtime = 2.914E+05 / 3600.0  # PETSc runtime in hours\n",
    "dates = subdata['Date'].values\n",
    "hours = subdata['Quantity'].values\n",
    "costs = subdata['Cost'].values\n",
    "first_hours = (4.0 + 40.0 / 60) * n_nodes\n",
    "if hours[0] > first_hours:\n",
    "    hours[0] = first_hours\n",
    "    costs[0] = first_hours * hour_cost\n",
    "\n",
    "print('- Total number of compute hours: {:.2f}'\n",
    "      .format(hours.sum()))\n",
    "print('- Number of compute hours per node: {:.2f}'\n",
    "      .format(hours.sum() / n_nodes))\n",
    "print('- PETSc runtime in hours: {:.2f}'.format(petsc_runtime))\n",
    "print('- Expected cost based on the number of compute hours: ${:.2f}'\n",
    "      .format(hours.sum() * hour_cost))\n",
    "print('- Expexted cost based on the PETSc runtime: ${:.2f}'\n",
    "      .format(petsc_runtime * n_nodes * hour_cost))\n",
    "print('- Reported cost: ${:.2f}'.format(costs.sum()))\n",
    "print('- Undercharged by ${:.2f}'\n",
    "      .format(petsc_runtime * n_nodes * hour_cost - costs.sum()))\n",
    "plot_daily_charges(dates, hours, costs, n_nodes, hour_cost)"
   ]
  },
  {
   "cell_type": "markdown",
   "metadata": {},
   "source": [
    "For this task, our billing statement report that we have been charged for 398 compute hours for the usage of virtual machines (66.4 hours per instance), which incurred a cost of \\$1,576.6.\n",
    "But again, the figure above shows that we have been undercharged.\n",
    "The PETSc runtime is about 81 hours; using 6 NC24r nodes, we would have expected a bill of $1,923.2.\n",
    "We have been undercharged by \\$347 for this task."
   ]
  },
  {
   "cell_type": "markdown",
   "metadata": {},
   "source": [
    "### Extra simulations"
   ]
  },
  {
   "cell_type": "markdown",
   "metadata": {},
   "source": [
    "Two additional tasks were submitted to Azure Batch on December 22, 2017 (at 12:30 pm):\n",
    "\n",
    "1. simulation of 100,000 time steps on a 46-million-cell mesh for the flow around a snake cylinder with a 35-degree angle of attack at Reynolds number 1,000, and\n",
    "2. simulation of 100,000 time steps on a 46-million-cell mesh for the flow around a snake cylinder with a 30-degree angle of attack at Reynolds number 2,000.\n",
    "\n",
    "Each task was submitted to its own Batch pool of 2 NC24r nodes.\n",
    "\n",
    "The first task completed on December 27, 2017 (at 6 am) and PETSc reports a runtime of 113.5 hours.\n",
    "The second task completed two days later (at 9:50 am); PETSc reports a runtime of 165.4 hours."
   ]
  },
  {
   "cell_type": "code",
   "execution_count": 27,
   "metadata": {},
   "outputs": [
    {
     "name": "stdout",
     "output_type": "stream",
     "text": [
      "- Data Management: $3.51\n",
      "- Networking: $12.31\n",
      "- Storage: $16.94\n",
      "- Virtual Machines: $1721.86\n"
     ]
    }
   ],
   "source": [
    "# Get data within specific period\n",
    "start, end = '2017-12-22', '2017-12-29'\n",
    "mask = ((pandas.to_datetime(data['Date']) >= start) &\n",
    "        (pandas.to_datetime(data['Date']) <= end))\n",
    "subdata = data[mask]\n",
    "# Get and print the cost per service during that period\n",
    "service_names = subdata['ServiceName'].unique()\n",
    "for name in service_names:\n",
    "    mask = subdata['ServiceName'] == name\n",
    "    print('- {}: ${:.2f}'\n",
    "          .format(name, subdata[mask]['Cost'].sum()))"
   ]
  },
  {
   "cell_type": "markdown",
   "metadata": {},
   "source": [
    "#### Virtual Machines (Compute Hours)"
   ]
  },
  {
   "cell_type": "code",
   "execution_count": 28,
   "metadata": {},
   "outputs": [
    {
     "name": "stdout",
     "output_type": "stream",
     "text": [
      "- Total number of compute hours: 434.28\n",
      "- Number of compute hours per node: 108.57\n",
      "- PETSc runtime in hours: 278.86\n",
      "- Calculated cost based on the number of compute hours: $1719.76\n",
      "- Calculated cost based on the PETSc runtime: $2208.58\n",
      "- Reported costs: $1719.76\n",
      "- Undercharged by $488.82\n"
     ]
    },
    {
     "data": {
      "image/png": "[encoded data removed]",
      "text/plain": [
       "<matplotlib.figure.Figure at 0x11800b828>"
      ]
     },
     "metadata": {},
     "output_type": "display_data"
    }
   ],
   "source": [
    "# Get data within specific period\n",
    "start, end = '2017-12-22', '2017-12-29'\n",
    "mask = ((pandas.to_datetime(data['Date']) >= start) &\n",
    "        (pandas.to_datetime(data['Date']) <= end))\n",
    "subdata = data[mask]\n",
    "# Get data for the usage of virtual machines\n",
    "mask = subdata['ServiceName'] == 'Virtual Machines'\n",
    "subdata = subdata[mask]\n",
    "\n",
    "n_nodes_task1 = 2  # Total number of nodes\n",
    "n_nodes_task2 = 2  # Total number of nodes\n",
    "petsc_runtime_task1 = 4.086E+05 / 3600.0  # PETSc runtime in hours\n",
    "petsc_runtime_task2 = 5.953E+05 / 3600.0  # PETSc runtime in hours\n",
    "hour_cost = 3.96  # Compute hour cost a NC24r instance\n",
    "dates = subdata['Date'].values[1:]\n",
    "hours = subdata['Quantity'].values[1:]\n",
    "costs = subdata['Cost'].values[1:]\n",
    "\n",
    "print('- Total number of compute hours: {:.2f}'\n",
    "      .format(hours.sum()))\n",
    "print('- Number of compute hours per node: {:.2f}'\n",
    "      .format(hours.sum() / (n_nodes_task1 + n_nodes_task2)))\n",
    "print('- PETSc runtime in hours: {:.2f}'\n",
    "      .format(petsc_runtime_task1 + petsc_runtime_task2))\n",
    "print('- Calculated cost based on the number of compute hours: ${:.2f}'\n",
    "      .format(hours.sum() * hour_cost))\n",
    "petsc_cost = (petsc_runtime_task1 * n_nodes_task1 * hour_cost +\n",
    "              petsc_runtime_task2 * n_nodes_task2 * hour_cost)\n",
    "print('- Calculated cost based on the PETSc runtime: ${:.2f}'\n",
    "      .format(petsc_cost))\n",
    "print('- Reported costs: ${:.2f}'.format(costs.sum()))\n",
    "print('- Undercharged by ${:.2f}'.format(petsc_cost - costs.sum()))\n",
    "plot_daily_charges(dates, hours, costs,\n",
    "                   n_nodes_task1 + n_nodes_task2, hour_cost)"
   ]
  },
  {
   "cell_type": "markdown",
   "metadata": {},
   "source": [
    "Comparing the costs reported in our billing statement with the cost based on the PETSc runtime, we estimate that we have been undercharged by \\$489 for those two task."
   ]
  },
  {
   "cell_type": "code",
   "execution_count": 29,
   "metadata": {},
   "outputs": [
    {
     "data": {
      "text/html": [
       "<div>\n",
       "<style scoped>\n",
       "    .dataframe tbody tr th:only-of-type {\n",
       "        vertical-align: middle;\n",
       "    }\n",
       "\n",
       "    .dataframe tbody tr th {\n",
       "        vertical-align: top;\n",
       "    }\n",
       "\n",
       "    .dataframe thead th {\n",
       "        text-align: right;\n",
       "    }\n",
       "</style>\n",
       "<table border=\"1\" class=\"dataframe\">\n",
       "  <thead>\n",
       "    <tr style=\"text-align: right;\">\n",
       "      <th></th>\n",
       "      <th>Date</th>\n",
       "      <th>ServiceName</th>\n",
       "      <th>ServiceType</th>\n",
       "      <th>ServiceRegion</th>\n",
       "      <th>ServiceResource</th>\n",
       "      <th>Quantity</th>\n",
       "      <th>Cost</th>\n",
       "    </tr>\n",
       "  </thead>\n",
       "  <tbody>\n",
       "    <tr>\n",
       "      <th>1570</th>\n",
       "      <td>12/22/2017</td>\n",
       "      <td>Virtual Machines</td>\n",
       "      <td>Standard_NC24 VM</td>\n",
       "      <td>US East</td>\n",
       "      <td>Compute Hours</td>\n",
       "      <td>0.583344</td>\n",
       "      <td>2.100038</td>\n",
       "    </tr>\n",
       "    <tr>\n",
       "      <th>1576</th>\n",
       "      <td>12/22/2017</td>\n",
       "      <td>Virtual Machines</td>\n",
       "      <td>Standard_NC24r VM</td>\n",
       "      <td>US East</td>\n",
       "      <td>Compute Hours</td>\n",
       "      <td>58.950058</td>\n",
       "      <td>233.442230</td>\n",
       "    </tr>\n",
       "  </tbody>\n",
       "</table>\n",
       "</div>"
      ],
      "text/plain": [
       "            Date       ServiceName        ServiceType ServiceRegion  \\\n",
       "1570  12/22/2017  Virtual Machines   Standard_NC24 VM       US East   \n",
       "1576  12/22/2017  Virtual Machines  Standard_NC24r VM       US East   \n",
       "\n",
       "     ServiceResource   Quantity        Cost  \n",
       "1570   Compute Hours   0.583344    2.100038  \n",
       "1576   Compute Hours  58.950058  233.442230  "
      ]
     },
     "execution_count": 29,
     "metadata": {},
     "output_type": "execute_result"
    }
   ],
   "source": [
    "# Get data on a specific day\n",
    "date = '2017-12-22'\n",
    "mask = pandas.to_datetime(data['Date']) == date\n",
    "subdata = data[mask]\n",
    "# Get data for usage of virtual machines\n",
    "mask = subdata['ServiceName'] == 'Virtual Machines'\n",
    "subdata[mask]"
   ]
  },
  {
   "cell_type": "markdown",
   "metadata": {},
   "source": [
    "#### Networking (Data Transfer)"
   ]
  },
  {
   "cell_type": "code",
   "execution_count": 30,
   "metadata": {},
   "outputs": [
    {
     "name": "stdout",
     "output_type": "stream",
     "text": [
      "Networking charge: $12.31\n"
     ]
    }
   ],
   "source": [
    "# Get data within specific period\n",
    "start, end = '2017-12-22', '2017-12-29'\n",
    "mask = ((pandas.to_datetime(data['Date']) >= start) &\n",
    "        (pandas.to_datetime(data['Date']) <= end))\n",
    "subdata = data[mask]\n",
    "# Get data for networking\n",
    "mask = subdata['ServiceName'] == 'Networking'\n",
    "subdata = subdata[mask]\n",
    "\n",
    "print('Networking charge: ${:.2f}'.format(subdata['Cost'].sum()))"
   ]
  },
  {
   "cell_type": "markdown",
   "metadata": {},
   "source": [
    "Each simulation generated 125 GB of data.\n",
    "The numerical solution for the run at Reynolds number 1,000 and a 35-degree angle of attack was transferred from Azure Storage to our local machine on December 22, 2017.\n",
    "The numerical solution of the second run was transferred two days later.\n",
    "Each transfer cost about \\$6."
   ]
  },
  {
   "cell_type": "code",
   "execution_count": 31,
   "metadata": {},
   "outputs": [
    {
     "data": {
      "text/html": [
       "<div>\n",
       "<style scoped>\n",
       "    .dataframe tbody tr th:only-of-type {\n",
       "        vertical-align: middle;\n",
       "    }\n",
       "\n",
       "    .dataframe tbody tr th {\n",
       "        vertical-align: top;\n",
       "    }\n",
       "\n",
       "    .dataframe thead th {\n",
       "        text-align: right;\n",
       "    }\n",
       "</style>\n",
       "<table border=\"1\" class=\"dataframe\">\n",
       "  <thead>\n",
       "    <tr style=\"text-align: right;\">\n",
       "      <th></th>\n",
       "      <th>Date</th>\n",
       "      <th>ServiceName</th>\n",
       "      <th>ServiceType</th>\n",
       "      <th>ServiceRegion</th>\n",
       "      <th>ServiceResource</th>\n",
       "      <th>Quantity</th>\n",
       "      <th>Cost</th>\n",
       "    </tr>\n",
       "  </thead>\n",
       "  <tbody>\n",
       "    <tr>\n",
       "      <th>1644</th>\n",
       "      <td>12/27/2017</td>\n",
       "      <td>Networking</td>\n",
       "      <td>All</td>\n",
       "      <td>Zone 1</td>\n",
       "      <td>Data Transfer Out (GB)</td>\n",
       "      <td>124.503279</td>\n",
       "      <td>6.038409</td>\n",
       "    </tr>\n",
       "    <tr>\n",
       "      <th>1674</th>\n",
       "      <td>12/29/2017</td>\n",
       "      <td>Networking</td>\n",
       "      <td>All</td>\n",
       "      <td>Zone 1</td>\n",
       "      <td>Data Transfer Out (GB)</td>\n",
       "      <td>124.506586</td>\n",
       "      <td>6.038569</td>\n",
       "    </tr>\n",
       "  </tbody>\n",
       "</table>\n",
       "</div>"
      ],
      "text/plain": [
       "            Date ServiceName ServiceType ServiceRegion  \\\n",
       "1644  12/27/2017  Networking         All        Zone 1   \n",
       "1674  12/29/2017  Networking         All        Zone 1   \n",
       "\n",
       "             ServiceResource    Quantity      Cost  \n",
       "1644  Data Transfer Out (GB)  124.503279  6.038409  \n",
       "1674  Data Transfer Out (GB)  124.506586  6.038569  "
      ]
     },
     "execution_count": 31,
     "metadata": {},
     "output_type": "execute_result"
    }
   ],
   "source": [
    "dates = ['2017-12-27', '2017-12-29']\n",
    "mask = ((pandas.to_datetime(data['Date']) == dates[0]) |\n",
    "        (pandas.to_datetime(data['Date']) == dates[1]))\n",
    "subdata = data[mask]\n",
    "mask = ((subdata['ServiceName'] == 'Networking') &\n",
    "        (subdata['ServiceResource'] == 'Data Transfer Out (GB)'))\n",
    "subdata[mask]"
   ]
  },
  {
   "cell_type": "markdown",
   "metadata": {},
   "source": [
    "#### Data Management"
   ]
  },
  {
   "cell_type": "code",
   "execution_count": 32,
   "metadata": {},
   "outputs": [
    {
     "name": "stdout",
     "output_type": "stream",
     "text": [
      "Data Management costs:\n",
      "- Standard IO - Table Read Operation Units (in 10,000s): $0.00\n",
      "- Standard IO - Block Blob Write Operation Units (in 10,000s): $0.00\n",
      "- Standard IO - Block Blob Read Operation Units (in 10,000s): $0.00\n",
      "- Standard IO - File Protocol Operation Units (in 10,000s): $0.18\n",
      "- Standard IO - File Read Operation Units (in 10,000s): $0.19\n",
      "- Standard IO - File Delete Operation Units (in 10,000s): $0.00\n",
      "- Standard IO - Block Blob Delete Operation Units (in 10,000s): $0.00\n",
      "- Standard IO - Table Scan Operation Units (in 10,000s): $0.00\n",
      "- Standard IO - Table Write Operation Units (in 10,000s): $0.00\n",
      "- Standard IO - Table Batch Write Operation Units (in 10,000s): $0.00\n",
      "- Standard IO - File List Operation Units (in 10,000s): $0.00\n",
      "- Standard IO - Block Blob List Operation Units (in 10,000s): $0.00\n",
      "- Standard IO - File Write Operation Units (in 10,000s): $3.14\n"
     ]
    }
   ],
   "source": [
    "# Get data within specific period\n",
    "start, end = '2017-12-22', '2017-12-29'\n",
    "mask = ((pandas.to_datetime(data['Date']) >= start) &\n",
    "        (pandas.to_datetime(data['Date']) <= end))\n",
    "subdata = data[mask]\n",
    "# Get data for data management\n",
    "mask = subdata['ServiceName'] == 'Data Management'\n",
    "subdata = subdata[mask]\n",
    "# Get and print charges for data management\n",
    "service_resources = subdata['ServiceResource'].unique()\n",
    "print('Data Management costs:')\n",
    "for resource in service_resources:\n",
    "    mask = subdata['ServiceResource'] == resource\n",
    "    cost = subdata[mask]['Cost'].sum()\n",
    "    print('- {}: ${:.2f}'.format(resource, cost))"
   ]
  },
  {
   "cell_type": "markdown",
   "metadata": {},
   "source": [
    "---"
   ]
  }
 ],
 "metadata": {
  "kernelspec": {
   "display_name": "Python 3",
   "language": "python",
   "name": "python3"
  },
  "language_info": {
   "codemirror_mode": {
    "name": "ipython",
    "version": 3
   },
   "file_extension": ".py",
   "mimetype": "text/x-python",
   "name": "python",
   "nbconvert_exporter": "python",
   "pygments_lexer": "ipython3",
   "version": "3.6.4"
  }
 },
 "nbformat": 4,
 "nbformat_minor": 2
}
